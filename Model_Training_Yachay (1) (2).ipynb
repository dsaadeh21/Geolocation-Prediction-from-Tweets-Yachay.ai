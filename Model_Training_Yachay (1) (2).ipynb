{
 "cells": [
  {
   "cell_type": "markdown",
   "metadata": {
    "id": "HjYXJH2-Raiv"
   },
   "source": [
    "<span style=\"font-size:24px; font-weight:bold;\">Installing Libraries</span>"
   ]
  },
  {
   "cell_type": "code",
   "execution_count": 3,
   "metadata": {
    "execution": {
     "iopub.execute_input": "2023-05-29T22:13:10.521168Z",
     "iopub.status.busy": "2023-05-29T22:13:10.520377Z",
     "iopub.status.idle": "2023-05-29T22:13:13.204302Z",
     "shell.execute_reply": "2023-05-29T22:13:13.203556Z",
     "shell.execute_reply.started": "2023-05-29T22:13:10.521141Z"
    }
   },
   "outputs": [
    {
     "name": "stdout",
     "output_type": "stream",
     "text": [
      "Requirement already satisfied: tensorboard in /usr/local/lib/python3.9/dist-packages (2.9.1)\n",
      "Requirement already satisfied: absl-py>=0.4 in /usr/local/lib/python3.9/dist-packages (from tensorboard) (1.4.0)\n",
      "Requirement already satisfied: grpcio>=1.24.3 in /usr/local/lib/python3.9/dist-packages (from tensorboard) (1.51.1)\n",
      "Requirement already satisfied: google-auth<3,>=1.6.3 in /usr/local/lib/python3.9/dist-packages (from tensorboard) (2.16.0)\n",
      "Requirement already satisfied: google-auth-oauthlib<0.5,>=0.4.1 in /usr/local/lib/python3.9/dist-packages (from tensorboard) (0.4.6)\n",
      "Requirement already satisfied: markdown>=2.6.8 in /usr/local/lib/python3.9/dist-packages (from tensorboard) (3.4.1)\n",
      "Requirement already satisfied: numpy>=1.12.0 in /usr/local/lib/python3.9/dist-packages (from tensorboard) (1.23.4)\n",
      "Requirement already satisfied: protobuf<3.20,>=3.9.2 in /usr/local/lib/python3.9/dist-packages (from tensorboard) (3.19.6)\n",
      "Requirement already satisfied: requests<3,>=2.21.0 in /usr/local/lib/python3.9/dist-packages (from tensorboard) (2.28.2)\n",
      "Requirement already satisfied: setuptools>=41.0.0 in /usr/local/lib/python3.9/dist-packages (from tensorboard) (66.1.1)\n",
      "Requirement already satisfied: tensorboard-data-server<0.7.0,>=0.6.0 in /usr/local/lib/python3.9/dist-packages (from tensorboard) (0.6.1)\n",
      "Requirement already satisfied: tensorboard-plugin-wit>=1.6.0 in /usr/local/lib/python3.9/dist-packages (from tensorboard) (1.8.1)\n",
      "Requirement already satisfied: werkzeug>=1.0.1 in /usr/local/lib/python3.9/dist-packages (from tensorboard) (2.2.2)\n",
      "Requirement already satisfied: wheel>=0.26 in /usr/local/lib/python3.9/dist-packages (from tensorboard) (0.35.1)\n",
      "Requirement already satisfied: cachetools<6.0,>=2.0.0 in /usr/local/lib/python3.9/dist-packages (from google-auth<3,>=1.6.3->tensorboard) (5.3.0)\n",
      "Requirement already satisfied: pyasn1-modules>=0.2.1 in /usr/local/lib/python3.9/dist-packages (from google-auth<3,>=1.6.3->tensorboard) (0.2.8)\n",
      "Requirement already satisfied: six>=1.9.0 in /usr/lib/python3/dist-packages (from google-auth<3,>=1.6.3->tensorboard) (1.14.0)\n",
      "Requirement already satisfied: rsa<5,>=3.1.4 in /usr/local/lib/python3.9/dist-packages (from google-auth<3,>=1.6.3->tensorboard) (4.7.2)\n",
      "Requirement already satisfied: requests-oauthlib>=0.7.0 in /usr/local/lib/python3.9/dist-packages (from google-auth-oauthlib<0.5,>=0.4.1->tensorboard) (1.3.1)\n",
      "Requirement already satisfied: importlib-metadata>=4.4 in /usr/local/lib/python3.9/dist-packages (from markdown>=2.6.8->tensorboard) (6.0.0)\n",
      "Requirement already satisfied: charset-normalizer<4,>=2 in /usr/local/lib/python3.9/dist-packages (from requests<3,>=2.21.0->tensorboard) (2.1.1)\n",
      "Requirement already satisfied: idna<4,>=2.5 in /usr/lib/python3/dist-packages (from requests<3,>=2.21.0->tensorboard) (2.8)\n",
      "Requirement already satisfied: urllib3<1.27,>=1.21.1 in /usr/local/lib/python3.9/dist-packages (from requests<3,>=2.21.0->tensorboard) (1.26.14)\n",
      "Requirement already satisfied: certifi>=2017.4.17 in /usr/lib/python3/dist-packages (from requests<3,>=2.21.0->tensorboard) (2019.11.28)\n",
      "Requirement already satisfied: MarkupSafe>=2.1.1 in /usr/local/lib/python3.9/dist-packages (from werkzeug>=1.0.1->tensorboard) (2.1.2)\n",
      "Requirement already satisfied: zipp>=0.5 in /usr/local/lib/python3.9/dist-packages (from importlib-metadata>=4.4->markdown>=2.6.8->tensorboard) (3.11.0)\n",
      "Requirement already satisfied: pyasn1<0.5.0,>=0.4.6 in /usr/local/lib/python3.9/dist-packages (from pyasn1-modules>=0.2.1->google-auth<3,>=1.6.3->tensorboard) (0.4.8)\n",
      "Requirement already satisfied: oauthlib>=3.0.0 in /usr/local/lib/python3.9/dist-packages (from requests-oauthlib>=0.7.0->google-auth-oauthlib<0.5,>=0.4.1->tensorboard) (3.2.2)\n",
      "\u001b[33mWARNING: Running pip as the 'root' user can result in broken permissions and conflicting behaviour with the system package manager. It is recommended to use a virtual environment instead: https://pip.pypa.io/warnings/venv\u001b[0m\u001b[33m\n",
      "\u001b[0mNote: you may need to restart the kernel to use updated packages.\n"
     ]
    }
   ],
   "source": [
    "pip install tensorboard"
   ]
  },
  {
   "cell_type": "code",
   "execution_count": 4,
   "metadata": {
    "execution": {
     "iopub.execute_input": "2023-05-29T22:13:13.205985Z",
     "iopub.status.busy": "2023-05-29T22:13:13.205750Z",
     "iopub.status.idle": "2023-05-29T22:13:15.829923Z",
     "shell.execute_reply": "2023-05-29T22:13:15.828977Z",
     "shell.execute_reply.started": "2023-05-29T22:13:13.205960Z"
    }
   },
   "outputs": [
    {
     "name": "stdout",
     "output_type": "stream",
     "text": [
      "Requirement already satisfied: graphviz in /usr/local/lib/python3.9/dist-packages (0.20.1)\n",
      "\u001b[33mWARNING: Running pip as the 'root' user can result in broken permissions and conflicting behaviour with the system package manager. It is recommended to use a virtual environment instead: https://pip.pypa.io/warnings/venv\u001b[0m\u001b[33m\n",
      "\u001b[0m"
     ]
    }
   ],
   "source": [
    "!pip install graphviz"
   ]
  },
  {
   "cell_type": "code",
   "execution_count": 5,
   "metadata": {
    "execution": {
     "iopub.execute_input": "2023-05-29T22:13:15.831137Z",
     "iopub.status.busy": "2023-05-29T22:13:15.830924Z",
     "iopub.status.idle": "2023-05-29T22:13:18.425333Z",
     "shell.execute_reply": "2023-05-29T22:13:18.424535Z",
     "shell.execute_reply.started": "2023-05-29T22:13:15.831114Z"
    }
   },
   "outputs": [
    {
     "name": "stdout",
     "output_type": "stream",
     "text": [
      "Requirement already satisfied: pydot in /usr/local/lib/python3.9/dist-packages (1.4.2)\n",
      "Requirement already satisfied: graphviz in /usr/local/lib/python3.9/dist-packages (0.20.1)\n",
      "Requirement already satisfied: pydotplus in /usr/local/lib/python3.9/dist-packages (2.0.2)\n",
      "Requirement already satisfied: pyparsing>=2.1.4 in /usr/local/lib/python3.9/dist-packages (from pydot) (3.0.9)\n",
      "\u001b[33mWARNING: Running pip as the 'root' user can result in broken permissions and conflicting behaviour with the system package manager. It is recommended to use a virtual environment instead: https://pip.pypa.io/warnings/venv\u001b[0m\u001b[33m\n",
      "\u001b[0mNote: you may need to restart the kernel to use updated packages.\n"
     ]
    }
   ],
   "source": [
    "pip install pydot graphviz pydotplus"
   ]
  },
  {
   "cell_type": "code",
   "execution_count": 6,
   "metadata": {
    "execution": {
     "iopub.execute_input": "2023-05-29T22:13:18.427351Z",
     "iopub.status.busy": "2023-05-29T22:13:18.427137Z",
     "iopub.status.idle": "2023-05-29T22:13:21.193831Z",
     "shell.execute_reply": "2023-05-29T22:13:21.192886Z",
     "shell.execute_reply.started": "2023-05-29T22:13:18.427328Z"
    }
   },
   "outputs": [
    {
     "name": "stdout",
     "output_type": "stream",
     "text": [
      "Requirement already satisfied: pip in /usr/local/lib/python3.9/dist-packages (23.1.2)\n",
      "\u001b[33mWARNING: Running pip as the 'root' user can result in broken permissions and conflicting behaviour with the system package manager. It is recommended to use a virtual environment instead: https://pip.pypa.io/warnings/venv\u001b[0m\u001b[33m\n",
      "\u001b[0mNote: you may need to restart the kernel to use updated packages.\n"
     ]
    }
   ],
   "source": [
    "pip install --upgrade pip\n"
   ]
  },
  {
   "cell_type": "code",
   "execution_count": 7,
   "metadata": {
    "execution": {
     "iopub.execute_input": "2023-05-29T22:13:21.195388Z",
     "iopub.status.busy": "2023-05-29T22:13:21.195101Z",
     "iopub.status.idle": "2023-05-29T22:13:23.892136Z",
     "shell.execute_reply": "2023-05-29T22:13:23.891105Z",
     "shell.execute_reply.started": "2023-05-29T22:13:21.195355Z"
    }
   },
   "outputs": [
    {
     "name": "stdout",
     "output_type": "stream",
     "text": [
      "Requirement already satisfied: tensorboard in /usr/local/lib/python3.9/dist-packages (2.9.1)\n",
      "Requirement already satisfied: absl-py>=0.4 in /usr/local/lib/python3.9/dist-packages (from tensorboard) (1.4.0)\n",
      "Requirement already satisfied: grpcio>=1.24.3 in /usr/local/lib/python3.9/dist-packages (from tensorboard) (1.51.1)\n",
      "Requirement already satisfied: google-auth<3,>=1.6.3 in /usr/local/lib/python3.9/dist-packages (from tensorboard) (2.16.0)\n",
      "Requirement already satisfied: google-auth-oauthlib<0.5,>=0.4.1 in /usr/local/lib/python3.9/dist-packages (from tensorboard) (0.4.6)\n",
      "Requirement already satisfied: markdown>=2.6.8 in /usr/local/lib/python3.9/dist-packages (from tensorboard) (3.4.1)\n",
      "Requirement already satisfied: numpy>=1.12.0 in /usr/local/lib/python3.9/dist-packages (from tensorboard) (1.23.4)\n",
      "Requirement already satisfied: protobuf<3.20,>=3.9.2 in /usr/local/lib/python3.9/dist-packages (from tensorboard) (3.19.6)\n",
      "Requirement already satisfied: requests<3,>=2.21.0 in /usr/local/lib/python3.9/dist-packages (from tensorboard) (2.28.2)\n",
      "Requirement already satisfied: setuptools>=41.0.0 in /usr/local/lib/python3.9/dist-packages (from tensorboard) (66.1.1)\n",
      "Requirement already satisfied: tensorboard-data-server<0.7.0,>=0.6.0 in /usr/local/lib/python3.9/dist-packages (from tensorboard) (0.6.1)\n",
      "Requirement already satisfied: tensorboard-plugin-wit>=1.6.0 in /usr/local/lib/python3.9/dist-packages (from tensorboard) (1.8.1)\n",
      "Requirement already satisfied: werkzeug>=1.0.1 in /usr/local/lib/python3.9/dist-packages (from tensorboard) (2.2.2)\n",
      "Requirement already satisfied: wheel>=0.26 in /usr/local/lib/python3.9/dist-packages (from tensorboard) (0.35.1)\n",
      "Requirement already satisfied: cachetools<6.0,>=2.0.0 in /usr/local/lib/python3.9/dist-packages (from google-auth<3,>=1.6.3->tensorboard) (5.3.0)\n",
      "Requirement already satisfied: pyasn1-modules>=0.2.1 in /usr/local/lib/python3.9/dist-packages (from google-auth<3,>=1.6.3->tensorboard) (0.2.8)\n",
      "Requirement already satisfied: six>=1.9.0 in /usr/lib/python3/dist-packages (from google-auth<3,>=1.6.3->tensorboard) (1.14.0)\n",
      "Requirement already satisfied: rsa<5,>=3.1.4 in /usr/local/lib/python3.9/dist-packages (from google-auth<3,>=1.6.3->tensorboard) (4.7.2)\n",
      "Requirement already satisfied: requests-oauthlib>=0.7.0 in /usr/local/lib/python3.9/dist-packages (from google-auth-oauthlib<0.5,>=0.4.1->tensorboard) (1.3.1)\n",
      "Requirement already satisfied: importlib-metadata>=4.4 in /usr/local/lib/python3.9/dist-packages (from markdown>=2.6.8->tensorboard) (6.0.0)\n",
      "Requirement already satisfied: charset-normalizer<4,>=2 in /usr/local/lib/python3.9/dist-packages (from requests<3,>=2.21.0->tensorboard) (2.1.1)\n",
      "Requirement already satisfied: idna<4,>=2.5 in /usr/lib/python3/dist-packages (from requests<3,>=2.21.0->tensorboard) (2.8)\n",
      "Requirement already satisfied: urllib3<1.27,>=1.21.1 in /usr/local/lib/python3.9/dist-packages (from requests<3,>=2.21.0->tensorboard) (1.26.14)\n",
      "Requirement already satisfied: certifi>=2017.4.17 in /usr/lib/python3/dist-packages (from requests<3,>=2.21.0->tensorboard) (2019.11.28)\n",
      "Requirement already satisfied: MarkupSafe>=2.1.1 in /usr/local/lib/python3.9/dist-packages (from werkzeug>=1.0.1->tensorboard) (2.1.2)\n",
      "Requirement already satisfied: zipp>=0.5 in /usr/local/lib/python3.9/dist-packages (from importlib-metadata>=4.4->markdown>=2.6.8->tensorboard) (3.11.0)\n",
      "Requirement already satisfied: pyasn1<0.5.0,>=0.4.6 in /usr/local/lib/python3.9/dist-packages (from pyasn1-modules>=0.2.1->google-auth<3,>=1.6.3->tensorboard) (0.4.8)\n",
      "Requirement already satisfied: oauthlib>=3.0.0 in /usr/local/lib/python3.9/dist-packages (from requests-oauthlib>=0.7.0->google-auth-oauthlib<0.5,>=0.4.1->tensorboard) (3.2.2)\n",
      "\u001b[33mWARNING: Running pip as the 'root' user can result in broken permissions and conflicting behaviour with the system package manager. It is recommended to use a virtual environment instead: https://pip.pypa.io/warnings/venv\u001b[0m\u001b[33m\n",
      "\u001b[0mNote: you may need to restart the kernel to use updated packages.\n"
     ]
    }
   ],
   "source": [
    "pip install tensorboard"
   ]
  },
  {
   "cell_type": "code",
   "execution_count": 8,
   "metadata": {
    "colab": {
     "base_uri": "https://localhost:8080/"
    },
    "execution": {
     "iopub.execute_input": "2023-05-29T22:13:23.894597Z",
     "iopub.status.busy": "2023-05-29T22:13:23.893710Z",
     "iopub.status.idle": "2023-05-29T22:13:26.534141Z",
     "shell.execute_reply": "2023-05-29T22:13:26.533131Z",
     "shell.execute_reply.started": "2023-05-29T22:13:23.894562Z"
    },
    "id": "AKnJAhGjaIWo",
    "outputId": "55dc6f42-7e11-4206-e0a8-5d64b7dcd268"
   },
   "outputs": [
    {
     "name": "stdout",
     "output_type": "stream",
     "text": [
      "Requirement already satisfied: geopandas in /usr/local/lib/python3.9/dist-packages (0.13.0)\n",
      "Requirement already satisfied: fiona>=1.8.19 in /usr/local/lib/python3.9/dist-packages (from geopandas) (1.9.4.post1)\n",
      "Requirement already satisfied: packaging in /usr/local/lib/python3.9/dist-packages (from geopandas) (23.0)\n",
      "Requirement already satisfied: pandas>=1.1.0 in /usr/local/lib/python3.9/dist-packages (from geopandas) (1.5.0)\n",
      "Requirement already satisfied: pyproj>=3.0.1 in /usr/local/lib/python3.9/dist-packages (from geopandas) (3.5.0)\n",
      "Requirement already satisfied: shapely>=1.7.1 in /usr/local/lib/python3.9/dist-packages (from geopandas) (2.0.1)\n",
      "Requirement already satisfied: attrs>=19.2.0 in /usr/local/lib/python3.9/dist-packages (from fiona>=1.8.19->geopandas) (23.1.0)\n",
      "Requirement already satisfied: certifi in /usr/lib/python3/dist-packages (from fiona>=1.8.19->geopandas) (2019.11.28)\n",
      "Requirement already satisfied: click~=8.0 in /usr/local/lib/python3.9/dist-packages (from fiona>=1.8.19->geopandas) (8.1.3)\n",
      "Requirement already satisfied: click-plugins>=1.0 in /usr/local/lib/python3.9/dist-packages (from fiona>=1.8.19->geopandas) (1.1.1)\n",
      "Requirement already satisfied: cligj>=0.5 in /usr/local/lib/python3.9/dist-packages (from fiona>=1.8.19->geopandas) (0.7.2)\n",
      "Requirement already satisfied: six in /usr/lib/python3/dist-packages (from fiona>=1.8.19->geopandas) (1.14.0)\n",
      "Requirement already satisfied: importlib-metadata in /usr/local/lib/python3.9/dist-packages (from fiona>=1.8.19->geopandas) (6.0.0)\n",
      "Requirement already satisfied: python-dateutil>=2.8.1 in /usr/local/lib/python3.9/dist-packages (from pandas>=1.1.0->geopandas) (2.8.2)\n",
      "Requirement already satisfied: pytz>=2020.1 in /usr/local/lib/python3.9/dist-packages (from pandas>=1.1.0->geopandas) (2022.7.1)\n",
      "Requirement already satisfied: numpy>=1.20.3 in /usr/local/lib/python3.9/dist-packages (from pandas>=1.1.0->geopandas) (1.23.4)\n",
      "Requirement already satisfied: zipp>=0.5 in /usr/local/lib/python3.9/dist-packages (from importlib-metadata->fiona>=1.8.19->geopandas) (3.11.0)\n",
      "\u001b[33mWARNING: Running pip as the 'root' user can result in broken permissions and conflicting behaviour with the system package manager. It is recommended to use a virtual environment instead: https://pip.pypa.io/warnings/venv\u001b[0m\u001b[33m\n",
      "\u001b[0mNote: you may need to restart the kernel to use updated packages.\n"
     ]
    }
   ],
   "source": [
    "pip install geopandas"
   ]
  },
  {
   "cell_type": "code",
   "execution_count": 9,
   "metadata": {
    "colab": {
     "base_uri": "https://localhost:8080/"
    },
    "execution": {
     "iopub.execute_input": "2023-05-29T22:13:26.535810Z",
     "iopub.status.busy": "2023-05-29T22:13:26.535488Z",
     "iopub.status.idle": "2023-05-29T22:13:29.060807Z",
     "shell.execute_reply": "2023-05-29T22:13:29.059706Z",
     "shell.execute_reply.started": "2023-05-29T22:13:26.535784Z"
    },
    "id": "KjVPl1r6Rai0",
    "outputId": "d76a888b-84af-47c8-9d03-77dc915025eb"
   },
   "outputs": [
    {
     "name": "stdout",
     "output_type": "stream",
     "text": [
      "Requirement already satisfied: geopy in /usr/local/lib/python3.9/dist-packages (2.3.0)\n",
      "Requirement already satisfied: geographiclib<3,>=1.52 in /usr/local/lib/python3.9/dist-packages (from geopy) (2.0)\n",
      "\u001b[33mWARNING: Running pip as the 'root' user can result in broken permissions and conflicting behaviour with the system package manager. It is recommended to use a virtual environment instead: https://pip.pypa.io/warnings/venv\u001b[0m\u001b[33m\n",
      "\u001b[0mNote: you may need to restart the kernel to use updated packages.\n"
     ]
    }
   ],
   "source": [
    "pip install geopy"
   ]
  },
  {
   "cell_type": "code",
   "execution_count": 10,
   "metadata": {
    "colab": {
     "base_uri": "https://localhost:8080/"
    },
    "execution": {
     "iopub.execute_input": "2023-05-29T22:13:29.063135Z",
     "iopub.status.busy": "2023-05-29T22:13:29.062402Z",
     "iopub.status.idle": "2023-05-29T22:13:31.612638Z",
     "shell.execute_reply": "2023-05-29T22:13:31.611788Z",
     "shell.execute_reply.started": "2023-05-29T22:13:29.063105Z"
    },
    "id": "aSF1GvlTRai1",
    "outputId": "c63041f3-b62e-4485-8d69-7d7bf2bb4fb0"
   },
   "outputs": [
    {
     "name": "stdout",
     "output_type": "stream",
     "text": [
      "Requirement already satisfied: textblob in /usr/local/lib/python3.9/dist-packages (0.17.1)\n",
      "Requirement already satisfied: nltk>=3.1 in /usr/local/lib/python3.9/dist-packages (from textblob) (3.7)\n",
      "Requirement already satisfied: click in /usr/local/lib/python3.9/dist-packages (from nltk>=3.1->textblob) (8.1.3)\n",
      "Requirement already satisfied: joblib in /usr/local/lib/python3.9/dist-packages (from nltk>=3.1->textblob) (1.2.0)\n",
      "Requirement already satisfied: regex>=2021.8.3 in /usr/local/lib/python3.9/dist-packages (from nltk>=3.1->textblob) (2022.10.31)\n",
      "Requirement already satisfied: tqdm in /usr/local/lib/python3.9/dist-packages (from nltk>=3.1->textblob) (4.64.1)\n",
      "\u001b[33mWARNING: Running pip as the 'root' user can result in broken permissions and conflicting behaviour with the system package manager. It is recommended to use a virtual environment instead: https://pip.pypa.io/warnings/venv\u001b[0m\u001b[33m\n",
      "\u001b[0mNote: you may need to restart the kernel to use updated packages.\n"
     ]
    }
   ],
   "source": [
    "pip install textblob"
   ]
  },
  {
   "cell_type": "code",
   "execution_count": 11,
   "metadata": {
    "colab": {
     "base_uri": "https://localhost:8080/"
    },
    "execution": {
     "iopub.execute_input": "2023-05-29T22:13:31.614320Z",
     "iopub.status.busy": "2023-05-29T22:13:31.614070Z",
     "iopub.status.idle": "2023-05-29T22:13:34.174190Z",
     "shell.execute_reply": "2023-05-29T22:13:34.173239Z",
     "shell.execute_reply.started": "2023-05-29T22:13:31.614272Z"
    },
    "id": "tuTcV47Hypvo",
    "outputId": "3d4740da-9706-48bb-c6e1-27769a1240b0"
   },
   "outputs": [
    {
     "name": "stdout",
     "output_type": "stream",
     "text": [
      "Requirement already satisfied: plotly in /usr/local/lib/python3.9/dist-packages (5.14.1)\n",
      "Requirement already satisfied: tenacity>=6.2.0 in /usr/local/lib/python3.9/dist-packages (from plotly) (8.2.2)\n",
      "Requirement already satisfied: packaging in /usr/local/lib/python3.9/dist-packages (from plotly) (23.0)\n",
      "\u001b[33mWARNING: Running pip as the 'root' user can result in broken permissions and conflicting behaviour with the system package manager. It is recommended to use a virtual environment instead: https://pip.pypa.io/warnings/venv\u001b[0m\u001b[33m\n",
      "\u001b[0mNote: you may need to restart the kernel to use updated packages.\n"
     ]
    }
   ],
   "source": [
    "pip install plotly"
   ]
  },
  {
   "cell_type": "code",
   "execution_count": 12,
   "metadata": {
    "colab": {
     "base_uri": "https://localhost:8080/"
    },
    "execution": {
     "iopub.execute_input": "2023-05-29T22:13:34.178250Z",
     "iopub.status.busy": "2023-05-29T22:13:34.177699Z",
     "iopub.status.idle": "2023-05-29T22:13:36.797092Z",
     "shell.execute_reply": "2023-05-29T22:13:36.796204Z",
     "shell.execute_reply.started": "2023-05-29T22:13:34.178223Z"
    },
    "id": "pVc32hVBRai1",
    "outputId": "7433a1d9-60b4-4830-92f2-96f920771e08"
   },
   "outputs": [
    {
     "name": "stdout",
     "output_type": "stream",
     "text": [
      "Requirement already satisfied: transformers in /usr/local/lib/python3.9/dist-packages (4.21.3)\n",
      "Requirement already satisfied: filelock in /usr/local/lib/python3.9/dist-packages (from transformers) (3.9.0)\n",
      "Requirement already satisfied: huggingface-hub<1.0,>=0.1.0 in /usr/local/lib/python3.9/dist-packages (from transformers) (0.12.0)\n",
      "Requirement already satisfied: numpy>=1.17 in /usr/local/lib/python3.9/dist-packages (from transformers) (1.23.4)\n",
      "Requirement already satisfied: packaging>=20.0 in /usr/local/lib/python3.9/dist-packages (from transformers) (23.0)\n",
      "Requirement already satisfied: pyyaml>=5.1 in /usr/local/lib/python3.9/dist-packages (from transformers) (5.4.1)\n",
      "Requirement already satisfied: regex!=2019.12.17 in /usr/local/lib/python3.9/dist-packages (from transformers) (2022.10.31)\n",
      "Requirement already satisfied: requests in /usr/local/lib/python3.9/dist-packages (from transformers) (2.28.2)\n",
      "Requirement already satisfied: tokenizers!=0.11.3,<0.13,>=0.11.1 in /usr/local/lib/python3.9/dist-packages (from transformers) (0.12.1)\n",
      "Requirement already satisfied: tqdm>=4.27 in /usr/local/lib/python3.9/dist-packages (from transformers) (4.64.1)\n",
      "Requirement already satisfied: typing-extensions>=3.7.4.3 in /usr/local/lib/python3.9/dist-packages (from huggingface-hub<1.0,>=0.1.0->transformers) (4.4.0)\n",
      "Requirement already satisfied: charset-normalizer<4,>=2 in /usr/local/lib/python3.9/dist-packages (from requests->transformers) (2.1.1)\n",
      "Requirement already satisfied: idna<4,>=2.5 in /usr/lib/python3/dist-packages (from requests->transformers) (2.8)\n",
      "Requirement already satisfied: urllib3<1.27,>=1.21.1 in /usr/local/lib/python3.9/dist-packages (from requests->transformers) (1.26.14)\n",
      "Requirement already satisfied: certifi>=2017.4.17 in /usr/lib/python3/dist-packages (from requests->transformers) (2019.11.28)\n",
      "\u001b[33mWARNING: Running pip as the 'root' user can result in broken permissions and conflicting behaviour with the system package manager. It is recommended to use a virtual environment instead: https://pip.pypa.io/warnings/venv\u001b[0m\u001b[33m\n",
      "\u001b[0mNote: you may need to restart the kernel to use updated packages.\n"
     ]
    }
   ],
   "source": [
    "pip install transformers\n"
   ]
  },
  {
   "cell_type": "code",
   "execution_count": 13,
   "metadata": {
    "colab": {
     "base_uri": "https://localhost:8080/"
    },
    "execution": {
     "iopub.execute_input": "2023-05-29T22:13:36.798640Z",
     "iopub.status.busy": "2023-05-29T22:13:36.798431Z",
     "iopub.status.idle": "2023-05-29T22:13:39.395080Z",
     "shell.execute_reply": "2023-05-29T22:13:39.394135Z",
     "shell.execute_reply.started": "2023-05-29T22:13:36.798616Z"
    },
    "id": "ZlBse67MRai2",
    "outputId": "a03f2d58-b362-45c4-f7a0-1b50c7f5984d"
   },
   "outputs": [
    {
     "name": "stdout",
     "output_type": "stream",
     "text": [
      "Requirement already satisfied: tqdm in /usr/local/lib/python3.9/dist-packages (4.64.1)\n",
      "\u001b[33mWARNING: Running pip as the 'root' user can result in broken permissions and conflicting behaviour with the system package manager. It is recommended to use a virtual environment instead: https://pip.pypa.io/warnings/venv\u001b[0m\u001b[33m\n",
      "\u001b[0mNote: you may need to restart the kernel to use updated packages.\n"
     ]
    }
   ],
   "source": [
    "pip install tqdm"
   ]
  },
  {
   "cell_type": "code",
   "execution_count": 14,
   "metadata": {
    "colab": {
     "base_uri": "https://localhost:8080/"
    },
    "execution": {
     "iopub.execute_input": "2023-05-29T22:13:39.396454Z",
     "iopub.status.busy": "2023-05-29T22:13:39.396248Z",
     "iopub.status.idle": "2023-05-29T22:13:41.994974Z",
     "shell.execute_reply": "2023-05-29T22:13:41.994233Z",
     "shell.execute_reply.started": "2023-05-29T22:13:39.396432Z"
    },
    "id": "SJl_uATIRai2",
    "outputId": "225ce07d-a6dc-49b6-de22-0d9a3620ab75"
   },
   "outputs": [
    {
     "name": "stdout",
     "output_type": "stream",
     "text": [
      "Requirement already satisfied: langdetect in /usr/local/lib/python3.9/dist-packages (1.0.9)\n",
      "Requirement already satisfied: six in /usr/lib/python3/dist-packages (from langdetect) (1.14.0)\n",
      "\u001b[33mWARNING: Running pip as the 'root' user can result in broken permissions and conflicting behaviour with the system package manager. It is recommended to use a virtual environment instead: https://pip.pypa.io/warnings/venv\u001b[0m\u001b[33m\n",
      "\u001b[0mNote: you may need to restart the kernel to use updated packages.\n"
     ]
    }
   ],
   "source": [
    "pip install langdetect "
   ]
  },
  {
   "cell_type": "code",
   "execution_count": 15,
   "metadata": {
    "colab": {
     "base_uri": "https://localhost:8080/"
    },
    "execution": {
     "iopub.execute_input": "2023-05-29T22:13:41.996386Z",
     "iopub.status.busy": "2023-05-29T22:13:41.996177Z",
     "iopub.status.idle": "2023-05-29T22:13:44.587611Z",
     "shell.execute_reply": "2023-05-29T22:13:44.586794Z",
     "shell.execute_reply.started": "2023-05-29T22:13:41.996364Z"
    },
    "id": "xmPPRGkaRai3",
    "outputId": "129d2010-5c18-4315-81ae-460c595067da"
   },
   "outputs": [
    {
     "name": "stdout",
     "output_type": "stream",
     "text": [
      "Requirement already satisfied: folium in /usr/local/lib/python3.9/dist-packages (0.14.0)\n",
      "Requirement already satisfied: branca>=0.6.0 in /usr/local/lib/python3.9/dist-packages (from folium) (0.6.0)\n",
      "Requirement already satisfied: jinja2>=2.9 in /usr/local/lib/python3.9/dist-packages (from folium) (3.1.2)\n",
      "Requirement already satisfied: numpy in /usr/local/lib/python3.9/dist-packages (from folium) (1.23.4)\n",
      "Requirement already satisfied: requests in /usr/local/lib/python3.9/dist-packages (from folium) (2.28.2)\n",
      "Requirement already satisfied: MarkupSafe>=2.0 in /usr/local/lib/python3.9/dist-packages (from jinja2>=2.9->folium) (2.1.2)\n",
      "Requirement already satisfied: charset-normalizer<4,>=2 in /usr/local/lib/python3.9/dist-packages (from requests->folium) (2.1.1)\n",
      "Requirement already satisfied: idna<4,>=2.5 in /usr/lib/python3/dist-packages (from requests->folium) (2.8)\n",
      "Requirement already satisfied: urllib3<1.27,>=1.21.1 in /usr/local/lib/python3.9/dist-packages (from requests->folium) (1.26.14)\n",
      "Requirement already satisfied: certifi>=2017.4.17 in /usr/lib/python3/dist-packages (from requests->folium) (2019.11.28)\n",
      "\u001b[33mWARNING: Running pip as the 'root' user can result in broken permissions and conflicting behaviour with the system package manager. It is recommended to use a virtual environment instead: https://pip.pypa.io/warnings/venv\u001b[0m\u001b[33m\n",
      "\u001b[0mNote: you may need to restart the kernel to use updated packages.\n"
     ]
    }
   ],
   "source": [
    "pip install folium"
   ]
  },
  {
   "cell_type": "code",
   "execution_count": 16,
   "metadata": {
    "colab": {
     "base_uri": "https://localhost:8080/"
    },
    "execution": {
     "iopub.execute_input": "2023-05-29T22:13:44.589120Z",
     "iopub.status.busy": "2023-05-29T22:13:44.588894Z",
     "iopub.status.idle": "2023-05-29T22:13:47.323543Z",
     "shell.execute_reply": "2023-05-29T22:13:47.322442Z",
     "shell.execute_reply.started": "2023-05-29T22:13:44.589095Z"
    },
    "id": "T4BlJ3FuRai4",
    "outputId": "6ca1456b-1087-4872-c006-8a769bb3780e"
   },
   "outputs": [
    {
     "name": "stdout",
     "output_type": "stream",
     "text": [
      "Requirement already satisfied: tensorflow in /usr/local/lib/python3.9/dist-packages (2.9.2)\n",
      "Requirement already satisfied: absl-py>=1.0.0 in /usr/local/lib/python3.9/dist-packages (from tensorflow) (1.4.0)\n",
      "Requirement already satisfied: astunparse>=1.6.0 in /usr/local/lib/python3.9/dist-packages (from tensorflow) (1.6.3)\n",
      "Requirement already satisfied: flatbuffers<2,>=1.12 in /usr/local/lib/python3.9/dist-packages (from tensorflow) (1.12)\n",
      "Requirement already satisfied: gast<=0.4.0,>=0.2.1 in /usr/local/lib/python3.9/dist-packages (from tensorflow) (0.4.0)\n",
      "Requirement already satisfied: google-pasta>=0.1.1 in /usr/local/lib/python3.9/dist-packages (from tensorflow) (0.2.0)\n",
      "Requirement already satisfied: grpcio<2.0,>=1.24.3 in /usr/local/lib/python3.9/dist-packages (from tensorflow) (1.51.1)\n",
      "Requirement already satisfied: h5py>=2.9.0 in /usr/local/lib/python3.9/dist-packages (from tensorflow) (3.8.0)\n",
      "Requirement already satisfied: keras<2.10.0,>=2.9.0rc0 in /usr/local/lib/python3.9/dist-packages (from tensorflow) (2.9.0)\n",
      "Requirement already satisfied: keras-preprocessing>=1.1.1 in /usr/local/lib/python3.9/dist-packages (from tensorflow) (1.1.2)\n",
      "Requirement already satisfied: libclang>=13.0.0 in /usr/local/lib/python3.9/dist-packages (from tensorflow) (15.0.6.1)\n",
      "Requirement already satisfied: numpy>=1.20 in /usr/local/lib/python3.9/dist-packages (from tensorflow) (1.23.4)\n",
      "Requirement already satisfied: opt-einsum>=2.3.2 in /usr/local/lib/python3.9/dist-packages (from tensorflow) (3.3.0)\n",
      "Requirement already satisfied: packaging in /usr/local/lib/python3.9/dist-packages (from tensorflow) (23.0)\n",
      "Requirement already satisfied: protobuf<3.20,>=3.9.2 in /usr/local/lib/python3.9/dist-packages (from tensorflow) (3.19.6)\n",
      "Requirement already satisfied: setuptools in /usr/local/lib/python3.9/dist-packages (from tensorflow) (66.1.1)\n",
      "Requirement already satisfied: six>=1.12.0 in /usr/lib/python3/dist-packages (from tensorflow) (1.14.0)\n",
      "Requirement already satisfied: tensorboard<2.10,>=2.9 in /usr/local/lib/python3.9/dist-packages (from tensorflow) (2.9.1)\n",
      "Requirement already satisfied: tensorflow-io-gcs-filesystem>=0.23.1 in /usr/local/lib/python3.9/dist-packages (from tensorflow) (0.30.0)\n",
      "Requirement already satisfied: tensorflow-estimator<2.10.0,>=2.9.0rc0 in /usr/local/lib/python3.9/dist-packages (from tensorflow) (2.9.0)\n",
      "Requirement already satisfied: termcolor>=1.1.0 in /usr/local/lib/python3.9/dist-packages (from tensorflow) (2.2.0)\n",
      "Requirement already satisfied: typing-extensions>=3.6.6 in /usr/local/lib/python3.9/dist-packages (from tensorflow) (4.4.0)\n",
      "Requirement already satisfied: wrapt>=1.11.0 in /usr/local/lib/python3.9/dist-packages (from tensorflow) (1.14.1)\n",
      "Requirement already satisfied: wheel<1.0,>=0.23.0 in /usr/local/lib/python3.9/dist-packages (from astunparse>=1.6.0->tensorflow) (0.35.1)\n",
      "Requirement already satisfied: google-auth<3,>=1.6.3 in /usr/local/lib/python3.9/dist-packages (from tensorboard<2.10,>=2.9->tensorflow) (2.16.0)\n",
      "Requirement already satisfied: google-auth-oauthlib<0.5,>=0.4.1 in /usr/local/lib/python3.9/dist-packages (from tensorboard<2.10,>=2.9->tensorflow) (0.4.6)\n",
      "Requirement already satisfied: markdown>=2.6.8 in /usr/local/lib/python3.9/dist-packages (from tensorboard<2.10,>=2.9->tensorflow) (3.4.1)\n",
      "Requirement already satisfied: requests<3,>=2.21.0 in /usr/local/lib/python3.9/dist-packages (from tensorboard<2.10,>=2.9->tensorflow) (2.28.2)\n",
      "Requirement already satisfied: tensorboard-data-server<0.7.0,>=0.6.0 in /usr/local/lib/python3.9/dist-packages (from tensorboard<2.10,>=2.9->tensorflow) (0.6.1)\n",
      "Requirement already satisfied: tensorboard-plugin-wit>=1.6.0 in /usr/local/lib/python3.9/dist-packages (from tensorboard<2.10,>=2.9->tensorflow) (1.8.1)\n",
      "Requirement already satisfied: werkzeug>=1.0.1 in /usr/local/lib/python3.9/dist-packages (from tensorboard<2.10,>=2.9->tensorflow) (2.2.2)\n",
      "Requirement already satisfied: cachetools<6.0,>=2.0.0 in /usr/local/lib/python3.9/dist-packages (from google-auth<3,>=1.6.3->tensorboard<2.10,>=2.9->tensorflow) (5.3.0)\n",
      "Requirement already satisfied: pyasn1-modules>=0.2.1 in /usr/local/lib/python3.9/dist-packages (from google-auth<3,>=1.6.3->tensorboard<2.10,>=2.9->tensorflow) (0.2.8)\n",
      "Requirement already satisfied: rsa<5,>=3.1.4 in /usr/local/lib/python3.9/dist-packages (from google-auth<3,>=1.6.3->tensorboard<2.10,>=2.9->tensorflow) (4.7.2)\n",
      "Requirement already satisfied: requests-oauthlib>=0.7.0 in /usr/local/lib/python3.9/dist-packages (from google-auth-oauthlib<0.5,>=0.4.1->tensorboard<2.10,>=2.9->tensorflow) (1.3.1)\n",
      "Requirement already satisfied: importlib-metadata>=4.4 in /usr/local/lib/python3.9/dist-packages (from markdown>=2.6.8->tensorboard<2.10,>=2.9->tensorflow) (6.0.0)\n",
      "Requirement already satisfied: charset-normalizer<4,>=2 in /usr/local/lib/python3.9/dist-packages (from requests<3,>=2.21.0->tensorboard<2.10,>=2.9->tensorflow) (2.1.1)\n",
      "Requirement already satisfied: idna<4,>=2.5 in /usr/lib/python3/dist-packages (from requests<3,>=2.21.0->tensorboard<2.10,>=2.9->tensorflow) (2.8)\n",
      "Requirement already satisfied: urllib3<1.27,>=1.21.1 in /usr/local/lib/python3.9/dist-packages (from requests<3,>=2.21.0->tensorboard<2.10,>=2.9->tensorflow) (1.26.14)\n",
      "Requirement already satisfied: certifi>=2017.4.17 in /usr/lib/python3/dist-packages (from requests<3,>=2.21.0->tensorboard<2.10,>=2.9->tensorflow) (2019.11.28)\n",
      "Requirement already satisfied: MarkupSafe>=2.1.1 in /usr/local/lib/python3.9/dist-packages (from werkzeug>=1.0.1->tensorboard<2.10,>=2.9->tensorflow) (2.1.2)\n",
      "Requirement already satisfied: zipp>=0.5 in /usr/local/lib/python3.9/dist-packages (from importlib-metadata>=4.4->markdown>=2.6.8->tensorboard<2.10,>=2.9->tensorflow) (3.11.0)\n",
      "Requirement already satisfied: pyasn1<0.5.0,>=0.4.6 in /usr/local/lib/python3.9/dist-packages (from pyasn1-modules>=0.2.1->google-auth<3,>=1.6.3->tensorboard<2.10,>=2.9->tensorflow) (0.4.8)\n",
      "Requirement already satisfied: oauthlib>=3.0.0 in /usr/local/lib/python3.9/dist-packages (from requests-oauthlib>=0.7.0->google-auth-oauthlib<0.5,>=0.4.1->tensorboard<2.10,>=2.9->tensorflow) (3.2.2)\n",
      "\u001b[33mWARNING: Running pip as the 'root' user can result in broken permissions and conflicting behaviour with the system package manager. It is recommended to use a virtual environment instead: https://pip.pypa.io/warnings/venv\u001b[0m\u001b[33m\n",
      "\u001b[0mNote: you may need to restart the kernel to use updated packages.\n"
     ]
    }
   ],
   "source": [
    "pip install tensorflow"
   ]
  },
  {
   "cell_type": "code",
   "execution_count": 17,
   "metadata": {
    "colab": {
     "base_uri": "https://localhost:8080/"
    },
    "execution": {
     "iopub.execute_input": "2023-05-29T22:13:47.325144Z",
     "iopub.status.busy": "2023-05-29T22:13:47.324902Z",
     "iopub.status.idle": "2023-05-29T22:13:50.005221Z",
     "shell.execute_reply": "2023-05-29T22:13:50.004245Z",
     "shell.execute_reply.started": "2023-05-29T22:13:47.325120Z"
    },
    "id": "EHeaolrbRai4",
    "outputId": "37c4def8-5d72-4c7a-98b3-68870a59e335"
   },
   "outputs": [
    {
     "name": "stdout",
     "output_type": "stream",
     "text": [
      "Requirement already satisfied: spacy in /usr/local/lib/python3.9/dist-packages (3.4.1)\n",
      "Requirement already satisfied: spacy-legacy<3.1.0,>=3.0.9 in /usr/local/lib/python3.9/dist-packages (from spacy) (3.0.12)\n",
      "Requirement already satisfied: spacy-loggers<2.0.0,>=1.0.0 in /usr/local/lib/python3.9/dist-packages (from spacy) (1.0.4)\n",
      "Requirement already satisfied: murmurhash<1.1.0,>=0.28.0 in /usr/local/lib/python3.9/dist-packages (from spacy) (1.0.9)\n",
      "Requirement already satisfied: cymem<2.1.0,>=2.0.2 in /usr/local/lib/python3.9/dist-packages (from spacy) (2.0.7)\n",
      "Requirement already satisfied: preshed<3.1.0,>=3.0.2 in /usr/local/lib/python3.9/dist-packages (from spacy) (3.0.8)\n",
      "Requirement already satisfied: thinc<8.2.0,>=8.1.0 in /usr/local/lib/python3.9/dist-packages (from spacy) (8.1.7)\n",
      "Requirement already satisfied: wasabi<1.1.0,>=0.9.1 in /usr/local/lib/python3.9/dist-packages (from spacy) (0.10.1)\n",
      "Requirement already satisfied: srsly<3.0.0,>=2.4.3 in /usr/local/lib/python3.9/dist-packages (from spacy) (2.4.5)\n",
      "Requirement already satisfied: catalogue<2.1.0,>=2.0.6 in /usr/local/lib/python3.9/dist-packages (from spacy) (2.0.8)\n",
      "Requirement already satisfied: typer<0.5.0,>=0.3.0 in /usr/local/lib/python3.9/dist-packages (from spacy) (0.4.2)\n",
      "Requirement already satisfied: pathy>=0.3.5 in /usr/local/lib/python3.9/dist-packages (from spacy) (0.10.1)\n",
      "Requirement already satisfied: tqdm<5.0.0,>=4.38.0 in /usr/local/lib/python3.9/dist-packages (from spacy) (4.64.1)\n",
      "Requirement already satisfied: numpy>=1.15.0 in /usr/local/lib/python3.9/dist-packages (from spacy) (1.23.4)\n",
      "Requirement already satisfied: requests<3.0.0,>=2.13.0 in /usr/local/lib/python3.9/dist-packages (from spacy) (2.28.2)\n",
      "Requirement already satisfied: pydantic!=1.8,!=1.8.1,<1.10.0,>=1.7.4 in /usr/local/lib/python3.9/dist-packages (from spacy) (1.9.2)\n",
      "Requirement already satisfied: jinja2 in /usr/local/lib/python3.9/dist-packages (from spacy) (3.1.2)\n",
      "Requirement already satisfied: setuptools in /usr/local/lib/python3.9/dist-packages (from spacy) (66.1.1)\n",
      "Requirement already satisfied: packaging>=20.0 in /usr/local/lib/python3.9/dist-packages (from spacy) (23.0)\n",
      "Requirement already satisfied: langcodes<4.0.0,>=3.2.0 in /usr/local/lib/python3.9/dist-packages (from spacy) (3.3.0)\n",
      "Requirement already satisfied: smart-open<7.0.0,>=5.2.1 in /usr/local/lib/python3.9/dist-packages (from pathy>=0.3.5->spacy) (6.3.0)\n",
      "Requirement already satisfied: typing-extensions>=3.7.4.3 in /usr/local/lib/python3.9/dist-packages (from pydantic!=1.8,!=1.8.1,<1.10.0,>=1.7.4->spacy) (4.4.0)\n",
      "Requirement already satisfied: charset-normalizer<4,>=2 in /usr/local/lib/python3.9/dist-packages (from requests<3.0.0,>=2.13.0->spacy) (2.1.1)\n",
      "Requirement already satisfied: idna<4,>=2.5 in /usr/lib/python3/dist-packages (from requests<3.0.0,>=2.13.0->spacy) (2.8)\n",
      "Requirement already satisfied: urllib3<1.27,>=1.21.1 in /usr/local/lib/python3.9/dist-packages (from requests<3.0.0,>=2.13.0->spacy) (1.26.14)\n",
      "Requirement already satisfied: certifi>=2017.4.17 in /usr/lib/python3/dist-packages (from requests<3.0.0,>=2.13.0->spacy) (2019.11.28)\n",
      "Requirement already satisfied: blis<0.8.0,>=0.7.8 in /usr/local/lib/python3.9/dist-packages (from thinc<8.2.0,>=8.1.0->spacy) (0.7.9)\n",
      "Requirement already satisfied: confection<1.0.0,>=0.0.1 in /usr/local/lib/python3.9/dist-packages (from thinc<8.2.0,>=8.1.0->spacy) (0.0.4)\n",
      "Requirement already satisfied: click<9.0.0,>=7.1.1 in /usr/local/lib/python3.9/dist-packages (from typer<0.5.0,>=0.3.0->spacy) (8.1.3)\n",
      "Requirement already satisfied: MarkupSafe>=2.0 in /usr/local/lib/python3.9/dist-packages (from jinja2->spacy) (2.1.2)\n",
      "\u001b[33mWARNING: Running pip as the 'root' user can result in broken permissions and conflicting behaviour with the system package manager. It is recommended to use a virtual environment instead: https://pip.pypa.io/warnings/venv\u001b[0m\u001b[33m\n",
      "\u001b[0mNote: you may need to restart the kernel to use updated packages.\n"
     ]
    }
   ],
   "source": [
    "pip install spacy\n"
   ]
  },
  {
   "cell_type": "code",
   "execution_count": 18,
   "metadata": {
    "colab": {
     "base_uri": "https://localhost:8080/"
    },
    "execution": {
     "iopub.execute_input": "2023-05-29T22:13:50.006810Z",
     "iopub.status.busy": "2023-05-29T22:13:50.006573Z",
     "iopub.status.idle": "2023-05-29T22:13:52.605453Z",
     "shell.execute_reply": "2023-05-29T22:13:52.604633Z",
     "shell.execute_reply.started": "2023-05-29T22:13:50.006785Z"
    },
    "id": "ewBrMN1_Rai4",
    "outputId": "f6dc7258-ff04-4c59-e93d-ee5f0103f684"
   },
   "outputs": [
    {
     "name": "stdout",
     "output_type": "stream",
     "text": [
      "Requirement already satisfied: wordcloud in /usr/local/lib/python3.9/dist-packages (1.9.2)\n",
      "Requirement already satisfied: numpy>=1.6.1 in /usr/local/lib/python3.9/dist-packages (from wordcloud) (1.23.4)\n",
      "Requirement already satisfied: pillow in /usr/local/lib/python3.9/dist-packages (from wordcloud) (9.2.0)\n",
      "Requirement already satisfied: matplotlib in /usr/local/lib/python3.9/dist-packages (from wordcloud) (3.6.1)\n",
      "Requirement already satisfied: contourpy>=1.0.1 in /usr/local/lib/python3.9/dist-packages (from matplotlib->wordcloud) (1.0.7)\n",
      "Requirement already satisfied: cycler>=0.10 in /usr/local/lib/python3.9/dist-packages (from matplotlib->wordcloud) (0.11.0)\n",
      "Requirement already satisfied: fonttools>=4.22.0 in /usr/local/lib/python3.9/dist-packages (from matplotlib->wordcloud) (4.38.0)\n",
      "Requirement already satisfied: kiwisolver>=1.0.1 in /usr/local/lib/python3.9/dist-packages (from matplotlib->wordcloud) (1.4.4)\n",
      "Requirement already satisfied: packaging>=20.0 in /usr/local/lib/python3.9/dist-packages (from matplotlib->wordcloud) (23.0)\n",
      "Requirement already satisfied: pyparsing>=2.2.1 in /usr/local/lib/python3.9/dist-packages (from matplotlib->wordcloud) (3.0.9)\n",
      "Requirement already satisfied: python-dateutil>=2.7 in /usr/local/lib/python3.9/dist-packages (from matplotlib->wordcloud) (2.8.2)\n",
      "Requirement already satisfied: six>=1.5 in /usr/lib/python3/dist-packages (from python-dateutil>=2.7->matplotlib->wordcloud) (1.14.0)\n",
      "\u001b[33mWARNING: Running pip as the 'root' user can result in broken permissions and conflicting behaviour with the system package manager. It is recommended to use a virtual environment instead: https://pip.pypa.io/warnings/venv\u001b[0m\u001b[33m\n",
      "\u001b[0mNote: you may need to restart the kernel to use updated packages.\n"
     ]
    }
   ],
   "source": [
    "pip install wordcloud"
   ]
  },
  {
   "cell_type": "code",
   "execution_count": 19,
   "metadata": {
    "colab": {
     "base_uri": "https://localhost:8080/"
    },
    "execution": {
     "iopub.execute_input": "2023-05-29T22:13:52.606941Z",
     "iopub.status.busy": "2023-05-29T22:13:52.606688Z",
     "iopub.status.idle": "2023-05-29T22:13:55.300167Z",
     "shell.execute_reply": "2023-05-29T22:13:55.299246Z",
     "shell.execute_reply.started": "2023-05-29T22:13:52.606918Z"
    },
    "id": "lZiJFjZSvXXl",
    "outputId": "77b5db8a-554f-47a6-d4c1-038464bbdf08"
   },
   "outputs": [
    {
     "name": "stdout",
     "output_type": "stream",
     "text": [
      "Requirement already satisfied: datasets in /usr/local/lib/python3.9/dist-packages (2.4.0)\n",
      "Requirement already satisfied: numpy>=1.17 in /usr/local/lib/python3.9/dist-packages (from datasets) (1.23.4)\n",
      "Requirement already satisfied: pyarrow>=6.0.0 in /usr/local/lib/python3.9/dist-packages (from datasets) (10.0.1)\n",
      "Requirement already satisfied: dill<0.3.6 in /usr/local/lib/python3.9/dist-packages (from datasets) (0.3.5.1)\n",
      "Requirement already satisfied: pandas in /usr/local/lib/python3.9/dist-packages (from datasets) (1.5.0)\n",
      "Requirement already satisfied: requests>=2.19.0 in /usr/local/lib/python3.9/dist-packages (from datasets) (2.28.2)\n",
      "Requirement already satisfied: tqdm>=4.62.1 in /usr/local/lib/python3.9/dist-packages (from datasets) (4.64.1)\n",
      "Requirement already satisfied: xxhash in /usr/local/lib/python3.9/dist-packages (from datasets) (3.2.0)\n",
      "Requirement already satisfied: multiprocess in /usr/local/lib/python3.9/dist-packages (from datasets) (0.70.13)\n",
      "Requirement already satisfied: fsspec[http]>=2021.11.1 in /usr/local/lib/python3.9/dist-packages (from datasets) (2023.1.0)\n",
      "Requirement already satisfied: aiohttp in /usr/local/lib/python3.9/dist-packages (from datasets) (3.8.3)\n",
      "Requirement already satisfied: huggingface-hub<1.0.0,>=0.1.0 in /usr/local/lib/python3.9/dist-packages (from datasets) (0.12.0)\n",
      "Requirement already satisfied: packaging in /usr/local/lib/python3.9/dist-packages (from datasets) (23.0)\n",
      "Requirement already satisfied: responses<0.19 in /usr/local/lib/python3.9/dist-packages (from datasets) (0.18.0)\n",
      "Requirement already satisfied: attrs>=17.3.0 in /usr/local/lib/python3.9/dist-packages (from aiohttp->datasets) (23.1.0)\n",
      "Requirement already satisfied: charset-normalizer<3.0,>=2.0 in /usr/local/lib/python3.9/dist-packages (from aiohttp->datasets) (2.1.1)\n",
      "Requirement already satisfied: multidict<7.0,>=4.5 in /usr/local/lib/python3.9/dist-packages (from aiohttp->datasets) (6.0.4)\n",
      "Requirement already satisfied: async-timeout<5.0,>=4.0.0a3 in /usr/local/lib/python3.9/dist-packages (from aiohttp->datasets) (4.0.2)\n",
      "Requirement already satisfied: yarl<2.0,>=1.0 in /usr/local/lib/python3.9/dist-packages (from aiohttp->datasets) (1.8.2)\n",
      "Requirement already satisfied: frozenlist>=1.1.1 in /usr/local/lib/python3.9/dist-packages (from aiohttp->datasets) (1.3.3)\n",
      "Requirement already satisfied: aiosignal>=1.1.2 in /usr/local/lib/python3.9/dist-packages (from aiohttp->datasets) (1.3.1)\n",
      "Requirement already satisfied: filelock in /usr/local/lib/python3.9/dist-packages (from huggingface-hub<1.0.0,>=0.1.0->datasets) (3.9.0)\n",
      "Requirement already satisfied: pyyaml>=5.1 in /usr/local/lib/python3.9/dist-packages (from huggingface-hub<1.0.0,>=0.1.0->datasets) (5.4.1)\n",
      "Requirement already satisfied: typing-extensions>=3.7.4.3 in /usr/local/lib/python3.9/dist-packages (from huggingface-hub<1.0.0,>=0.1.0->datasets) (4.4.0)\n",
      "Requirement already satisfied: idna<4,>=2.5 in /usr/lib/python3/dist-packages (from requests>=2.19.0->datasets) (2.8)\n",
      "Requirement already satisfied: urllib3<1.27,>=1.21.1 in /usr/local/lib/python3.9/dist-packages (from requests>=2.19.0->datasets) (1.26.14)\n",
      "Requirement already satisfied: certifi>=2017.4.17 in /usr/lib/python3/dist-packages (from requests>=2.19.0->datasets) (2019.11.28)\n",
      "Requirement already satisfied: python-dateutil>=2.8.1 in /usr/local/lib/python3.9/dist-packages (from pandas->datasets) (2.8.2)\n",
      "Requirement already satisfied: pytz>=2020.1 in /usr/local/lib/python3.9/dist-packages (from pandas->datasets) (2022.7.1)\n",
      "Requirement already satisfied: six>=1.5 in /usr/lib/python3/dist-packages (from python-dateutil>=2.8.1->pandas->datasets) (1.14.0)\n",
      "\u001b[33mWARNING: Running pip as the 'root' user can result in broken permissions and conflicting behaviour with the system package manager. It is recommended to use a virtual environment instead: https://pip.pypa.io/warnings/venv\u001b[0m\u001b[33m\n",
      "\u001b[0mNote: you may need to restart the kernel to use updated packages.\n"
     ]
    }
   ],
   "source": [
    "pip install datasets"
   ]
  },
  {
   "cell_type": "code",
   "execution_count": 20,
   "metadata": {
    "execution": {
     "iopub.execute_input": "2023-05-29T22:13:55.301690Z",
     "iopub.status.busy": "2023-05-29T22:13:55.301462Z",
     "iopub.status.idle": "2023-05-29T22:13:57.857606Z",
     "shell.execute_reply": "2023-05-29T22:13:57.856709Z",
     "shell.execute_reply.started": "2023-05-29T22:13:55.301665Z"
    }
   },
   "outputs": [
    {
     "name": "stdout",
     "output_type": "stream",
     "text": [
      "Requirement already satisfied: tensorflow-addons in /usr/local/lib/python3.9/dist-packages (0.20.0)\n",
      "Requirement already satisfied: packaging in /usr/local/lib/python3.9/dist-packages (from tensorflow-addons) (23.0)\n",
      "Requirement already satisfied: typeguard<3.0.0,>=2.7 in /usr/local/lib/python3.9/dist-packages (from tensorflow-addons) (2.13.3)\n",
      "\u001b[33mWARNING: Running pip as the 'root' user can result in broken permissions and conflicting behaviour with the system package manager. It is recommended to use a virtual environment instead: https://pip.pypa.io/warnings/venv\u001b[0m\u001b[33m\n",
      "\u001b[0mNote: you may need to restart the kernel to use updated packages.\n"
     ]
    }
   ],
   "source": [
    "pip install tensorflow-addons"
   ]
  },
  {
   "cell_type": "code",
   "execution_count": 21,
   "metadata": {
    "execution": {
     "iopub.execute_input": "2023-05-29T22:13:57.859216Z",
     "iopub.status.busy": "2023-05-29T22:13:57.858991Z",
     "iopub.status.idle": "2023-05-29T22:14:00.532678Z",
     "shell.execute_reply": "2023-05-29T22:14:00.531844Z",
     "shell.execute_reply.started": "2023-05-29T22:13:57.859191Z"
    }
   },
   "outputs": [
    {
     "name": "stdout",
     "output_type": "stream",
     "text": [
      "Requirement already satisfied: transformers in /usr/local/lib/python3.9/dist-packages (4.21.3)\n",
      "Requirement already satisfied: filelock in /usr/local/lib/python3.9/dist-packages (from transformers) (3.9.0)\n",
      "Requirement already satisfied: huggingface-hub<1.0,>=0.1.0 in /usr/local/lib/python3.9/dist-packages (from transformers) (0.12.0)\n",
      "Requirement already satisfied: numpy>=1.17 in /usr/local/lib/python3.9/dist-packages (from transformers) (1.23.4)\n",
      "Requirement already satisfied: packaging>=20.0 in /usr/local/lib/python3.9/dist-packages (from transformers) (23.0)\n",
      "Requirement already satisfied: pyyaml>=5.1 in /usr/local/lib/python3.9/dist-packages (from transformers) (5.4.1)\n",
      "Requirement already satisfied: regex!=2019.12.17 in /usr/local/lib/python3.9/dist-packages (from transformers) (2022.10.31)\n",
      "Requirement already satisfied: requests in /usr/local/lib/python3.9/dist-packages (from transformers) (2.28.2)\n",
      "Requirement already satisfied: tokenizers!=0.11.3,<0.13,>=0.11.1 in /usr/local/lib/python3.9/dist-packages (from transformers) (0.12.1)\n",
      "Requirement already satisfied: tqdm>=4.27 in /usr/local/lib/python3.9/dist-packages (from transformers) (4.64.1)\n",
      "Requirement already satisfied: typing-extensions>=3.7.4.3 in /usr/local/lib/python3.9/dist-packages (from huggingface-hub<1.0,>=0.1.0->transformers) (4.4.0)\n",
      "Requirement already satisfied: charset-normalizer<4,>=2 in /usr/local/lib/python3.9/dist-packages (from requests->transformers) (2.1.1)\n",
      "Requirement already satisfied: idna<4,>=2.5 in /usr/lib/python3/dist-packages (from requests->transformers) (2.8)\n",
      "Requirement already satisfied: urllib3<1.27,>=1.21.1 in /usr/local/lib/python3.9/dist-packages (from requests->transformers) (1.26.14)\n",
      "Requirement already satisfied: certifi>=2017.4.17 in /usr/lib/python3/dist-packages (from requests->transformers) (2019.11.28)\n",
      "\u001b[33mWARNING: Running pip as the 'root' user can result in broken permissions and conflicting behaviour with the system package manager. It is recommended to use a virtual environment instead: https://pip.pypa.io/warnings/venv\u001b[0m\u001b[33m\n",
      "\u001b[0mNote: you may need to restart the kernel to use updated packages.\n"
     ]
    }
   ],
   "source": [
    "pip install transformers"
   ]
  },
  {
   "cell_type": "markdown",
   "metadata": {
    "id": "ciouhEALRai4"
   },
   "source": [
    "<span style=\"font-size:24px; font-weight:bold;\">Importing Libraries</span>"
   ]
  },
  {
   "cell_type": "code",
   "execution_count": 22,
   "metadata": {
    "colab": {
     "base_uri": "https://localhost:8080/"
    },
    "execution": {
     "iopub.execute_input": "2023-05-29T22:14:00.534104Z",
     "iopub.status.busy": "2023-05-29T22:14:00.533888Z",
     "iopub.status.idle": "2023-05-29T22:14:05.130819Z",
     "shell.execute_reply": "2023-05-29T22:14:05.129905Z",
     "shell.execute_reply.started": "2023-05-29T22:14:00.534080Z"
    },
    "id": "B66XXDX0ZKrF",
    "outputId": "15041672-0174-4b22-82c7-47634d0548dd"
   },
   "outputs": [
    {
     "name": "stderr",
     "output_type": "stream",
     "text": [
      "[nltk_data] Downloading package stopwords to /root/nltk_data...\n",
      "[nltk_data]   Package stopwords is already up-to-date!\n"
     ]
    },
    {
     "name": "stdout",
     "output_type": "stream",
     "text": [
      "Using the cuda device.\n"
     ]
    }
   ],
   "source": [
    "import pandas as pd\n",
    "import os\n",
    "import numpy as np\n",
    "import geopandas\n",
    "import folium\n",
    "import matplotlib\n",
    "import matplotlib.pyplot as plt\n",
    "import seaborn as sns\n",
    "import plotly\n",
    "import plotly.graph_objs as go\n",
    "from geopy.geocoders import Nominatim\n",
    "import folium\n",
    "from transformers import BertTokenizer\n",
    "from sklearn.model_selection import train_test_split\n",
    "import tensorflow as tf\n",
    "from tensorflow.keras.preprocessing.sequence import pad_sequences\n",
    "from langdetect import detect_langs\n",
    "import re\n",
    "import nltk\n",
    "nltk.download('stopwords')\n",
    "from nltk.corpus import stopwords\n",
    "from nltk.stem import SnowballStemmer\n",
    "from textblob import TextBlob\n",
    "from folium.plugins import HeatMap\n",
    "from tqdm.notebook import tqdm\n",
    "from langdetect import detect\n",
    "from tqdm import tqdm\n",
    "from wordcloud import WordCloud\n",
    "import nltk\n",
    "from sklearn.feature_extraction import text\n",
    "from sklearn.feature_extraction.text import CountVectorizer\n",
    "import plotly.graph_objs as go\n",
    "import spacy\n",
    "from transformers import pipeline\n",
    "from IPython.display import IFrame\n",
    "from plotly.offline import iplot\n",
    "from plotly.offline import plot\n",
    "from sklearn.preprocessing import StandardScaler\n",
    "from transformers import AutoTokenizer, TFAutoModelForSequenceClassification\n",
    "import tensorflow as tf\n",
    "from geopy.geocoders import Nominatim\n",
    "from cachetools import cached, TTLCache\n",
    "from geopy.exc import GeocoderUnavailable\n",
    "import time\n",
    "import torch\n",
    "from torch.utils.data import Dataset\n",
    "from transformers import BertTokenizer, TFBertForSequenceClassification\n",
    "from sklearn.base import BaseEstimator, TransformerMixin\n",
    "from sklearn.compose import ColumnTransformer\n",
    "from sklearn.pipeline import Pipeline\n",
    "from transformers import BertTokenizer, BertForSequenceClassification\n",
    "from tensorflow.keras.preprocessing.text import Tokenizer\n",
    "from tensorflow.keras.preprocessing.sequence import pad_sequences\n",
    "from tensorflow.keras.layers import Input, Embedding, Conv1D, MaxPooling1D, Flatten, Dense\n",
    "from tensorflow.keras.models import Model\n",
    "from transformers import AutoModelForSequenceClassification\n",
    "from transformers import TFBertForSequenceClassification, TFTrainer, TFTrainingArguments\n",
    "from sklearn.preprocessing import LabelEncoder, MinMaxScaler\n",
    "label_encoder = LabelEncoder()\n",
    "scaler = MinMaxScaler()\n",
    "from sklearn.preprocessing import OrdinalEncoder\n",
    "import tensorflow as tf\n",
    "from tensorflow.keras.layers import Dense, Input, Concatenate\n",
    "from tensorflow.keras.models import Model\n",
    "from tensorflow.keras.losses import Loss\n",
    "from tensorflow.keras import backend as K\n",
    "import tensorflow as tf\n",
    "import os\n",
    "os.environ['CUDA_VISIBLE_DEVICES'] = '0' \n",
    "device= torch.device('cuda' if torch.cuda.is_available() else 'cpu')\n",
    "print(f'Using the {device} device.')\n",
    "from keras.optimizers import Adam\n",
    "from keras.callbacks import ReduceLROnPlateau\n",
    "from keras.callbacks import ModelCheckpoint\n",
    "from tensorflow.keras.callbacks import TensorBoard\n",
    "from tensorflow.keras.callbacks import EarlyStopping\n"
   ]
  },
  {
   "cell_type": "code",
   "execution_count": 23,
   "metadata": {
    "execution": {
     "iopub.execute_input": "2023-05-29T22:14:05.132195Z",
     "iopub.status.busy": "2023-05-29T22:14:05.131988Z",
     "iopub.status.idle": "2023-05-29T22:14:05.140291Z",
     "shell.execute_reply": "2023-05-29T22:14:05.139609Z",
     "shell.execute_reply.started": "2023-05-29T22:14:05.132172Z"
    }
   },
   "outputs": [
    {
     "data": {
      "text/plain": [
       "[PhysicalDevice(name='/physical_device:GPU:0', device_type='GPU')]"
      ]
     },
     "execution_count": 23,
     "metadata": {},
     "output_type": "execute_result"
    }
   ],
   "source": [
    "gpus = tf.config.list_physical_devices('GPU')\n",
    "gpus"
   ]
  },
  {
   "cell_type": "code",
   "execution_count": 24,
   "metadata": {
    "execution": {
     "iopub.execute_input": "2023-05-29T22:14:05.141364Z",
     "iopub.status.busy": "2023-05-29T22:14:05.141176Z",
     "iopub.status.idle": "2023-05-29T22:14:05.146343Z",
     "shell.execute_reply": "2023-05-29T22:14:05.145585Z",
     "shell.execute_reply.started": "2023-05-29T22:14:05.141345Z"
    }
   },
   "outputs": [
    {
     "data": {
      "text/plain": [
       "[PhysicalDevice(name='/physical_device:GPU:0', device_type='GPU')]"
      ]
     },
     "execution_count": 24,
     "metadata": {},
     "output_type": "execute_result"
    }
   ],
   "source": [
    "gpus = tf.config.list_physical_devices('GPU')\n",
    "gpus"
   ]
  },
  {
   "cell_type": "code",
   "execution_count": 25,
   "metadata": {
    "execution": {
     "iopub.execute_input": "2023-05-29T22:14:05.147196Z",
     "iopub.status.busy": "2023-05-29T22:14:05.147022Z",
     "iopub.status.idle": "2023-05-29T22:14:05.828757Z",
     "shell.execute_reply": "2023-05-29T22:14:05.827889Z",
     "shell.execute_reply.started": "2023-05-29T22:14:05.147177Z"
    }
   },
   "outputs": [
    {
     "name": "stdout",
     "output_type": "stream",
     "text": [
      "1 Physical GPUs, 1 Logical GPUs\n"
     ]
    }
   ],
   "source": [
    "if gpus:\n",
    "    try:\n",
    "        for gpu in gpus:\n",
    "            tf.config.experimental.set_memory_growth(gpu, True)\n",
    "        logical_gpus = tf.config.list_logical_devices('GPU')\n",
    "        print(len(gpus), \"Physical GPUs,\", len(logical_gpus), \"Logical GPUs\")\n",
    "    except RuntimeError as e:\n",
    "        print(e)"
   ]
  },
  {
   "cell_type": "markdown",
   "metadata": {
    "id": "veOWIvBERai7"
   },
   "source": [
    "<span style=\"font-size:24px; font-weight:bold;\">Loading Data/ Data Preprocessing</span>"
   ]
  },
  {
   "cell_type": "code",
   "execution_count": 26,
   "metadata": {
    "execution": {
     "iopub.execute_input": "2023-05-29T22:14:05.830278Z",
     "iopub.status.busy": "2023-05-29T22:14:05.829965Z",
     "iopub.status.idle": "2023-05-29T22:14:07.042414Z",
     "shell.execute_reply": "2023-05-29T22:14:07.041641Z",
     "shell.execute_reply.started": "2023-05-29T22:14:05.830256Z"
    },
    "id": "IuUsxvs_ZtFF"
   },
   "outputs": [],
   "source": [
    "data=pd.read_csv('Main_Dataset.csv', index_col=False) "
   ]
  },
  {
   "cell_type": "code",
   "execution_count": 27,
   "metadata": {
    "colab": {
     "base_uri": "https://localhost:8080/",
     "height": 423
    },
    "execution": {
     "iopub.execute_input": "2023-05-29T22:14:07.043735Z",
     "iopub.status.busy": "2023-05-29T22:14:07.043521Z",
     "iopub.status.idle": "2023-05-29T22:14:07.057448Z",
     "shell.execute_reply": "2023-05-29T22:14:07.056794Z",
     "shell.execute_reply.started": "2023-05-29T22:14:07.043714Z"
    },
    "id": "lEV2AaJZar4J",
    "outputId": "cbe890f3-c778-4e16-8084-fa417f4fb2bd"
   },
   "outputs": [
    {
     "data": {
      "text/html": [
       "<div>\n",
       "<style scoped>\n",
       "    .dataframe tbody tr th:only-of-type {\n",
       "        vertical-align: middle;\n",
       "    }\n",
       "\n",
       "    .dataframe tbody tr th {\n",
       "        vertical-align: top;\n",
       "    }\n",
       "\n",
       "    .dataframe thead th {\n",
       "        text-align: right;\n",
       "    }\n",
       "</style>\n",
       "<table border=\"1\" class=\"dataframe\">\n",
       "  <thead>\n",
       "    <tr style=\"text-align: right;\">\n",
       "      <th></th>\n",
       "      <th>id</th>\n",
       "      <th>text</th>\n",
       "      <th>user_id</th>\n",
       "      <th>timestamp</th>\n",
       "      <th>cluster_id</th>\n",
       "    </tr>\n",
       "  </thead>\n",
       "  <tbody>\n",
       "    <tr>\n",
       "      <th>0</th>\n",
       "      <td>0</td>\n",
       "      <td>wow didn’t know the homies were coming through...</td>\n",
       "      <td>5.853807e+07</td>\n",
       "      <td>2021-08-02 01:25:46</td>\n",
       "      <td>2</td>\n",
       "    </tr>\n",
       "    <tr>\n",
       "      <th>1</th>\n",
       "      <td>1</td>\n",
       "      <td>the foggy nights in la be peaceful such a calm...</td>\n",
       "      <td>1.032647e+18</td>\n",
       "      <td>2021-08-28 08:47:36</td>\n",
       "      <td>2</td>\n",
       "    </tr>\n",
       "    <tr>\n",
       "      <th>2</th>\n",
       "      <td>2</td>\n",
       "      <td>khamisvideobomb</td>\n",
       "      <td>2.781174e+07</td>\n",
       "      <td>2021-08-13 15:49:15</td>\n",
       "      <td>2</td>\n",
       "    </tr>\n",
       "    <tr>\n",
       "      <th>3</th>\n",
       "      <td>3</td>\n",
       "      <td>anyone tryna hit the gym 4 hmu</td>\n",
       "      <td>5.490040e+08</td>\n",
       "      <td>2021-08-31 22:41:20</td>\n",
       "      <td>2</td>\n",
       "    </tr>\n",
       "    <tr>\n",
       "      <th>4</th>\n",
       "      <td>4</td>\n",
       "      <td>are you kidding me this intro is crazy.</td>\n",
       "      <td>2.963951e+07</td>\n",
       "      <td>2021-08-06 03:44:29</td>\n",
       "      <td>2</td>\n",
       "    </tr>\n",
       "    <tr>\n",
       "      <th>...</th>\n",
       "      <td>...</td>\n",
       "      <td>...</td>\n",
       "      <td>...</td>\n",
       "      <td>...</td>\n",
       "      <td>...</td>\n",
       "    </tr>\n",
       "    <tr>\n",
       "      <th>604201</th>\n",
       "      <td>604201</td>\n",
       "      <td>all students must be dressed appropriately eac...</td>\n",
       "      <td>1.990241e+08</td>\n",
       "      <td>2021-08-12 11:08:07</td>\n",
       "      <td>2996</td>\n",
       "    </tr>\n",
       "    <tr>\n",
       "      <th>604202</th>\n",
       "      <td>604202</td>\n",
       "      <td>i actually hate working with the lunch shift c...</td>\n",
       "      <td>1.382980e+18</td>\n",
       "      <td>2021-08-04 15:35:10</td>\n",
       "      <td>2996</td>\n",
       "    </tr>\n",
       "    <tr>\n",
       "      <th>604203</th>\n",
       "      <td>604203</td>\n",
       "      <td>if you’re reading thisyo mama</td>\n",
       "      <td>1.039173e+18</td>\n",
       "      <td>2021-08-24 00:49:46</td>\n",
       "      <td>2996</td>\n",
       "    </tr>\n",
       "    <tr>\n",
       "      <th>604204</th>\n",
       "      <td>604204</td>\n",
       "      <td>i mean secondddd</td>\n",
       "      <td>1.046619e+18</td>\n",
       "      <td>2021-08-02 17:02:13</td>\n",
       "      <td>2996</td>\n",
       "    </tr>\n",
       "    <tr>\n",
       "      <th>604205</th>\n",
       "      <td>604205</td>\n",
       "      <td>mixing different kinds of tide pods and downy ...</td>\n",
       "      <td>1.039173e+18</td>\n",
       "      <td>2021-08-17 20:02:40</td>\n",
       "      <td>2996</td>\n",
       "    </tr>\n",
       "  </tbody>\n",
       "</table>\n",
       "<p>604206 rows × 5 columns</p>\n",
       "</div>"
      ],
      "text/plain": [
       "            id                                               text  \\\n",
       "0            0  wow didn’t know the homies were coming through...   \n",
       "1            1  the foggy nights in la be peaceful such a calm...   \n",
       "2            2                                    khamisvideobomb   \n",
       "3            3                     anyone tryna hit the gym 4 hmu   \n",
       "4            4            are you kidding me this intro is crazy.   \n",
       "...        ...                                                ...   \n",
       "604201  604201  all students must be dressed appropriately eac...   \n",
       "604202  604202  i actually hate working with the lunch shift c...   \n",
       "604203  604203                      if you’re reading thisyo mama   \n",
       "604204  604204                                   i mean secondddd   \n",
       "604205  604205  mixing different kinds of tide pods and downy ...   \n",
       "\n",
       "             user_id            timestamp  cluster_id  \n",
       "0       5.853807e+07  2021-08-02 01:25:46           2  \n",
       "1       1.032647e+18  2021-08-28 08:47:36           2  \n",
       "2       2.781174e+07  2021-08-13 15:49:15           2  \n",
       "3       5.490040e+08  2021-08-31 22:41:20           2  \n",
       "4       2.963951e+07  2021-08-06 03:44:29           2  \n",
       "...              ...                  ...         ...  \n",
       "604201  1.990241e+08  2021-08-12 11:08:07        2996  \n",
       "604202  1.382980e+18  2021-08-04 15:35:10        2996  \n",
       "604203  1.039173e+18  2021-08-24 00:49:46        2996  \n",
       "604204  1.046619e+18  2021-08-02 17:02:13        2996  \n",
       "604205  1.039173e+18  2021-08-17 20:02:40        2996  \n",
       "\n",
       "[604206 rows x 5 columns]"
      ]
     },
     "execution_count": 27,
     "metadata": {},
     "output_type": "execute_result"
    }
   ],
   "source": [
    "data\n"
   ]
  },
  {
   "cell_type": "code",
   "execution_count": 28,
   "metadata": {
    "colab": {
     "base_uri": "https://localhost:8080/"
    },
    "execution": {
     "iopub.execute_input": "2023-05-29T22:14:07.058676Z",
     "iopub.status.busy": "2023-05-29T22:14:07.058470Z",
     "iopub.status.idle": "2023-05-29T22:14:07.176639Z",
     "shell.execute_reply": "2023-05-29T22:14:07.175970Z",
     "shell.execute_reply.started": "2023-05-29T22:14:07.058656Z"
    },
    "id": "_1AMBHG9atwE",
    "outputId": "4e117bac-4254-4871-a44d-c39db7659a9d"
   },
   "outputs": [
    {
     "name": "stdout",
     "output_type": "stream",
     "text": [
      "<class 'pandas.core.frame.DataFrame'>\n",
      "RangeIndex: 604206 entries, 0 to 604205\n",
      "Data columns (total 5 columns):\n",
      " #   Column      Non-Null Count   Dtype  \n",
      "---  ------      --------------   -----  \n",
      " 0   id          604206 non-null  int64  \n",
      " 1   text        604206 non-null  object \n",
      " 2   user_id     604206 non-null  float64\n",
      " 3   timestamp   591412 non-null  object \n",
      " 4   cluster_id  604206 non-null  int64  \n",
      "dtypes: float64(1), int64(2), object(2)\n",
      "memory usage: 23.0+ MB\n"
     ]
    }
   ],
   "source": [
    "data.info()"
   ]
  },
  {
   "cell_type": "code",
   "execution_count": 29,
   "metadata": {
    "colab": {
     "base_uri": "https://localhost:8080/"
    },
    "execution": {
     "iopub.execute_input": "2023-05-29T22:14:07.177847Z",
     "iopub.status.busy": "2023-05-29T22:14:07.177634Z",
     "iopub.status.idle": "2023-05-29T22:14:07.288932Z",
     "shell.execute_reply": "2023-05-29T22:14:07.288287Z",
     "shell.execute_reply.started": "2023-05-29T22:14:07.177827Z"
    },
    "id": "thLTyQQScT7p",
    "outputId": "b1a3b7de-ae06-4265-e66d-fac255e8402f"
   },
   "outputs": [
    {
     "data": {
      "text/plain": [
       "id                0\n",
       "text              0\n",
       "user_id           0\n",
       "timestamp     12794\n",
       "cluster_id        0\n",
       "dtype: int64"
      ]
     },
     "execution_count": 29,
     "metadata": {},
     "output_type": "execute_result"
    }
   ],
   "source": [
    "data.isna().sum()"
   ]
  },
  {
   "cell_type": "code",
   "execution_count": 30,
   "metadata": {
    "colab": {
     "base_uri": "https://localhost:8080/"
    },
    "execution": {
     "iopub.execute_input": "2023-05-29T22:14:07.292545Z",
     "iopub.status.busy": "2023-05-29T22:14:07.292342Z",
     "iopub.status.idle": "2023-05-29T22:14:07.879896Z",
     "shell.execute_reply": "2023-05-29T22:14:07.879159Z",
     "shell.execute_reply.started": "2023-05-29T22:14:07.292526Z"
    },
    "id": "EbWiccM0ccPI",
    "outputId": "0f0b4baf-1d9e-423d-aab0-a0e0cfc784fb"
   },
   "outputs": [
    {
     "data": {
      "text/plain": [
       "0"
      ]
     },
     "execution_count": 30,
     "metadata": {},
     "output_type": "execute_result"
    }
   ],
   "source": [
    "data.duplicated().sum()"
   ]
  },
  {
   "cell_type": "code",
   "execution_count": 31,
   "metadata": {
    "execution": {
     "iopub.execute_input": "2023-05-29T22:14:07.881224Z",
     "iopub.status.busy": "2023-05-29T22:14:07.881020Z",
     "iopub.status.idle": "2023-05-29T22:14:07.889913Z",
     "shell.execute_reply": "2023-05-29T22:14:07.889146Z",
     "shell.execute_reply.started": "2023-05-29T22:14:07.881205Z"
    },
    "id": "q2S5rqtmce9B"
   },
   "outputs": [],
   "source": [
    "geo_data=pd.read_csv('Clusters_Coordinates.csv')"
   ]
  },
  {
   "cell_type": "code",
   "execution_count": 32,
   "metadata": {
    "colab": {
     "base_uri": "https://localhost:8080/",
     "height": 423
    },
    "execution": {
     "iopub.execute_input": "2023-05-29T22:14:07.891125Z",
     "iopub.status.busy": "2023-05-29T22:14:07.890931Z",
     "iopub.status.idle": "2023-05-29T22:14:07.898860Z",
     "shell.execute_reply": "2023-05-29T22:14:07.898202Z",
     "shell.execute_reply.started": "2023-05-29T22:14:07.891103Z"
    },
    "id": "e9zTTZxUc_Bz",
    "outputId": "dbcacdd6-80e2-46f3-e54d-eff776878cc9"
   },
   "outputs": [
    {
     "data": {
      "text/html": [
       "<div>\n",
       "<style scoped>\n",
       "    .dataframe tbody tr th:only-of-type {\n",
       "        vertical-align: middle;\n",
       "    }\n",
       "\n",
       "    .dataframe tbody tr th {\n",
       "        vertical-align: top;\n",
       "    }\n",
       "\n",
       "    .dataframe thead th {\n",
       "        text-align: right;\n",
       "    }\n",
       "</style>\n",
       "<table border=\"1\" class=\"dataframe\">\n",
       "  <thead>\n",
       "    <tr style=\"text-align: right;\">\n",
       "      <th></th>\n",
       "      <th>cluster_id</th>\n",
       "      <th>lat</th>\n",
       "      <th>lng</th>\n",
       "    </tr>\n",
       "  </thead>\n",
       "  <tbody>\n",
       "    <tr>\n",
       "      <th>0</th>\n",
       "      <td>2</td>\n",
       "      <td>34.020789</td>\n",
       "      <td>-118.411907</td>\n",
       "    </tr>\n",
       "    <tr>\n",
       "      <th>1</th>\n",
       "      <td>3</td>\n",
       "      <td>31.168893</td>\n",
       "      <td>-100.076888</td>\n",
       "    </tr>\n",
       "    <tr>\n",
       "      <th>2</th>\n",
       "      <td>8</td>\n",
       "      <td>29.838495</td>\n",
       "      <td>-95.446487</td>\n",
       "    </tr>\n",
       "    <tr>\n",
       "      <th>3</th>\n",
       "      <td>9</td>\n",
       "      <td>40.780709</td>\n",
       "      <td>-73.968542</td>\n",
       "    </tr>\n",
       "    <tr>\n",
       "      <th>4</th>\n",
       "      <td>16</td>\n",
       "      <td>40.004866</td>\n",
       "      <td>-75.117998</td>\n",
       "    </tr>\n",
       "    <tr>\n",
       "      <th>...</th>\n",
       "      <td>...</td>\n",
       "      <td>...</td>\n",
       "      <td>...</td>\n",
       "    </tr>\n",
       "    <tr>\n",
       "      <th>845</th>\n",
       "      <td>2989</td>\n",
       "      <td>42.651668</td>\n",
       "      <td>-83.291425</td>\n",
       "    </tr>\n",
       "    <tr>\n",
       "      <th>846</th>\n",
       "      <td>2991</td>\n",
       "      <td>32.415051</td>\n",
       "      <td>-99.750556</td>\n",
       "    </tr>\n",
       "    <tr>\n",
       "      <th>847</th>\n",
       "      <td>2992</td>\n",
       "      <td>31.994300</td>\n",
       "      <td>-102.104627</td>\n",
       "    </tr>\n",
       "    <tr>\n",
       "      <th>848</th>\n",
       "      <td>2994</td>\n",
       "      <td>38.653771</td>\n",
       "      <td>-90.247824</td>\n",
       "    </tr>\n",
       "    <tr>\n",
       "      <th>849</th>\n",
       "      <td>2996</td>\n",
       "      <td>29.668301</td>\n",
       "      <td>-95.158936</td>\n",
       "    </tr>\n",
       "  </tbody>\n",
       "</table>\n",
       "<p>850 rows × 3 columns</p>\n",
       "</div>"
      ],
      "text/plain": [
       "     cluster_id        lat         lng\n",
       "0             2  34.020789 -118.411907\n",
       "1             3  31.168893 -100.076888\n",
       "2             8  29.838495  -95.446487\n",
       "3             9  40.780709  -73.968542\n",
       "4            16  40.004866  -75.117998\n",
       "..          ...        ...         ...\n",
       "845        2989  42.651668  -83.291425\n",
       "846        2991  32.415051  -99.750556\n",
       "847        2992  31.994300 -102.104627\n",
       "848        2994  38.653771  -90.247824\n",
       "849        2996  29.668301  -95.158936\n",
       "\n",
       "[850 rows x 3 columns]"
      ]
     },
     "execution_count": 32,
     "metadata": {},
     "output_type": "execute_result"
    }
   ],
   "source": [
    "geo_data"
   ]
  },
  {
   "cell_type": "code",
   "execution_count": 33,
   "metadata": {
    "execution": {
     "iopub.execute_input": "2023-05-29T22:14:07.900029Z",
     "iopub.status.busy": "2023-05-29T22:14:07.899660Z",
     "iopub.status.idle": "2023-05-29T22:14:07.968412Z",
     "shell.execute_reply": "2023-05-29T22:14:07.967679Z",
     "shell.execute_reply.started": "2023-05-29T22:14:07.900009Z"
    },
    "id": "y5VMWxvsdAcR"
   },
   "outputs": [],
   "source": [
    "complete_data=pd.merge(data, geo_data, on='cluster_id')"
   ]
  },
  {
   "cell_type": "code",
   "execution_count": 34,
   "metadata": {
    "colab": {
     "base_uri": "https://localhost:8080/",
     "height": 423
    },
    "execution": {
     "iopub.execute_input": "2023-05-29T22:14:07.969698Z",
     "iopub.status.busy": "2023-05-29T22:14:07.969477Z",
     "iopub.status.idle": "2023-05-29T22:14:07.979703Z",
     "shell.execute_reply": "2023-05-29T22:14:07.979095Z",
     "shell.execute_reply.started": "2023-05-29T22:14:07.969679Z"
    },
    "id": "Yd4h43DbeHmk",
    "outputId": "ed42f565-a026-4bec-c55a-61d5f3460aa0"
   },
   "outputs": [
    {
     "data": {
      "text/html": [
       "<div>\n",
       "<style scoped>\n",
       "    .dataframe tbody tr th:only-of-type {\n",
       "        vertical-align: middle;\n",
       "    }\n",
       "\n",
       "    .dataframe tbody tr th {\n",
       "        vertical-align: top;\n",
       "    }\n",
       "\n",
       "    .dataframe thead th {\n",
       "        text-align: right;\n",
       "    }\n",
       "</style>\n",
       "<table border=\"1\" class=\"dataframe\">\n",
       "  <thead>\n",
       "    <tr style=\"text-align: right;\">\n",
       "      <th></th>\n",
       "      <th>id</th>\n",
       "      <th>text</th>\n",
       "      <th>user_id</th>\n",
       "      <th>timestamp</th>\n",
       "      <th>cluster_id</th>\n",
       "      <th>lat</th>\n",
       "      <th>lng</th>\n",
       "    </tr>\n",
       "  </thead>\n",
       "  <tbody>\n",
       "    <tr>\n",
       "      <th>0</th>\n",
       "      <td>0</td>\n",
       "      <td>wow didn’t know the homies were coming through...</td>\n",
       "      <td>5.853807e+07</td>\n",
       "      <td>2021-08-02 01:25:46</td>\n",
       "      <td>2</td>\n",
       "      <td>34.020789</td>\n",
       "      <td>-118.411907</td>\n",
       "    </tr>\n",
       "    <tr>\n",
       "      <th>1</th>\n",
       "      <td>1</td>\n",
       "      <td>the foggy nights in la be peaceful such a calm...</td>\n",
       "      <td>1.032647e+18</td>\n",
       "      <td>2021-08-28 08:47:36</td>\n",
       "      <td>2</td>\n",
       "      <td>34.020789</td>\n",
       "      <td>-118.411907</td>\n",
       "    </tr>\n",
       "    <tr>\n",
       "      <th>2</th>\n",
       "      <td>2</td>\n",
       "      <td>khamisvideobomb</td>\n",
       "      <td>2.781174e+07</td>\n",
       "      <td>2021-08-13 15:49:15</td>\n",
       "      <td>2</td>\n",
       "      <td>34.020789</td>\n",
       "      <td>-118.411907</td>\n",
       "    </tr>\n",
       "    <tr>\n",
       "      <th>3</th>\n",
       "      <td>3</td>\n",
       "      <td>anyone tryna hit the gym 4 hmu</td>\n",
       "      <td>5.490040e+08</td>\n",
       "      <td>2021-08-31 22:41:20</td>\n",
       "      <td>2</td>\n",
       "      <td>34.020789</td>\n",
       "      <td>-118.411907</td>\n",
       "    </tr>\n",
       "    <tr>\n",
       "      <th>4</th>\n",
       "      <td>4</td>\n",
       "      <td>are you kidding me this intro is crazy.</td>\n",
       "      <td>2.963951e+07</td>\n",
       "      <td>2021-08-06 03:44:29</td>\n",
       "      <td>2</td>\n",
       "      <td>34.020789</td>\n",
       "      <td>-118.411907</td>\n",
       "    </tr>\n",
       "    <tr>\n",
       "      <th>...</th>\n",
       "      <td>...</td>\n",
       "      <td>...</td>\n",
       "      <td>...</td>\n",
       "      <td>...</td>\n",
       "      <td>...</td>\n",
       "      <td>...</td>\n",
       "      <td>...</td>\n",
       "    </tr>\n",
       "    <tr>\n",
       "      <th>604201</th>\n",
       "      <td>604201</td>\n",
       "      <td>all students must be dressed appropriately eac...</td>\n",
       "      <td>1.990241e+08</td>\n",
       "      <td>2021-08-12 11:08:07</td>\n",
       "      <td>2996</td>\n",
       "      <td>29.668301</td>\n",
       "      <td>-95.158936</td>\n",
       "    </tr>\n",
       "    <tr>\n",
       "      <th>604202</th>\n",
       "      <td>604202</td>\n",
       "      <td>i actually hate working with the lunch shift c...</td>\n",
       "      <td>1.382980e+18</td>\n",
       "      <td>2021-08-04 15:35:10</td>\n",
       "      <td>2996</td>\n",
       "      <td>29.668301</td>\n",
       "      <td>-95.158936</td>\n",
       "    </tr>\n",
       "    <tr>\n",
       "      <th>604203</th>\n",
       "      <td>604203</td>\n",
       "      <td>if you’re reading thisyo mama</td>\n",
       "      <td>1.039173e+18</td>\n",
       "      <td>2021-08-24 00:49:46</td>\n",
       "      <td>2996</td>\n",
       "      <td>29.668301</td>\n",
       "      <td>-95.158936</td>\n",
       "    </tr>\n",
       "    <tr>\n",
       "      <th>604204</th>\n",
       "      <td>604204</td>\n",
       "      <td>i mean secondddd</td>\n",
       "      <td>1.046619e+18</td>\n",
       "      <td>2021-08-02 17:02:13</td>\n",
       "      <td>2996</td>\n",
       "      <td>29.668301</td>\n",
       "      <td>-95.158936</td>\n",
       "    </tr>\n",
       "    <tr>\n",
       "      <th>604205</th>\n",
       "      <td>604205</td>\n",
       "      <td>mixing different kinds of tide pods and downy ...</td>\n",
       "      <td>1.039173e+18</td>\n",
       "      <td>2021-08-17 20:02:40</td>\n",
       "      <td>2996</td>\n",
       "      <td>29.668301</td>\n",
       "      <td>-95.158936</td>\n",
       "    </tr>\n",
       "  </tbody>\n",
       "</table>\n",
       "<p>604206 rows × 7 columns</p>\n",
       "</div>"
      ],
      "text/plain": [
       "            id                                               text  \\\n",
       "0            0  wow didn’t know the homies were coming through...   \n",
       "1            1  the foggy nights in la be peaceful such a calm...   \n",
       "2            2                                    khamisvideobomb   \n",
       "3            3                     anyone tryna hit the gym 4 hmu   \n",
       "4            4            are you kidding me this intro is crazy.   \n",
       "...        ...                                                ...   \n",
       "604201  604201  all students must be dressed appropriately eac...   \n",
       "604202  604202  i actually hate working with the lunch shift c...   \n",
       "604203  604203                      if you’re reading thisyo mama   \n",
       "604204  604204                                   i mean secondddd   \n",
       "604205  604205  mixing different kinds of tide pods and downy ...   \n",
       "\n",
       "             user_id            timestamp  cluster_id        lat         lng  \n",
       "0       5.853807e+07  2021-08-02 01:25:46           2  34.020789 -118.411907  \n",
       "1       1.032647e+18  2021-08-28 08:47:36           2  34.020789 -118.411907  \n",
       "2       2.781174e+07  2021-08-13 15:49:15           2  34.020789 -118.411907  \n",
       "3       5.490040e+08  2021-08-31 22:41:20           2  34.020789 -118.411907  \n",
       "4       2.963951e+07  2021-08-06 03:44:29           2  34.020789 -118.411907  \n",
       "...              ...                  ...         ...        ...         ...  \n",
       "604201  1.990241e+08  2021-08-12 11:08:07        2996  29.668301  -95.158936  \n",
       "604202  1.382980e+18  2021-08-04 15:35:10        2996  29.668301  -95.158936  \n",
       "604203  1.039173e+18  2021-08-24 00:49:46        2996  29.668301  -95.158936  \n",
       "604204  1.046619e+18  2021-08-02 17:02:13        2996  29.668301  -95.158936  \n",
       "604205  1.039173e+18  2021-08-17 20:02:40        2996  29.668301  -95.158936  \n",
       "\n",
       "[604206 rows x 7 columns]"
      ]
     },
     "execution_count": 34,
     "metadata": {},
     "output_type": "execute_result"
    }
   ],
   "source": [
    "complete_data"
   ]
  },
  {
   "cell_type": "code",
   "execution_count": 38,
   "metadata": {
    "execution": {
     "iopub.execute_input": "2023-05-29T22:19:10.494386Z",
     "iopub.status.busy": "2023-05-29T22:19:10.493454Z",
     "iopub.status.idle": "2023-05-29T22:19:10.505409Z",
     "shell.execute_reply": "2023-05-29T22:19:10.504603Z",
     "shell.execute_reply.started": "2023-05-29T22:19:10.494359Z"
    }
   },
   "outputs": [
    {
     "data": {
      "text/html": [
       "<div>\n",
       "<style scoped>\n",
       "    .dataframe tbody tr th:only-of-type {\n",
       "        vertical-align: middle;\n",
       "    }\n",
       "\n",
       "    .dataframe tbody tr th {\n",
       "        vertical-align: top;\n",
       "    }\n",
       "\n",
       "    .dataframe thead th {\n",
       "        text-align: right;\n",
       "    }\n",
       "</style>\n",
       "<table border=\"1\" class=\"dataframe\">\n",
       "  <thead>\n",
       "    <tr style=\"text-align: right;\">\n",
       "      <th></th>\n",
       "      <th>id</th>\n",
       "      <th>text</th>\n",
       "      <th>user_id</th>\n",
       "      <th>timestamp</th>\n",
       "      <th>cluster_id</th>\n",
       "      <th>lat</th>\n",
       "      <th>lng</th>\n",
       "    </tr>\n",
       "  </thead>\n",
       "  <tbody>\n",
       "    <tr>\n",
       "      <th>0</th>\n",
       "      <td>0</td>\n",
       "      <td>wow didn’t know the homies were coming through...</td>\n",
       "      <td>5.853807e+07</td>\n",
       "      <td>2021-08-02 01:25:46</td>\n",
       "      <td>2</td>\n",
       "      <td>34.020789</td>\n",
       "      <td>-118.411907</td>\n",
       "    </tr>\n",
       "    <tr>\n",
       "      <th>1</th>\n",
       "      <td>1</td>\n",
       "      <td>the foggy nights in la be peaceful such a calm...</td>\n",
       "      <td>1.032647e+18</td>\n",
       "      <td>2021-08-28 08:47:36</td>\n",
       "      <td>2</td>\n",
       "      <td>34.020789</td>\n",
       "      <td>-118.411907</td>\n",
       "    </tr>\n",
       "    <tr>\n",
       "      <th>2</th>\n",
       "      <td>2</td>\n",
       "      <td>khamisvideobomb</td>\n",
       "      <td>2.781174e+07</td>\n",
       "      <td>2021-08-13 15:49:15</td>\n",
       "      <td>2</td>\n",
       "      <td>34.020789</td>\n",
       "      <td>-118.411907</td>\n",
       "    </tr>\n",
       "    <tr>\n",
       "      <th>3</th>\n",
       "      <td>3</td>\n",
       "      <td>anyone tryna hit the gym 4 hmu</td>\n",
       "      <td>5.490040e+08</td>\n",
       "      <td>2021-08-31 22:41:20</td>\n",
       "      <td>2</td>\n",
       "      <td>34.020789</td>\n",
       "      <td>-118.411907</td>\n",
       "    </tr>\n",
       "    <tr>\n",
       "      <th>4</th>\n",
       "      <td>4</td>\n",
       "      <td>are you kidding me this intro is crazy.</td>\n",
       "      <td>2.963951e+07</td>\n",
       "      <td>2021-08-06 03:44:29</td>\n",
       "      <td>2</td>\n",
       "      <td>34.020789</td>\n",
       "      <td>-118.411907</td>\n",
       "    </tr>\n",
       "    <tr>\n",
       "      <th>...</th>\n",
       "      <td>...</td>\n",
       "      <td>...</td>\n",
       "      <td>...</td>\n",
       "      <td>...</td>\n",
       "      <td>...</td>\n",
       "      <td>...</td>\n",
       "      <td>...</td>\n",
       "    </tr>\n",
       "    <tr>\n",
       "      <th>604201</th>\n",
       "      <td>604201</td>\n",
       "      <td>all students must be dressed appropriately eac...</td>\n",
       "      <td>1.990241e+08</td>\n",
       "      <td>2021-08-12 11:08:07</td>\n",
       "      <td>2996</td>\n",
       "      <td>29.668301</td>\n",
       "      <td>-95.158936</td>\n",
       "    </tr>\n",
       "    <tr>\n",
       "      <th>604202</th>\n",
       "      <td>604202</td>\n",
       "      <td>i actually hate working with the lunch shift c...</td>\n",
       "      <td>1.382980e+18</td>\n",
       "      <td>2021-08-04 15:35:10</td>\n",
       "      <td>2996</td>\n",
       "      <td>29.668301</td>\n",
       "      <td>-95.158936</td>\n",
       "    </tr>\n",
       "    <tr>\n",
       "      <th>604203</th>\n",
       "      <td>604203</td>\n",
       "      <td>if you’re reading thisyo mama</td>\n",
       "      <td>1.039173e+18</td>\n",
       "      <td>2021-08-24 00:49:46</td>\n",
       "      <td>2996</td>\n",
       "      <td>29.668301</td>\n",
       "      <td>-95.158936</td>\n",
       "    </tr>\n",
       "    <tr>\n",
       "      <th>604204</th>\n",
       "      <td>604204</td>\n",
       "      <td>i mean secondddd</td>\n",
       "      <td>1.046619e+18</td>\n",
       "      <td>2021-08-02 17:02:13</td>\n",
       "      <td>2996</td>\n",
       "      <td>29.668301</td>\n",
       "      <td>-95.158936</td>\n",
       "    </tr>\n",
       "    <tr>\n",
       "      <th>604205</th>\n",
       "      <td>604205</td>\n",
       "      <td>mixing different kinds of tide pods and downy ...</td>\n",
       "      <td>1.039173e+18</td>\n",
       "      <td>2021-08-17 20:02:40</td>\n",
       "      <td>2996</td>\n",
       "      <td>29.668301</td>\n",
       "      <td>-95.158936</td>\n",
       "    </tr>\n",
       "  </tbody>\n",
       "</table>\n",
       "<p>604206 rows × 7 columns</p>\n",
       "</div>"
      ],
      "text/plain": [
       "            id                                               text  \\\n",
       "0            0  wow didn’t know the homies were coming through...   \n",
       "1            1  the foggy nights in la be peaceful such a calm...   \n",
       "2            2                                    khamisvideobomb   \n",
       "3            3                     anyone tryna hit the gym 4 hmu   \n",
       "4            4            are you kidding me this intro is crazy.   \n",
       "...        ...                                                ...   \n",
       "604201  604201  all students must be dressed appropriately eac...   \n",
       "604202  604202  i actually hate working with the lunch shift c...   \n",
       "604203  604203                      if you’re reading thisyo mama   \n",
       "604204  604204                                   i mean secondddd   \n",
       "604205  604205  mixing different kinds of tide pods and downy ...   \n",
       "\n",
       "             user_id            timestamp  cluster_id        lat         lng  \n",
       "0       5.853807e+07  2021-08-02 01:25:46           2  34.020789 -118.411907  \n",
       "1       1.032647e+18  2021-08-28 08:47:36           2  34.020789 -118.411907  \n",
       "2       2.781174e+07  2021-08-13 15:49:15           2  34.020789 -118.411907  \n",
       "3       5.490040e+08  2021-08-31 22:41:20           2  34.020789 -118.411907  \n",
       "4       2.963951e+07  2021-08-06 03:44:29           2  34.020789 -118.411907  \n",
       "...              ...                  ...         ...        ...         ...  \n",
       "604201  1.990241e+08  2021-08-12 11:08:07        2996  29.668301  -95.158936  \n",
       "604202  1.382980e+18  2021-08-04 15:35:10        2996  29.668301  -95.158936  \n",
       "604203  1.039173e+18  2021-08-24 00:49:46        2996  29.668301  -95.158936  \n",
       "604204  1.046619e+18  2021-08-02 17:02:13        2996  29.668301  -95.158936  \n",
       "604205  1.039173e+18  2021-08-17 20:02:40        2996  29.668301  -95.158936  \n",
       "\n",
       "[604206 rows x 7 columns]"
      ]
     },
     "execution_count": 38,
     "metadata": {},
     "output_type": "execute_result"
    }
   ],
   "source": [
    "complete_data"
   ]
  },
  {
   "cell_type": "code",
   "execution_count": 36,
   "metadata": {
    "execution": {
     "iopub.execute_input": "2023-05-29T22:14:07.991102Z",
     "iopub.status.busy": "2023-05-29T22:14:07.990917Z",
     "iopub.status.idle": "2023-05-29T22:14:07.993850Z",
     "shell.execute_reply": "2023-05-29T22:14:07.993260Z",
     "shell.execute_reply.started": "2023-05-29T22:14:07.991084Z"
    }
   },
   "outputs": [],
   "source": [
    "import plotly.graph_objects as go\n",
    "import pandas as pd"
   ]
  },
  {
   "cell_type": "code",
   "execution_count": 40,
   "metadata": {
    "colab": {
     "base_uri": "https://localhost:8080/"
    },
    "execution": {
     "iopub.execute_input": "2023-05-29T22:19:39.951784Z",
     "iopub.status.busy": "2023-05-29T22:19:39.950960Z",
     "iopub.status.idle": "2023-05-29T22:19:40.061597Z",
     "shell.execute_reply": "2023-05-29T22:19:40.060848Z",
     "shell.execute_reply.started": "2023-05-29T22:19:39.951757Z"
    },
    "id": "iVPegjJ_ewYi",
    "outputId": "64b7846c-185c-4a1f-8667-3db723cff321"
   },
   "outputs": [
    {
     "name": "stdout",
     "output_type": "stream",
     "text": [
      "<class 'pandas.core.frame.DataFrame'>\n",
      "Int64Index: 604206 entries, 0 to 604205\n",
      "Data columns (total 7 columns):\n",
      " #   Column      Non-Null Count   Dtype  \n",
      "---  ------      --------------   -----  \n",
      " 0   id          604206 non-null  int64  \n",
      " 1   text        604206 non-null  object \n",
      " 2   user_id     604206 non-null  float64\n",
      " 3   timestamp   591412 non-null  object \n",
      " 4   cluster_id  604206 non-null  int64  \n",
      " 5   lat         604206 non-null  float64\n",
      " 6   lng         604206 non-null  float64\n",
      "dtypes: float64(3), int64(2), object(2)\n",
      "memory usage: 36.9+ MB\n"
     ]
    }
   ],
   "source": [
    "complete_data.info()"
   ]
  },
  {
   "cell_type": "code",
   "execution_count": 41,
   "metadata": {
    "colab": {
     "base_uri": "https://localhost:8080/"
    },
    "execution": {
     "iopub.execute_input": "2023-05-29T22:19:41.169691Z",
     "iopub.status.busy": "2023-05-29T22:19:41.169102Z",
     "iopub.status.idle": "2023-05-29T22:19:41.478833Z",
     "shell.execute_reply": "2023-05-29T22:19:41.477374Z",
     "shell.execute_reply.started": "2023-05-29T22:19:41.169664Z"
    },
    "id": "uuKOsvODi2YN",
    "outputId": "04328c0e-c01a-43bb-900b-40738954a3a2"
   },
   "outputs": [
    {
     "name": "stdout",
     "output_type": "stream",
     "text": [
      "<class 'pandas.core.frame.DataFrame'>\n",
      "Int64Index: 591412 entries, 0 to 604205\n",
      "Data columns (total 7 columns):\n",
      " #   Column      Non-Null Count   Dtype  \n",
      "---  ------      --------------   -----  \n",
      " 0   id          591412 non-null  int64  \n",
      " 1   text        591412 non-null  object \n",
      " 2   user_id     591412 non-null  float64\n",
      " 3   timestamp   591412 non-null  object \n",
      " 4   cluster_id  591412 non-null  int64  \n",
      " 5   lat         591412 non-null  float64\n",
      " 6   lng         591412 non-null  float64\n",
      "dtypes: float64(3), int64(2), object(2)\n",
      "memory usage: 36.1+ MB\n"
     ]
    }
   ],
   "source": [
    "complete_data.dropna(inplace=True)\n",
    "complete_data.info()"
   ]
  },
  {
   "cell_type": "code",
   "execution_count": 42,
   "metadata": {
    "colab": {
     "base_uri": "https://localhost:8080/"
    },
    "execution": {
     "iopub.execute_input": "2023-05-29T22:19:41.850226Z",
     "iopub.status.busy": "2023-05-29T22:19:41.849522Z",
     "iopub.status.idle": "2023-05-29T22:19:41.856010Z",
     "shell.execute_reply": "2023-05-29T22:19:41.855382Z",
     "shell.execute_reply.started": "2023-05-29T22:19:41.850199Z"
    },
    "id": "RTSTQnpbe7XE",
    "outputId": "802a4f03-78ae-44a6-9158-aa02745b9659"
   },
   "outputs": [
    {
     "data": {
      "text/plain": [
       "0         wow didn’t know the homies were coming through...\n",
       "1         the foggy nights in la be peaceful such a calm...\n",
       "2                                           khamisvideobomb\n",
       "3                            anyone tryna hit the gym 4 hmu\n",
       "4                   are you kidding me this intro is crazy.\n",
       "                                ...                        \n",
       "604201    all students must be dressed appropriately eac...\n",
       "604202    i actually hate working with the lunch shift c...\n",
       "604203                        if you’re reading thisyo mama\n",
       "604204                                     i mean secondddd\n",
       "604205    mixing different kinds of tide pods and downy ...\n",
       "Name: text, Length: 591412, dtype: object"
      ]
     },
     "execution_count": 42,
     "metadata": {},
     "output_type": "execute_result"
    }
   ],
   "source": [
    "complete_data['text']"
   ]
  },
  {
   "cell_type": "code",
   "execution_count": 43,
   "metadata": {
    "execution": {
     "iopub.execute_input": "2023-05-29T22:19:42.852528Z",
     "iopub.status.busy": "2023-05-29T22:19:42.852197Z",
     "iopub.status.idle": "2023-05-29T22:19:42.931036Z",
     "shell.execute_reply": "2023-05-29T22:19:42.930294Z",
     "shell.execute_reply.started": "2023-05-29T22:19:42.852504Z"
    },
    "id": "1DIS9ZQ9fHav"
   },
   "outputs": [],
   "source": [
    "complete_data['timestamp']= pd.to_datetime(complete_data['timestamp'])"
   ]
  },
  {
   "cell_type": "code",
   "execution_count": 44,
   "metadata": {
    "colab": {
     "base_uri": "https://localhost:8080/"
    },
    "execution": {
     "iopub.execute_input": "2023-05-29T22:19:45.077155Z",
     "iopub.status.busy": "2023-05-29T22:19:45.076279Z",
     "iopub.status.idle": "2023-05-29T22:19:45.083496Z",
     "shell.execute_reply": "2023-05-29T22:19:45.082702Z",
     "shell.execute_reply.started": "2023-05-29T22:19:45.077129Z"
    },
    "id": "A5_cUtO3fj7-",
    "outputId": "fb029333-6b7b-43ca-a8f3-de810c5f1a41"
   },
   "outputs": [
    {
     "data": {
      "text/plain": [
       "0        2021-08-02 01:25:46\n",
       "1        2021-08-28 08:47:36\n",
       "2        2021-08-13 15:49:15\n",
       "3        2021-08-31 22:41:20\n",
       "4        2021-08-06 03:44:29\n",
       "                 ...        \n",
       "604201   2021-08-12 11:08:07\n",
       "604202   2021-08-04 15:35:10\n",
       "604203   2021-08-24 00:49:46\n",
       "604204   2021-08-02 17:02:13\n",
       "604205   2021-08-17 20:02:40\n",
       "Name: timestamp, Length: 591412, dtype: datetime64[ns]"
      ]
     },
     "execution_count": 44,
     "metadata": {},
     "output_type": "execute_result"
    }
   ],
   "source": [
    "complete_data['timestamp']"
   ]
  },
  {
   "cell_type": "markdown",
   "metadata": {
    "id": "m9J0DHJrRajB"
   },
   "source": [
    "<span style=\"font-size:24px; font-weight:bold;\">Extracting Sample Data for Analysis</span>"
   ]
  },
  {
   "cell_type": "code",
   "execution_count": 45,
   "metadata": {
    "execution": {
     "iopub.execute_input": "2023-05-29T22:19:47.081288Z",
     "iopub.status.busy": "2023-05-29T22:19:47.080516Z",
     "iopub.status.idle": "2023-05-29T22:19:47.084290Z",
     "shell.execute_reply": "2023-05-29T22:19:47.083689Z",
     "shell.execute_reply.started": "2023-05-29T22:19:47.081261Z"
    },
    "id": "ABVmUtCGgM63"
   },
   "outputs": [],
   "source": [
    "sample_data= complete_data"
   ]
  },
  {
   "cell_type": "code",
   "execution_count": 46,
   "metadata": {
    "colab": {
     "base_uri": "https://localhost:8080/",
     "height": 423
    },
    "execution": {
     "iopub.execute_input": "2023-05-29T22:19:49.982972Z",
     "iopub.status.busy": "2023-05-29T22:19:49.982382Z",
     "iopub.status.idle": "2023-05-29T22:19:49.994807Z",
     "shell.execute_reply": "2023-05-29T22:19:49.994049Z",
     "shell.execute_reply.started": "2023-05-29T22:19:49.982947Z"
    },
    "id": "pEjp2ipJg1nW",
    "outputId": "fb7ed5c3-7623-4471-e413-68323e97f6c6"
   },
   "outputs": [
    {
     "data": {
      "text/html": [
       "<div>\n",
       "<style scoped>\n",
       "    .dataframe tbody tr th:only-of-type {\n",
       "        vertical-align: middle;\n",
       "    }\n",
       "\n",
       "    .dataframe tbody tr th {\n",
       "        vertical-align: top;\n",
       "    }\n",
       "\n",
       "    .dataframe thead th {\n",
       "        text-align: right;\n",
       "    }\n",
       "</style>\n",
       "<table border=\"1\" class=\"dataframe\">\n",
       "  <thead>\n",
       "    <tr style=\"text-align: right;\">\n",
       "      <th></th>\n",
       "      <th>id</th>\n",
       "      <th>text</th>\n",
       "      <th>user_id</th>\n",
       "      <th>timestamp</th>\n",
       "      <th>cluster_id</th>\n",
       "      <th>lat</th>\n",
       "      <th>lng</th>\n",
       "    </tr>\n",
       "  </thead>\n",
       "  <tbody>\n",
       "    <tr>\n",
       "      <th>0</th>\n",
       "      <td>0</td>\n",
       "      <td>wow didn’t know the homies were coming through...</td>\n",
       "      <td>5.853807e+07</td>\n",
       "      <td>2021-08-02 01:25:46</td>\n",
       "      <td>2</td>\n",
       "      <td>34.020789</td>\n",
       "      <td>-118.411907</td>\n",
       "    </tr>\n",
       "    <tr>\n",
       "      <th>1</th>\n",
       "      <td>1</td>\n",
       "      <td>the foggy nights in la be peaceful such a calm...</td>\n",
       "      <td>1.032647e+18</td>\n",
       "      <td>2021-08-28 08:47:36</td>\n",
       "      <td>2</td>\n",
       "      <td>34.020789</td>\n",
       "      <td>-118.411907</td>\n",
       "    </tr>\n",
       "    <tr>\n",
       "      <th>2</th>\n",
       "      <td>2</td>\n",
       "      <td>khamisvideobomb</td>\n",
       "      <td>2.781174e+07</td>\n",
       "      <td>2021-08-13 15:49:15</td>\n",
       "      <td>2</td>\n",
       "      <td>34.020789</td>\n",
       "      <td>-118.411907</td>\n",
       "    </tr>\n",
       "    <tr>\n",
       "      <th>3</th>\n",
       "      <td>3</td>\n",
       "      <td>anyone tryna hit the gym 4 hmu</td>\n",
       "      <td>5.490040e+08</td>\n",
       "      <td>2021-08-31 22:41:20</td>\n",
       "      <td>2</td>\n",
       "      <td>34.020789</td>\n",
       "      <td>-118.411907</td>\n",
       "    </tr>\n",
       "    <tr>\n",
       "      <th>4</th>\n",
       "      <td>4</td>\n",
       "      <td>are you kidding me this intro is crazy.</td>\n",
       "      <td>2.963951e+07</td>\n",
       "      <td>2021-08-06 03:44:29</td>\n",
       "      <td>2</td>\n",
       "      <td>34.020789</td>\n",
       "      <td>-118.411907</td>\n",
       "    </tr>\n",
       "    <tr>\n",
       "      <th>...</th>\n",
       "      <td>...</td>\n",
       "      <td>...</td>\n",
       "      <td>...</td>\n",
       "      <td>...</td>\n",
       "      <td>...</td>\n",
       "      <td>...</td>\n",
       "      <td>...</td>\n",
       "    </tr>\n",
       "    <tr>\n",
       "      <th>604201</th>\n",
       "      <td>604201</td>\n",
       "      <td>all students must be dressed appropriately eac...</td>\n",
       "      <td>1.990241e+08</td>\n",
       "      <td>2021-08-12 11:08:07</td>\n",
       "      <td>2996</td>\n",
       "      <td>29.668301</td>\n",
       "      <td>-95.158936</td>\n",
       "    </tr>\n",
       "    <tr>\n",
       "      <th>604202</th>\n",
       "      <td>604202</td>\n",
       "      <td>i actually hate working with the lunch shift c...</td>\n",
       "      <td>1.382980e+18</td>\n",
       "      <td>2021-08-04 15:35:10</td>\n",
       "      <td>2996</td>\n",
       "      <td>29.668301</td>\n",
       "      <td>-95.158936</td>\n",
       "    </tr>\n",
       "    <tr>\n",
       "      <th>604203</th>\n",
       "      <td>604203</td>\n",
       "      <td>if you’re reading thisyo mama</td>\n",
       "      <td>1.039173e+18</td>\n",
       "      <td>2021-08-24 00:49:46</td>\n",
       "      <td>2996</td>\n",
       "      <td>29.668301</td>\n",
       "      <td>-95.158936</td>\n",
       "    </tr>\n",
       "    <tr>\n",
       "      <th>604204</th>\n",
       "      <td>604204</td>\n",
       "      <td>i mean secondddd</td>\n",
       "      <td>1.046619e+18</td>\n",
       "      <td>2021-08-02 17:02:13</td>\n",
       "      <td>2996</td>\n",
       "      <td>29.668301</td>\n",
       "      <td>-95.158936</td>\n",
       "    </tr>\n",
       "    <tr>\n",
       "      <th>604205</th>\n",
       "      <td>604205</td>\n",
       "      <td>mixing different kinds of tide pods and downy ...</td>\n",
       "      <td>1.039173e+18</td>\n",
       "      <td>2021-08-17 20:02:40</td>\n",
       "      <td>2996</td>\n",
       "      <td>29.668301</td>\n",
       "      <td>-95.158936</td>\n",
       "    </tr>\n",
       "  </tbody>\n",
       "</table>\n",
       "<p>591412 rows × 7 columns</p>\n",
       "</div>"
      ],
      "text/plain": [
       "            id                                               text  \\\n",
       "0            0  wow didn’t know the homies were coming through...   \n",
       "1            1  the foggy nights in la be peaceful such a calm...   \n",
       "2            2                                    khamisvideobomb   \n",
       "3            3                     anyone tryna hit the gym 4 hmu   \n",
       "4            4            are you kidding me this intro is crazy.   \n",
       "...        ...                                                ...   \n",
       "604201  604201  all students must be dressed appropriately eac...   \n",
       "604202  604202  i actually hate working with the lunch shift c...   \n",
       "604203  604203                      if you’re reading thisyo mama   \n",
       "604204  604204                                   i mean secondddd   \n",
       "604205  604205  mixing different kinds of tide pods and downy ...   \n",
       "\n",
       "             user_id           timestamp  cluster_id        lat         lng  \n",
       "0       5.853807e+07 2021-08-02 01:25:46           2  34.020789 -118.411907  \n",
       "1       1.032647e+18 2021-08-28 08:47:36           2  34.020789 -118.411907  \n",
       "2       2.781174e+07 2021-08-13 15:49:15           2  34.020789 -118.411907  \n",
       "3       5.490040e+08 2021-08-31 22:41:20           2  34.020789 -118.411907  \n",
       "4       2.963951e+07 2021-08-06 03:44:29           2  34.020789 -118.411907  \n",
       "...              ...                 ...         ...        ...         ...  \n",
       "604201  1.990241e+08 2021-08-12 11:08:07        2996  29.668301  -95.158936  \n",
       "604202  1.382980e+18 2021-08-04 15:35:10        2996  29.668301  -95.158936  \n",
       "604203  1.039173e+18 2021-08-24 00:49:46        2996  29.668301  -95.158936  \n",
       "604204  1.046619e+18 2021-08-02 17:02:13        2996  29.668301  -95.158936  \n",
       "604205  1.039173e+18 2021-08-17 20:02:40        2996  29.668301  -95.158936  \n",
       "\n",
       "[591412 rows x 7 columns]"
      ]
     },
     "execution_count": 46,
     "metadata": {},
     "output_type": "execute_result"
    }
   ],
   "source": [
    "sample_data"
   ]
  },
  {
   "cell_type": "code",
   "execution_count": 47,
   "metadata": {
    "execution": {
     "iopub.execute_input": "2023-05-29T22:19:51.052155Z",
     "iopub.status.busy": "2023-05-29T22:19:51.051276Z",
     "iopub.status.idle": "2023-05-29T22:19:51.056060Z",
     "shell.execute_reply": "2023-05-29T22:19:51.055374Z",
     "shell.execute_reply.started": "2023-05-29T22:19:51.052120Z"
    },
    "id": "eetfLFl7RajE"
   },
   "outputs": [],
   "source": [
    "def clear_text(text):\n",
    "    pattern = r\"[^a-zA-Z']\"\n",
    "    text = re.sub(pattern, ' ', text.lower())\n",
    "    text = text.split()\n",
    "    text = \" \".join(text)\n",
    "    return text"
   ]
  },
  {
   "cell_type": "code",
   "execution_count": 48,
   "metadata": {
    "colab": {
     "base_uri": "https://localhost:8080/"
    },
    "execution": {
     "iopub.execute_input": "2023-05-29T22:19:52.415636Z",
     "iopub.status.busy": "2023-05-29T22:19:52.415353Z",
     "iopub.status.idle": "2023-05-29T22:19:55.737862Z",
     "shell.execute_reply": "2023-05-29T22:19:55.737132Z",
     "shell.execute_reply.started": "2023-05-29T22:19:52.415613Z"
    },
    "id": "Nly_nViFRajE",
    "outputId": "1a00001a-0588-4178-e80d-f91677e0c5d0"
   },
   "outputs": [
    {
     "name": "stderr",
     "output_type": "stream",
     "text": [
      "100%|██████████| 591412/591412 [00:03<00:00, 179234.24it/s]\n"
     ]
    }
   ],
   "source": [
    "tqdm.pandas()\n",
    "sample_data['text'] = sample_data['text'].progress_apply(clear_text)"
   ]
  },
  {
   "cell_type": "code",
   "execution_count": 54,
   "metadata": {
    "execution": {
     "iopub.execute_input": "2023-05-29T22:31:34.152073Z",
     "iopub.status.busy": "2023-05-29T22:31:34.151768Z",
     "iopub.status.idle": "2023-05-29T22:31:34.156975Z",
     "shell.execute_reply": "2023-05-29T22:31:34.156135Z",
     "shell.execute_reply.started": "2023-05-29T22:31:34.152049Z"
    }
   },
   "outputs": [],
   "source": [
    "map = folium.Map()"
   ]
  },
  {
   "cell_type": "code",
   "execution_count": 55,
   "metadata": {
    "execution": {
     "iopub.execute_input": "2023-05-29T22:31:36.935238Z",
     "iopub.status.busy": "2023-05-29T22:31:36.934943Z",
     "iopub.status.idle": "2023-05-29T22:32:14.178911Z",
     "shell.execute_reply": "2023-05-29T22:32:14.178229Z",
     "shell.execute_reply.started": "2023-05-29T22:31:36.935216Z"
    }
   },
   "outputs": [],
   "source": [
    "for index, row in complete_data.iterrows():\n",
    "    lat, lng = row['lat'], row['lng']\n",
    "    folium.Marker([lat, lng]).add_to(map)"
   ]
  },
  {
   "cell_type": "code",
   "execution_count": null,
   "metadata": {
    "execution": {
     "iopub.execute_input": "2023-05-30T01:41:45.751845Z",
     "iopub.status.busy": "2023-05-30T01:41:45.751178Z"
    }
   },
   "outputs": [],
   "source": [
    "from IPython.display import display\n",
    "display(map)"
   ]
  },
  {
   "cell_type": "code",
   "execution_count": 56,
   "metadata": {
    "execution": {
     "iopub.execute_input": "2023-05-29T22:32:14.180387Z",
     "iopub.status.busy": "2023-05-29T22:32:14.180174Z",
     "iopub.status.idle": "2023-05-29T22:34:49.638636Z",
     "shell.execute_reply": "2023-05-29T22:34:49.637970Z",
     "shell.execute_reply.started": "2023-05-29T22:32:14.180367Z"
    }
   },
   "outputs": [],
   "source": [
    "map.save('map_folim.html')"
   ]
  },
  {
   "cell_type": "code",
   "execution_count": 57,
   "metadata": {
    "colab": {
     "base_uri": "https://localhost:8080/"
    },
    "execution": {
     "iopub.execute_input": "2023-05-29T22:34:49.639815Z",
     "iopub.status.busy": "2023-05-29T22:34:49.639605Z",
     "iopub.status.idle": "2023-05-29T22:34:49.644479Z",
     "shell.execute_reply": "2023-05-29T22:34:49.643891Z",
     "shell.execute_reply.started": "2023-05-29T22:34:49.639795Z"
    },
    "id": "b7-auruzRajE",
    "outputId": "19cd9182-c31c-431d-b7ba-a31466a5da40"
   },
   "outputs": [
    {
     "data": {
      "text/plain": [
       "0    wow didn t know the homies were coming through...\n",
       "1    the foggy nights in la be peaceful such a calm...\n",
       "2                                      khamisvideobomb\n",
       "3                         anyone tryna hit the gym hmu\n",
       "4               are you kidding me this intro is crazy\n",
       "Name: text, dtype: object"
      ]
     },
     "execution_count": 57,
     "metadata": {},
     "output_type": "execute_result"
    }
   ],
   "source": [
    "sample_data['text'].head()"
   ]
  },
  {
   "cell_type": "code",
   "execution_count": 58,
   "metadata": {
    "execution": {
     "iopub.execute_input": "2023-05-29T22:34:49.646019Z",
     "iopub.status.busy": "2023-05-29T22:34:49.645834Z",
     "iopub.status.idle": "2023-05-29T22:34:49.649087Z",
     "shell.execute_reply": "2023-05-29T22:34:49.648600Z",
     "shell.execute_reply.started": "2023-05-29T22:34:49.646000Z"
    },
    "id": "MYK4ZKvuRajE"
   },
   "outputs": [],
   "source": [
    "def get_language_label(text):\n",
    "    try:\n",
    "        lang = detect(text)\n",
    "        if lang == 'en':\n",
    "            return '0'\n",
    "        elif lang == 'es':\n",
    "            return '1'\n",
    "        else:\n",
    "            return '3'\n",
    "    except:\n",
    "        return '3'"
   ]
  },
  {
   "cell_type": "code",
   "execution_count": 59,
   "metadata": {
    "execution": {
     "iopub.execute_input": "2023-05-29T22:34:49.649936Z",
     "iopub.status.busy": "2023-05-29T22:34:49.649741Z",
     "iopub.status.idle": "2023-05-29T23:12:11.504903Z",
     "shell.execute_reply": "2023-05-29T23:12:11.504263Z",
     "shell.execute_reply.started": "2023-05-29T22:34:49.649910Z"
    }
   },
   "outputs": [
    {
     "name": "stderr",
     "output_type": "stream",
     "text": [
      "100%|██████████| 591412/591412 [37:21<00:00, 263.81it/s]"
     ]
    },
    {
     "name": "stdout",
     "output_type": "stream",
     "text": [
      "CPU times: user 37min 9s, sys: 17.3 s, total: 37min 27s\n",
      "Wall time: 37min 21s\n"
     ]
    },
    {
     "name": "stderr",
     "output_type": "stream",
     "text": [
      "\n"
     ]
    }
   ],
   "source": [
    "%%time\n",
    "\n",
    "with tf.device('/GPU:0'):\n",
    "    sample_data['language']=sample_data['text'].progress_apply(get_language_label)\n",
    "    "
   ]
  },
  {
   "cell_type": "code",
   "execution_count": 64,
   "metadata": {
    "colab": {
     "base_uri": "https://localhost:8080/"
    },
    "execution": {
     "iopub.execute_input": "2023-05-29T23:29:17.692816Z",
     "iopub.status.busy": "2023-05-29T23:29:17.692268Z",
     "iopub.status.idle": "2023-05-29T23:29:17.712469Z",
     "shell.execute_reply": "2023-05-29T23:29:17.711711Z",
     "shell.execute_reply.started": "2023-05-29T23:29:17.692793Z"
    },
    "id": "3tAv3cGcRajF",
    "outputId": "229ba588-6d49-4001-c9b6-0cd2b1ea2db7"
   },
   "outputs": [
    {
     "data": {
      "text/plain": [
       "1     61179\n",
       "3     85409\n",
       "0    444824\n",
       "Name: language, dtype: int64"
      ]
     },
     "execution_count": 64,
     "metadata": {},
     "output_type": "execute_result"
    }
   ],
   "source": [
    "sample_data['language'].value_counts().sort_values()"
   ]
  },
  {
   "cell_type": "code",
   "execution_count": 61,
   "metadata": {
    "colab": {
     "base_uri": "https://localhost:8080/"
    },
    "execution": {
     "iopub.execute_input": "2023-05-29T23:12:11.528524Z",
     "iopub.status.busy": "2023-05-29T23:12:11.528330Z",
     "iopub.status.idle": "2023-05-29T23:12:11.531997Z",
     "shell.execute_reply": "2023-05-29T23:12:11.531333Z",
     "shell.execute_reply.started": "2023-05-29T23:12:11.528505Z"
    },
    "id": "ZceNpjFuRajF",
    "outputId": "9a0d3666-91d0-40ec-9826-cb48abb3b6ea"
   },
   "outputs": [],
   "source": [
    "#print('English Text Proportion', len(sample_data[sample_data['language'] == '0']) / len(sample_data))\n",
    "#print('Spanish Text Proportion',len(sample_data[sample_data['language'] == '1']) / len(sample_data))\n",
    "#print('Other Text Proportion',len(sample_data[sample_data['language'] == '3']) / len(sample_data))"
   ]
  },
  {
   "cell_type": "code",
   "execution_count": 65,
   "metadata": {
    "colab": {
     "base_uri": "https://localhost:8080/",
     "height": 423
    },
    "execution": {
     "iopub.execute_input": "2023-05-29T23:29:42.024005Z",
     "iopub.status.busy": "2023-05-29T23:29:42.023193Z",
     "iopub.status.idle": "2023-05-29T23:29:42.091985Z",
     "shell.execute_reply": "2023-05-29T23:29:42.091270Z",
     "shell.execute_reply.started": "2023-05-29T23:29:42.023979Z"
    },
    "id": "kdz7LfjmRajF",
    "outputId": "98334411-d482-42eb-acb2-34837e621ca0"
   },
   "outputs": [
    {
     "data": {
      "text/html": [
       "<div>\n",
       "<style scoped>\n",
       "    .dataframe tbody tr th:only-of-type {\n",
       "        vertical-align: middle;\n",
       "    }\n",
       "\n",
       "    .dataframe tbody tr th {\n",
       "        vertical-align: top;\n",
       "    }\n",
       "\n",
       "    .dataframe thead th {\n",
       "        text-align: right;\n",
       "    }\n",
       "</style>\n",
       "<table border=\"1\" class=\"dataframe\">\n",
       "  <thead>\n",
       "    <tr style=\"text-align: right;\">\n",
       "      <th></th>\n",
       "      <th>id</th>\n",
       "      <th>text</th>\n",
       "      <th>user_id</th>\n",
       "      <th>timestamp</th>\n",
       "      <th>cluster_id</th>\n",
       "      <th>lat</th>\n",
       "      <th>lng</th>\n",
       "      <th>language</th>\n",
       "    </tr>\n",
       "  </thead>\n",
       "  <tbody>\n",
       "    <tr>\n",
       "      <th>2</th>\n",
       "      <td>2</td>\n",
       "      <td>khamisvideobomb</td>\n",
       "      <td>2.781174e+07</td>\n",
       "      <td>2021-08-13 15:49:15</td>\n",
       "      <td>2</td>\n",
       "      <td>34.020789</td>\n",
       "      <td>-118.411907</td>\n",
       "      <td>3</td>\n",
       "    </tr>\n",
       "    <tr>\n",
       "      <th>11</th>\n",
       "      <td>11</td>\n",
       "      <td>nobody own you shit</td>\n",
       "      <td>7.445710e+07</td>\n",
       "      <td>2021-02-02 09:41:32</td>\n",
       "      <td>2</td>\n",
       "      <td>34.020789</td>\n",
       "      <td>-118.411907</td>\n",
       "      <td>3</td>\n",
       "    </tr>\n",
       "    <tr>\n",
       "      <th>12</th>\n",
       "      <td>12</td>\n",
       "      <td>i think we will def see pyra mythra</td>\n",
       "      <td>2.820968e+09</td>\n",
       "      <td>2021-08-18 20:06:21</td>\n",
       "      <td>2</td>\n",
       "      <td>34.020789</td>\n",
       "      <td>-118.411907</td>\n",
       "      <td>3</td>\n",
       "    </tr>\n",
       "    <tr>\n",
       "      <th>29</th>\n",
       "      <td>29</td>\n",
       "      <td>let s hoop</td>\n",
       "      <td>1.376966e+18</td>\n",
       "      <td>2021-08-04 07:21:36</td>\n",
       "      <td>2</td>\n",
       "      <td>34.020789</td>\n",
       "      <td>-118.411907</td>\n",
       "      <td>3</td>\n",
       "    </tr>\n",
       "    <tr>\n",
       "      <th>39</th>\n",
       "      <td>39</td>\n",
       "      <td>strong colors</td>\n",
       "      <td>1.358342e+09</td>\n",
       "      <td>2021-08-05 03:44:00</td>\n",
       "      <td>2</td>\n",
       "      <td>34.020789</td>\n",
       "      <td>-118.411907</td>\n",
       "      <td>3</td>\n",
       "    </tr>\n",
       "    <tr>\n",
       "      <th>...</th>\n",
       "      <td>...</td>\n",
       "      <td>...</td>\n",
       "      <td>...</td>\n",
       "      <td>...</td>\n",
       "      <td>...</td>\n",
       "      <td>...</td>\n",
       "      <td>...</td>\n",
       "      <td>...</td>\n",
       "    </tr>\n",
       "    <tr>\n",
       "      <th>604168</th>\n",
       "      <td>604168</td>\n",
       "      <td>still no ac</td>\n",
       "      <td>1.062934e+18</td>\n",
       "      <td>2021-08-01 21:12:00</td>\n",
       "      <td>2996</td>\n",
       "      <td>29.668301</td>\n",
       "      <td>-95.158936</td>\n",
       "      <td>3</td>\n",
       "    </tr>\n",
       "    <tr>\n",
       "      <th>604171</th>\n",
       "      <td>604171</td>\n",
       "      <td>ivan is single like me</td>\n",
       "      <td>3.406412e+08</td>\n",
       "      <td>2021-08-02 04:39:00</td>\n",
       "      <td>2996</td>\n",
       "      <td>29.668301</td>\n",
       "      <td>-95.158936</td>\n",
       "      <td>3</td>\n",
       "    </tr>\n",
       "    <tr>\n",
       "      <th>604178</th>\n",
       "      <td>604178</td>\n",
       "      <td>gooooooolllll de funeeesss moriiiiiii</td>\n",
       "      <td>2.894717e+08</td>\n",
       "      <td>2021-08-16 01:11:46</td>\n",
       "      <td>2996</td>\n",
       "      <td>29.668301</td>\n",
       "      <td>-95.158936</td>\n",
       "      <td>3</td>\n",
       "    </tr>\n",
       "    <tr>\n",
       "      <th>604179</th>\n",
       "      <td>604179</td>\n",
       "      <td>in my body</td>\n",
       "      <td>1.090777e+18</td>\n",
       "      <td>2021-08-21 12:28:51</td>\n",
       "      <td>2996</td>\n",
       "      <td>29.668301</td>\n",
       "      <td>-95.158936</td>\n",
       "      <td>3</td>\n",
       "    </tr>\n",
       "    <tr>\n",
       "      <th>604204</th>\n",
       "      <td>604204</td>\n",
       "      <td>i mean secondddd</td>\n",
       "      <td>1.046619e+18</td>\n",
       "      <td>2021-08-02 17:02:13</td>\n",
       "      <td>2996</td>\n",
       "      <td>29.668301</td>\n",
       "      <td>-95.158936</td>\n",
       "      <td>3</td>\n",
       "    </tr>\n",
       "  </tbody>\n",
       "</table>\n",
       "<p>85409 rows × 8 columns</p>\n",
       "</div>"
      ],
      "text/plain": [
       "            id                                   text       user_id  \\\n",
       "2            2                        khamisvideobomb  2.781174e+07   \n",
       "11          11                    nobody own you shit  7.445710e+07   \n",
       "12          12    i think we will def see pyra mythra  2.820968e+09   \n",
       "29          29                             let s hoop  1.376966e+18   \n",
       "39          39                          strong colors  1.358342e+09   \n",
       "...        ...                                    ...           ...   \n",
       "604168  604168                            still no ac  1.062934e+18   \n",
       "604171  604171                 ivan is single like me  3.406412e+08   \n",
       "604178  604178  gooooooolllll de funeeesss moriiiiiii  2.894717e+08   \n",
       "604179  604179                             in my body  1.090777e+18   \n",
       "604204  604204                       i mean secondddd  1.046619e+18   \n",
       "\n",
       "                 timestamp  cluster_id        lat         lng language  \n",
       "2      2021-08-13 15:49:15           2  34.020789 -118.411907        3  \n",
       "11     2021-02-02 09:41:32           2  34.020789 -118.411907        3  \n",
       "12     2021-08-18 20:06:21           2  34.020789 -118.411907        3  \n",
       "29     2021-08-04 07:21:36           2  34.020789 -118.411907        3  \n",
       "39     2021-08-05 03:44:00           2  34.020789 -118.411907        3  \n",
       "...                    ...         ...        ...         ...      ...  \n",
       "604168 2021-08-01 21:12:00        2996  29.668301  -95.158936        3  \n",
       "604171 2021-08-02 04:39:00        2996  29.668301  -95.158936        3  \n",
       "604178 2021-08-16 01:11:46        2996  29.668301  -95.158936        3  \n",
       "604179 2021-08-21 12:28:51        2996  29.668301  -95.158936        3  \n",
       "604204 2021-08-02 17:02:13        2996  29.668301  -95.158936        3  \n",
       "\n",
       "[85409 rows x 8 columns]"
      ]
     },
     "execution_count": 65,
     "metadata": {},
     "output_type": "execute_result"
    }
   ],
   "source": [
    "interp_other_lang=sample_data[sample_data['language'] == '3']\n",
    "interp_other_lang"
   ]
  },
  {
   "cell_type": "code",
   "execution_count": 66,
   "metadata": {
    "execution": {
     "iopub.execute_input": "2023-05-29T23:29:45.976619Z",
     "iopub.status.busy": "2023-05-29T23:29:45.975969Z",
     "iopub.status.idle": "2023-05-29T23:29:46.020457Z",
     "shell.execute_reply": "2023-05-29T23:29:46.019739Z",
     "shell.execute_reply.started": "2023-05-29T23:29:45.976594Z"
    },
    "id": "3YaE8CYJRajG"
   },
   "outputs": [],
   "source": [
    "with tf.device('/GPU:0'):\n",
    "    sample_data['language'] = sample_data['language'].astype(int)\n",
    "    \n"
   ]
  },
  {
   "cell_type": "code",
   "execution_count": 67,
   "metadata": {
    "execution": {
     "iopub.execute_input": "2023-05-29T23:29:48.309393Z",
     "iopub.status.busy": "2023-05-29T23:29:48.308782Z",
     "iopub.status.idle": "2023-05-29T23:29:48.367132Z",
     "shell.execute_reply": "2023-05-29T23:29:48.366546Z",
     "shell.execute_reply.started": "2023-05-29T23:29:48.309368Z"
    }
   },
   "outputs": [
    {
     "data": {
      "text/plain": [
       "id            0\n",
       "text          0\n",
       "user_id       0\n",
       "timestamp     0\n",
       "cluster_id    0\n",
       "lat           0\n",
       "lng           0\n",
       "language      0\n",
       "dtype: int64"
      ]
     },
     "execution_count": 67,
     "metadata": {},
     "output_type": "execute_result"
    }
   ],
   "source": [
    "sample_data.isna().sum()"
   ]
  },
  {
   "cell_type": "code",
   "execution_count": 68,
   "metadata": {
    "execution": {
     "iopub.execute_input": "2023-05-29T23:30:02.700554Z",
     "iopub.status.busy": "2023-05-29T23:30:02.699730Z",
     "iopub.status.idle": "2023-05-29T23:30:02.945772Z",
     "shell.execute_reply": "2023-05-29T23:30:02.945111Z",
     "shell.execute_reply.started": "2023-05-29T23:30:02.700527Z"
    }
   },
   "outputs": [
    {
     "data": {
      "image/png": "[encoded data removed]",
      "text/plain": [
       "<Figure size 1000x1000 with 1 Axes>"
      ]
     },
     "metadata": {},
     "output_type": "display_data"
    }
   ],
   "source": [
    "lang_dist=sample_data['language'].value_counts()\n",
    "colors = ['#1f77b4', '#ff7f0e', '#2ca02c', '#d62728', '#9467bd', '#8c564b']\n",
    "explode = [0, 0.4, 0]\n",
    "lang_dist.plot(kind='pie', autopct='%1.1f%%', startangle=90, figsize=(10,10), colors=colors, shadow=True, explode=explode)\n",
    "labels = ['English', 'Other', 'Spanish']\n",
    "plt.title('Distribution of Languages')\n",
    "plt.axis('equal')  # This ensures that the pie is drawn as a circle.\n",
    "plt.legend(labels=labels, loc=\"best\")\n",
    "plt.show()"
   ]
  },
  {
   "cell_type": "code",
   "execution_count": 69,
   "metadata": {
    "execution": {
     "iopub.execute_input": "2023-05-29T23:30:15.596019Z",
     "iopub.status.busy": "2023-05-29T23:30:15.595459Z",
     "iopub.status.idle": "2023-05-29T23:30:15.640968Z",
     "shell.execute_reply": "2023-05-29T23:30:15.640367Z",
     "shell.execute_reply.started": "2023-05-29T23:30:15.595992Z"
    },
    "id": "_3ANaDbURajG"
   },
   "outputs": [],
   "source": [
    "sample_data['tweet_month']=sample_data['timestamp'].dt.month\n",
    "sample_data['tweet_day']=sample_data['timestamp'].dt.day"
   ]
  },
  {
   "cell_type": "code",
   "execution_count": 70,
   "metadata": {
    "colab": {
     "base_uri": "https://localhost:8080/",
     "height": 641
    },
    "execution": {
     "iopub.execute_input": "2023-05-29T23:30:17.809837Z",
     "iopub.status.busy": "2023-05-29T23:30:17.809560Z",
     "iopub.status.idle": "2023-05-29T23:30:17.824587Z",
     "shell.execute_reply": "2023-05-29T23:30:17.823871Z",
     "shell.execute_reply.started": "2023-05-29T23:30:17.809810Z"
    },
    "id": "cF1KiA3dRajH",
    "outputId": "9acf9455-1ce6-41b9-be36-52d8e6eb57a5"
   },
   "outputs": [
    {
     "data": {
      "text/html": [
       "<div>\n",
       "<style scoped>\n",
       "    .dataframe tbody tr th:only-of-type {\n",
       "        vertical-align: middle;\n",
       "    }\n",
       "\n",
       "    .dataframe tbody tr th {\n",
       "        vertical-align: top;\n",
       "    }\n",
       "\n",
       "    .dataframe thead th {\n",
       "        text-align: right;\n",
       "    }\n",
       "</style>\n",
       "<table border=\"1\" class=\"dataframe\">\n",
       "  <thead>\n",
       "    <tr style=\"text-align: right;\">\n",
       "      <th></th>\n",
       "      <th>id</th>\n",
       "      <th>text</th>\n",
       "      <th>user_id</th>\n",
       "      <th>timestamp</th>\n",
       "      <th>cluster_id</th>\n",
       "      <th>lat</th>\n",
       "      <th>lng</th>\n",
       "      <th>language</th>\n",
       "      <th>tweet_month</th>\n",
       "      <th>tweet_day</th>\n",
       "    </tr>\n",
       "  </thead>\n",
       "  <tbody>\n",
       "    <tr>\n",
       "      <th>0</th>\n",
       "      <td>0</td>\n",
       "      <td>wow didn t know the homies were coming through...</td>\n",
       "      <td>5.853807e+07</td>\n",
       "      <td>2021-08-02 01:25:46</td>\n",
       "      <td>2</td>\n",
       "      <td>34.020789</td>\n",
       "      <td>-118.411907</td>\n",
       "      <td>0</td>\n",
       "      <td>8</td>\n",
       "      <td>2</td>\n",
       "    </tr>\n",
       "    <tr>\n",
       "      <th>1</th>\n",
       "      <td>1</td>\n",
       "      <td>the foggy nights in la be peaceful such a calm...</td>\n",
       "      <td>1.032647e+18</td>\n",
       "      <td>2021-08-28 08:47:36</td>\n",
       "      <td>2</td>\n",
       "      <td>34.020789</td>\n",
       "      <td>-118.411907</td>\n",
       "      <td>0</td>\n",
       "      <td>8</td>\n",
       "      <td>28</td>\n",
       "    </tr>\n",
       "    <tr>\n",
       "      <th>2</th>\n",
       "      <td>2</td>\n",
       "      <td>khamisvideobomb</td>\n",
       "      <td>2.781174e+07</td>\n",
       "      <td>2021-08-13 15:49:15</td>\n",
       "      <td>2</td>\n",
       "      <td>34.020789</td>\n",
       "      <td>-118.411907</td>\n",
       "      <td>3</td>\n",
       "      <td>8</td>\n",
       "      <td>13</td>\n",
       "    </tr>\n",
       "    <tr>\n",
       "      <th>3</th>\n",
       "      <td>3</td>\n",
       "      <td>anyone tryna hit the gym hmu</td>\n",
       "      <td>5.490040e+08</td>\n",
       "      <td>2021-08-31 22:41:20</td>\n",
       "      <td>2</td>\n",
       "      <td>34.020789</td>\n",
       "      <td>-118.411907</td>\n",
       "      <td>0</td>\n",
       "      <td>8</td>\n",
       "      <td>31</td>\n",
       "    </tr>\n",
       "    <tr>\n",
       "      <th>4</th>\n",
       "      <td>4</td>\n",
       "      <td>are you kidding me this intro is crazy</td>\n",
       "      <td>2.963951e+07</td>\n",
       "      <td>2021-08-06 03:44:29</td>\n",
       "      <td>2</td>\n",
       "      <td>34.020789</td>\n",
       "      <td>-118.411907</td>\n",
       "      <td>0</td>\n",
       "      <td>8</td>\n",
       "      <td>6</td>\n",
       "    </tr>\n",
       "    <tr>\n",
       "      <th>...</th>\n",
       "      <td>...</td>\n",
       "      <td>...</td>\n",
       "      <td>...</td>\n",
       "      <td>...</td>\n",
       "      <td>...</td>\n",
       "      <td>...</td>\n",
       "      <td>...</td>\n",
       "      <td>...</td>\n",
       "      <td>...</td>\n",
       "      <td>...</td>\n",
       "    </tr>\n",
       "    <tr>\n",
       "      <th>604201</th>\n",
       "      <td>604201</td>\n",
       "      <td>all students must be dressed appropriately eac...</td>\n",
       "      <td>1.990241e+08</td>\n",
       "      <td>2021-08-12 11:08:07</td>\n",
       "      <td>2996</td>\n",
       "      <td>29.668301</td>\n",
       "      <td>-95.158936</td>\n",
       "      <td>0</td>\n",
       "      <td>8</td>\n",
       "      <td>12</td>\n",
       "    </tr>\n",
       "    <tr>\n",
       "      <th>604202</th>\n",
       "      <td>604202</td>\n",
       "      <td>i actually hate working with the lunch shift c...</td>\n",
       "      <td>1.382980e+18</td>\n",
       "      <td>2021-08-04 15:35:10</td>\n",
       "      <td>2996</td>\n",
       "      <td>29.668301</td>\n",
       "      <td>-95.158936</td>\n",
       "      <td>0</td>\n",
       "      <td>8</td>\n",
       "      <td>4</td>\n",
       "    </tr>\n",
       "    <tr>\n",
       "      <th>604203</th>\n",
       "      <td>604203</td>\n",
       "      <td>if you re reading thisyo mama</td>\n",
       "      <td>1.039173e+18</td>\n",
       "      <td>2021-08-24 00:49:46</td>\n",
       "      <td>2996</td>\n",
       "      <td>29.668301</td>\n",
       "      <td>-95.158936</td>\n",
       "      <td>0</td>\n",
       "      <td>8</td>\n",
       "      <td>24</td>\n",
       "    </tr>\n",
       "    <tr>\n",
       "      <th>604204</th>\n",
       "      <td>604204</td>\n",
       "      <td>i mean secondddd</td>\n",
       "      <td>1.046619e+18</td>\n",
       "      <td>2021-08-02 17:02:13</td>\n",
       "      <td>2996</td>\n",
       "      <td>29.668301</td>\n",
       "      <td>-95.158936</td>\n",
       "      <td>3</td>\n",
       "      <td>8</td>\n",
       "      <td>2</td>\n",
       "    </tr>\n",
       "    <tr>\n",
       "      <th>604205</th>\n",
       "      <td>604205</td>\n",
       "      <td>mixing different kinds of tide pods and downy ...</td>\n",
       "      <td>1.039173e+18</td>\n",
       "      <td>2021-08-17 20:02:40</td>\n",
       "      <td>2996</td>\n",
       "      <td>29.668301</td>\n",
       "      <td>-95.158936</td>\n",
       "      <td>0</td>\n",
       "      <td>8</td>\n",
       "      <td>17</td>\n",
       "    </tr>\n",
       "  </tbody>\n",
       "</table>\n",
       "<p>591412 rows × 10 columns</p>\n",
       "</div>"
      ],
      "text/plain": [
       "            id                                               text  \\\n",
       "0            0  wow didn t know the homies were coming through...   \n",
       "1            1  the foggy nights in la be peaceful such a calm...   \n",
       "2            2                                    khamisvideobomb   \n",
       "3            3                       anyone tryna hit the gym hmu   \n",
       "4            4             are you kidding me this intro is crazy   \n",
       "...        ...                                                ...   \n",
       "604201  604201  all students must be dressed appropriately eac...   \n",
       "604202  604202  i actually hate working with the lunch shift c...   \n",
       "604203  604203                      if you re reading thisyo mama   \n",
       "604204  604204                                   i mean secondddd   \n",
       "604205  604205  mixing different kinds of tide pods and downy ...   \n",
       "\n",
       "             user_id           timestamp  cluster_id        lat         lng  \\\n",
       "0       5.853807e+07 2021-08-02 01:25:46           2  34.020789 -118.411907   \n",
       "1       1.032647e+18 2021-08-28 08:47:36           2  34.020789 -118.411907   \n",
       "2       2.781174e+07 2021-08-13 15:49:15           2  34.020789 -118.411907   \n",
       "3       5.490040e+08 2021-08-31 22:41:20           2  34.020789 -118.411907   \n",
       "4       2.963951e+07 2021-08-06 03:44:29           2  34.020789 -118.411907   \n",
       "...              ...                 ...         ...        ...         ...   \n",
       "604201  1.990241e+08 2021-08-12 11:08:07        2996  29.668301  -95.158936   \n",
       "604202  1.382980e+18 2021-08-04 15:35:10        2996  29.668301  -95.158936   \n",
       "604203  1.039173e+18 2021-08-24 00:49:46        2996  29.668301  -95.158936   \n",
       "604204  1.046619e+18 2021-08-02 17:02:13        2996  29.668301  -95.158936   \n",
       "604205  1.039173e+18 2021-08-17 20:02:40        2996  29.668301  -95.158936   \n",
       "\n",
       "        language  tweet_month  tweet_day  \n",
       "0              0            8          2  \n",
       "1              0            8         28  \n",
       "2              3            8         13  \n",
       "3              0            8         31  \n",
       "4              0            8          6  \n",
       "...          ...          ...        ...  \n",
       "604201         0            8         12  \n",
       "604202         0            8          4  \n",
       "604203         0            8         24  \n",
       "604204         3            8          2  \n",
       "604205         0            8         17  \n",
       "\n",
       "[591412 rows x 10 columns]"
      ]
     },
     "execution_count": 70,
     "metadata": {},
     "output_type": "execute_result"
    }
   ],
   "source": [
    "sample_data"
   ]
  },
  {
   "cell_type": "code",
   "execution_count": 134,
   "metadata": {
    "execution": {
     "iopub.execute_input": "2023-05-30T02:46:30.643959Z",
     "iopub.status.busy": "2023-05-30T02:46:30.643405Z",
     "iopub.status.idle": "2023-05-30T02:46:30.773440Z",
     "shell.execute_reply": "2023-05-30T02:46:30.772773Z",
     "shell.execute_reply.started": "2023-05-30T02:46:30.643935Z"
    }
   },
   "outputs": [],
   "source": [
    "complete_data=complete_data.dropna()"
   ]
  },
  {
   "cell_type": "code",
   "execution_count": 138,
   "metadata": {
    "execution": {
     "iopub.execute_input": "2023-05-30T02:55:54.836274Z",
     "iopub.status.busy": "2023-05-30T02:55:54.835565Z",
     "iopub.status.idle": "2023-05-30T02:56:00.529734Z",
     "shell.execute_reply": "2023-05-30T02:56:00.528631Z",
     "shell.execute_reply.started": "2023-05-30T02:55:54.836249Z"
    }
   },
   "outputs": [
    {
     "name": "stdout",
     "output_type": "stream",
     "text": [
      "huggingface/tokenizers: The current process just got forked, after parallelism has already been used. Disabling parallelism to avoid deadlocks...\n",
      "To disable this warning, you can either:\n",
      "\t- Avoid using `tokenizers` before the fork if possible\n",
      "\t- Explicitly set the environment variable TOKENIZERS_PARALLELISM=(true | false)\n",
      "Collecting kaleido\n",
      "  Downloading kaleido-0.2.1-py2.py3-none-manylinux1_x86_64.whl (79.9 MB)\n",
      "\u001b[2K     \u001b[90m━━━━━━━━━━━━━━━━━━━━━━━━━━━━━━━━━━━━━━━━\u001b[0m \u001b[32m79.9/79.9 MB\u001b[0m \u001b[31m23.6 MB/s\u001b[0m eta \u001b[36m0:00:00\u001b[0m00:01\u001b[0m00:01\u001b[0m\n",
      "\u001b[?25hInstalling collected packages: kaleido\n",
      "Successfully installed kaleido-0.2.1\n",
      "\u001b[33mWARNING: Running pip as the 'root' user can result in broken permissions and conflicting behaviour with the system package manager. It is recommended to use a virtual environment instead: https://pip.pypa.io/warnings/venv\u001b[0m\u001b[33m\n",
      "\u001b[0mNote: you may need to restart the kernel to use updated packages.\n"
     ]
    }
   ],
   "source": [
    "pip install -U kaleido\n"
   ]
  },
  {
   "cell_type": "code",
   "execution_count": 71,
   "metadata": {
    "execution": {
     "iopub.execute_input": "2023-05-29T23:30:22.782350Z",
     "iopub.status.busy": "2023-05-29T23:30:22.781463Z",
     "iopub.status.idle": "2023-05-29T23:30:22.786396Z",
     "shell.execute_reply": "2023-05-29T23:30:22.785580Z",
     "shell.execute_reply.started": "2023-05-29T23:30:22.782321Z"
    },
    "id": "VjSAyVsBRajH"
   },
   "outputs": [],
   "source": [
    "geolocator = Nominatim(user_agent=\"my-app\")"
   ]
  },
  {
   "cell_type": "code",
   "execution_count": 72,
   "metadata": {
    "execution": {
     "iopub.execute_input": "2023-05-29T23:30:24.439202Z",
     "iopub.status.busy": "2023-05-29T23:30:24.438541Z",
     "iopub.status.idle": "2023-05-29T23:30:24.443847Z",
     "shell.execute_reply": "2023-05-29T23:30:24.443082Z",
     "shell.execute_reply.started": "2023-05-29T23:30:24.439175Z"
    },
    "id": "s0ZzSjCGRajH"
   },
   "outputs": [],
   "source": [
    "def get_region_name(row):\n",
    "    lat, lon = row[\"lat\"], row[\"lng\"]\n",
    "    while True:\n",
    "        try:\n",
    "            location = geolocator.reverse(f\"{lat}, {lon}\")\n",
    "            address = location.raw[\"address\"]\n",
    "            if \"region\" in address:\n",
    "                region_name = address[\"region\"]\n",
    "            elif \"state\" in address:\n",
    "                region_name = address[\"state\"]\n",
    "            else:\n",
    "                region_name = None\n",
    "            return region_name\n",
    "        except GeocoderUnavailable:\n",
    "            time.sleep(2)  # wait for 1 second before retrying\n",
    "            continue"
   ]
  },
  {
   "cell_type": "code",
   "execution_count": 73,
   "metadata": {
    "execution": {
     "iopub.execute_input": "2023-05-29T23:30:27.658079Z",
     "iopub.status.busy": "2023-05-29T23:30:27.657395Z",
     "iopub.status.idle": "2023-05-29T23:30:27.661806Z",
     "shell.execute_reply": "2023-05-29T23:30:27.661284Z",
     "shell.execute_reply.started": "2023-05-29T23:30:27.658052Z"
    },
    "id": "DfotFcKJRajH"
   },
   "outputs": [],
   "source": [
    "\n",
    "# Set up geolocator and cache\n",
    "geolocator = Nominatim(user_agent=\"my-app\")\n",
    "cache = TTLCache(maxsize=1000, ttl=60*60*24)  # Cache for 1 dayb"
   ]
  },
  {
   "cell_type": "code",
   "execution_count": 74,
   "metadata": {
    "execution": {
     "iopub.execute_input": "2023-05-29T23:30:30.702140Z",
     "iopub.status.busy": "2023-05-29T23:30:30.701458Z",
     "iopub.status.idle": "2023-05-29T23:30:30.706069Z",
     "shell.execute_reply": "2023-05-29T23:30:30.705464Z",
     "shell.execute_reply.started": "2023-05-29T23:30:30.702114Z"
    },
    "id": "x-fuc20_RajH"
   },
   "outputs": [],
   "source": [
    "# Define function to get region name\n",
    "@cached(cache)\n",
    "def get_region_name(lat, lon):\n",
    "    location = geolocator.reverse(f\"{lat}, {lon}\")\n",
    "    address = location.raw[\"address\"]\n",
    "    if \"region\" in address:\n",
    "        region_name = address[\"region\"]\n",
    "    elif \"state\" in address:\n",
    "        region_name = address[\"state\"]\n",
    "    else:\n",
    "        region_name = None\n",
    "    return region_name"
   ]
  },
  {
   "cell_type": "code",
   "execution_count": 75,
   "metadata": {
    "execution": {
     "iopub.execute_input": "2023-05-29T23:30:32.986152Z",
     "iopub.status.busy": "2023-05-29T23:30:32.985864Z",
     "iopub.status.idle": "2023-05-29T23:37:38.114715Z",
     "shell.execute_reply": "2023-05-29T23:37:38.114033Z",
     "shell.execute_reply.started": "2023-05-29T23:30:32.986129Z"
    },
    "id": "OSHd_7PXRajH"
   },
   "outputs": [
    {
     "name": "stdout",
     "output_type": "stream",
     "text": [
      "CPU times: user 9.44 s, sys: 428 ms, total: 9.87 s\n",
      "Wall time: 7min 5s\n"
     ]
    }
   ],
   "source": [
    "%%time\n",
    "with tf.device('/gpu:0'):\n",
    "    batch_size = 1000\n",
    "    n_batches = (len(sample_data) - 1) // batch_size + 1\n",
    "    regions = []\n",
    "    for i in range(n_batches):\n",
    "        batch = sample_data.iloc[i*batch_size:(i+1)*batch_size]\n",
    "        regions.extend(batch.apply(lambda row: get_region_name(row['lat'], row['lng']), axis=1))\n",
    "\n",
    "# Batch processing\n",
    "\n",
    "    \n",
    "\n"
   ]
  },
  {
   "cell_type": "code",
   "execution_count": 76,
   "metadata": {
    "execution": {
     "iopub.execute_input": "2023-05-29T23:41:39.205995Z",
     "iopub.status.busy": "2023-05-29T23:41:39.205688Z",
     "iopub.status.idle": "2023-05-29T23:41:39.226647Z",
     "shell.execute_reply": "2023-05-29T23:41:39.225650Z",
     "shell.execute_reply.started": "2023-05-29T23:41:39.205972Z"
    },
    "id": "nkMWZNkxRajI"
   },
   "outputs": [],
   "source": [
    "# Assign regions to new column in sample_data\n",
    "sample_data.loc[:, 'region'] = regions"
   ]
  },
  {
   "cell_type": "code",
   "execution_count": 77,
   "metadata": {
    "execution": {
     "iopub.execute_input": "2023-05-29T23:42:27.890295Z",
     "iopub.status.busy": "2023-05-29T23:42:27.889981Z",
     "iopub.status.idle": "2023-05-29T23:42:27.998156Z",
     "shell.execute_reply": "2023-05-29T23:42:27.997308Z",
     "shell.execute_reply.started": "2023-05-29T23:42:27.890272Z"
    }
   },
   "outputs": [
    {
     "data": {
      "text/plain": [
       "id                 0\n",
       "text               0\n",
       "user_id            0\n",
       "timestamp          0\n",
       "cluster_id         0\n",
       "lat                0\n",
       "lng                0\n",
       "language           0\n",
       "tweet_month        0\n",
       "tweet_day          0\n",
       "region         21097\n",
       "dtype: int64"
      ]
     },
     "execution_count": 77,
     "metadata": {},
     "output_type": "execute_result"
    }
   ],
   "source": [
    "sample_data.isna().sum()"
   ]
  },
  {
   "cell_type": "code",
   "execution_count": 78,
   "metadata": {
    "execution": {
     "iopub.execute_input": "2023-05-29T23:42:38.404708Z",
     "iopub.status.busy": "2023-05-29T23:42:38.404439Z",
     "iopub.status.idle": "2023-05-29T23:42:38.580682Z",
     "shell.execute_reply": "2023-05-29T23:42:38.579934Z",
     "shell.execute_reply.started": "2023-05-29T23:42:38.404686Z"
    }
   },
   "outputs": [],
   "source": [
    "eda_data=sample_data.dropna()"
   ]
  },
  {
   "cell_type": "code",
   "execution_count": 79,
   "metadata": {
    "execution": {
     "iopub.execute_input": "2023-05-29T23:42:57.430384Z",
     "iopub.status.busy": "2023-05-29T23:42:57.430071Z",
     "iopub.status.idle": "2023-05-29T23:42:57.536282Z",
     "shell.execute_reply": "2023-05-29T23:42:57.535655Z",
     "shell.execute_reply.started": "2023-05-29T23:42:57.430360Z"
    }
   },
   "outputs": [
    {
     "name": "stdout",
     "output_type": "stream",
     "text": [
      "<class 'pandas.core.frame.DataFrame'>\n",
      "Int64Index: 570315 entries, 0 to 604205\n",
      "Data columns (total 11 columns):\n",
      " #   Column       Non-Null Count   Dtype         \n",
      "---  ------       --------------   -----         \n",
      " 0   id           570315 non-null  int64         \n",
      " 1   text         570315 non-null  object        \n",
      " 2   user_id      570315 non-null  float64       \n",
      " 3   timestamp    570315 non-null  datetime64[ns]\n",
      " 4   cluster_id   570315 non-null  int64         \n",
      " 5   lat          570315 non-null  float64       \n",
      " 6   lng          570315 non-null  float64       \n",
      " 7   language     570315 non-null  int64         \n",
      " 8   tweet_month  570315 non-null  int64         \n",
      " 9   tweet_day    570315 non-null  int64         \n",
      " 10  region       570315 non-null  object        \n",
      "dtypes: datetime64[ns](1), float64(3), int64(5), object(2)\n",
      "memory usage: 52.2+ MB\n"
     ]
    }
   ],
   "source": [
    "eda_data.info()"
   ]
  },
  {
   "cell_type": "code",
   "execution_count": null,
   "metadata": {},
   "outputs": [],
   "source": []
  },
  {
   "cell_type": "code",
   "execution_count": 91,
   "metadata": {
    "execution": {
     "iopub.execute_input": "2023-05-29T23:53:54.991448Z",
     "iopub.status.busy": "2023-05-29T23:53:54.990882Z",
     "iopub.status.idle": "2023-05-29T23:53:55.097205Z",
     "shell.execute_reply": "2023-05-29T23:53:55.096369Z",
     "shell.execute_reply.started": "2023-05-29T23:53:54.991425Z"
    }
   },
   "outputs": [
    {
     "name": "stdout",
     "output_type": "stream",
     "text": [
      "<class 'pandas.core.frame.DataFrame'>\n",
      "Int64Index: 591412 entries, 0 to 604205\n",
      "Data columns (total 11 columns):\n",
      " #   Column       Non-Null Count   Dtype         \n",
      "---  ------       --------------   -----         \n",
      " 0   id           591412 non-null  int64         \n",
      " 1   text         591412 non-null  object        \n",
      " 2   user_id      591412 non-null  float64       \n",
      " 3   timestamp    591412 non-null  datetime64[ns]\n",
      " 4   cluster_id   591412 non-null  int64         \n",
      " 5   lat          591412 non-null  float64       \n",
      " 6   lng          591412 non-null  float64       \n",
      " 7   language     591412 non-null  int64         \n",
      " 8   tweet_month  591412 non-null  int64         \n",
      " 9   tweet_day    591412 non-null  int64         \n",
      " 10  region       570315 non-null  object        \n",
      "dtypes: datetime64[ns](1), float64(3), int64(5), object(2)\n",
      "memory usage: 54.1+ MB\n"
     ]
    }
   ],
   "source": [
    "sample_data.info()"
   ]
  },
  {
   "cell_type": "code",
   "execution_count": null,
   "metadata": {},
   "outputs": [],
   "source": [
    "eda_data.info()"
   ]
  },
  {
   "cell_type": "code",
   "execution_count": 81,
   "metadata": {
    "execution": {
     "iopub.execute_input": "2023-05-29T23:43:27.395556Z",
     "iopub.status.busy": "2023-05-29T23:43:27.394890Z",
     "iopub.status.idle": "2023-05-29T23:43:27.453212Z",
     "shell.execute_reply": "2023-05-29T23:43:27.452689Z",
     "shell.execute_reply.started": "2023-05-29T23:43:27.395530Z"
    }
   },
   "outputs": [],
   "source": [
    "import pandas as pd\n",
    "import plotly.express as px"
   ]
  },
  {
   "cell_type": "code",
   "execution_count": 86,
   "metadata": {
    "execution": {
     "iopub.execute_input": "2023-05-29T23:45:22.913812Z",
     "iopub.status.busy": "2023-05-29T23:45:22.912855Z",
     "iopub.status.idle": "2023-05-29T23:45:22.971588Z",
     "shell.execute_reply": "2023-05-29T23:45:22.971006Z",
     "shell.execute_reply.started": "2023-05-29T23:45:22.913774Z"
    }
   },
   "outputs": [],
   "source": [
    "region_counts_info = eda_data.groupby('region')['text'].count().sort_values().reset_index()"
   ]
  },
  {
   "cell_type": "code",
   "execution_count": 132,
   "metadata": {
    "execution": {
     "iopub.execute_input": "2023-05-30T01:51:21.644880Z",
     "iopub.status.busy": "2023-05-30T01:51:21.644027Z",
     "iopub.status.idle": "2023-05-30T01:51:22.174051Z",
     "shell.execute_reply": "2023-05-30T01:51:22.173476Z",
     "shell.execute_reply.started": "2023-05-30T01:51:21.644854Z"
    }
   },
   "outputs": [
    {
     "name": "stdout",
     "output_type": "stream",
     "text": [
      "<class 'pandas.core.frame.DataFrame'>\n",
      "RangeIndex: 111 entries, 0 to 110\n",
      "Data columns (total 2 columns):\n",
      " #   Column  Non-Null Count  Dtype \n",
      "---  ------  --------------  ----- \n",
      " 0   region  111 non-null    object\n",
      " 1   text    111 non-null    int64 \n",
      "dtypes: int64(1), object(1)\n",
      "memory usage: 1.9+ KB\n"
     ]
    }
   ],
   "source": [
    "region_counts_info.info()\n",
    "excel_file_path = '/notebooks/excel_files.xlsx'\n",
    "\n",
    "# Save the DataFrame as an Excel file\n",
    "region_counts_info.to_excel(excel_file_path, index=False)"
   ]
  },
  {
   "cell_type": "code",
   "execution_count": 88,
   "metadata": {
    "execution": {
     "iopub.execute_input": "2023-05-29T23:45:27.614316Z",
     "iopub.status.busy": "2023-05-29T23:45:27.613627Z",
     "iopub.status.idle": "2023-05-29T23:45:27.624095Z",
     "shell.execute_reply": "2023-05-29T23:45:27.623527Z",
     "shell.execute_reply.started": "2023-05-29T23:45:27.614291Z"
    }
   },
   "outputs": [
    {
     "data": {
      "application/vnd.plotly.v1+json": {
       "config": {
        "plotlyServerURL": "https://plot.ly"
       },
       "data": [
        {
         "type": "bar",
         "x": [
          "Zacatecas",
          "Alaska",
          "Baja California Sur",
          "Outaouais",
          "Laurentides",
          "Saskatchewan",
          "Montérégie",
          "Castries",
          "San Luis Potosí",
          "Hidalgo",
          "District of Columbia",
          "Distrito Nacional",
          "Departamento de Santa Ana",
          "Tlaxcala",
          "Colima",
          "Tamaulipas",
          "Sonora",
          "Campeche",
          "Middle Tennessee",
          "North Dakota",
          "Vermont",
          "Durango",
          "Guerrero",
          "Newfoundland and Labrador",
          "Lanaudière",
          "Prince Edward Island",
          "Santo Domingo",
          "La Altagracia",
          "Oaxaca",
          "Chiapas",
          "Montana",
          "Martinique",
          "Departamento de La Libertad",
          "Guadeloupe",
          "Chihuahua",
          "Connecticut",
          "Aguascalientes",
          "Barbuda",
          "South Dakota",
          "La Vega",
          "New Hampshire",
          "Sinaloa",
          "Capitale-Nationale",
          "Rhode Island",
          "West Tennessee",
          "Tabasco",
          "Morelos",
          "Département de l'Ouest",
          "Delaware",
          "Coahuila",
          "Michoacán",
          "Santiago",
          "Maine",
          "New Mexico",
          "Alberta",
          "Manitoba",
          "Puebla",
          "Departamento de San Salvador",
          "Baja California",
          "Yucatán",
          "Idaho",
          "West Virginia",
          "Guanajuato",
          "Olancho",
          "Quintana Roo",
          "Nebraska",
          "Querétaro",
          "Veracruz",
          "Hawaii",
          "Québec",
          "Alta Verapaz",
          "Iowa",
          "Washington",
          "Minnesota",
          "Kansas",
          "Mississippi",
          "Arkansas",
          "Puerto Rico",
          "South Carolina",
          "Utah",
          "Wisconsin",
          "Estado de México",
          "Oklahoma",
          "Colorado",
          "Jalisco",
          "Missouri",
          "Nuevo León",
          "Tennessee",
          "British Columbia",
          "Oregon",
          "Michigan",
          "Maryland",
          "Indiana",
          "Kentucky",
          "Illinois",
          "Arizona",
          "Nevada",
          "Massachusetts",
          "Virginia",
          "Alabama",
          "North Carolina",
          "Ontario",
          "Georgia",
          "Ohio",
          "Louisiana",
          "New Jersey",
          "Pennsylvania",
          "Florida",
          "New York",
          "California",
          "Texas"
         ],
         "y": [
          133,
          139,
          148,
          171,
          178,
          179,
          181,
          199,
          201,
          237,
          244,
          257,
          265,
          271,
          302,
          306,
          311,
          332,
          334,
          335,
          348,
          350,
          385,
          387,
          424,
          427,
          441,
          458,
          471,
          498,
          500,
          519,
          521,
          550,
          608,
          694,
          719,
          729,
          734,
          797,
          815,
          821,
          856,
          941,
          1031,
          1031,
          1041,
          1088,
          1125,
          1153,
          1229,
          1322,
          1356,
          1632,
          1637,
          1687,
          1753,
          1799,
          1856,
          1916,
          2030,
          2044,
          2123,
          2175,
          2205,
          2234,
          2312,
          2625,
          2715,
          2806,
          2876,
          2932,
          3008,
          3029,
          3082,
          3490,
          3538,
          3818,
          3844,
          3845,
          3978,
          4952,
          5171,
          5190,
          5233,
          5420,
          5775,
          5863,
          6237,
          6265,
          6407,
          6656,
          7463,
          7554,
          8184,
          8211,
          9367,
          10317,
          10516,
          11284,
          12668,
          13838,
          15725,
          15953,
          17344,
          19175,
          21344,
          25950,
          37417,
          68671,
          84084
         ]
        }
       ],
       "layout": {
        "template": {
         "data": {
          "bar": [
           {
            "error_x": {
             "color": "#2a3f5f"
            },
            "error_y": {
             "color": "#2a3f5f"
            },
            "marker": {
             "line": {
              "color": "#E5ECF6",
              "width": 0.5
             },
             "pattern": {
              "fillmode": "overlay",
              "size": 10,
              "solidity": 0.2
             }
            },
            "type": "bar"
           }
          ],
          "barpolar": [
           {
            "marker": {
             "line": {
              "color": "#E5ECF6",
              "width": 0.5
             },
             "pattern": {
              "fillmode": "overlay",
              "size": 10,
              "solidity": 0.2
             }
            },
            "type": "barpolar"
           }
          ],
          "carpet": [
           {
            "aaxis": {
             "endlinecolor": "#2a3f5f",
             "gridcolor": "white",
             "linecolor": "white",
             "minorgridcolor": "white",
             "startlinecolor": "#2a3f5f"
            },
            "baxis": {
             "endlinecolor": "#2a3f5f",
             "gridcolor": "white",
             "linecolor": "white",
             "minorgridcolor": "white",
             "startlinecolor": "#2a3f5f"
            },
            "type": "carpet"
           }
          ],
          "choropleth": [
           {
            "colorbar": {
             "outlinewidth": 0,
             "ticks": ""
            },
            "type": "choropleth"
           }
          ],
          "contour": [
           {
            "colorbar": {
             "outlinewidth": 0,
             "ticks": ""
            },
            "colorscale": [
             [
              0,
              "#0d0887"
             ],
             [
              0.1111111111111111,
              "#46039f"
             ],
             [
              0.2222222222222222,
              "#7201a8"
             ],
             [
              0.3333333333333333,
              "#9c179e"
             ],
             [
              0.4444444444444444,
              "#bd3786"
             ],
             [
              0.5555555555555556,
              "#d8576b"
             ],
             [
              0.6666666666666666,
              "#ed7953"
             ],
             [
              0.7777777777777778,
              "#fb9f3a"
             ],
             [
              0.8888888888888888,
              "#fdca26"
             ],
             [
              1,
              "#f0f921"
             ]
            ],
            "type": "contour"
           }
          ],
          "contourcarpet": [
           {
            "colorbar": {
             "outlinewidth": 0,
             "ticks": ""
            },
            "type": "contourcarpet"
           }
          ],
          "heatmap": [
           {
            "colorbar": {
             "outlinewidth": 0,
             "ticks": ""
            },
            "colorscale": [
             [
              0,
              "#0d0887"
             ],
             [
              0.1111111111111111,
              "#46039f"
             ],
             [
              0.2222222222222222,
              "#7201a8"
             ],
             [
              0.3333333333333333,
              "#9c179e"
             ],
             [
              0.4444444444444444,
              "#bd3786"
             ],
             [
              0.5555555555555556,
              "#d8576b"
             ],
             [
              0.6666666666666666,
              "#ed7953"
             ],
             [
              0.7777777777777778,
              "#fb9f3a"
             ],
             [
              0.8888888888888888,
              "#fdca26"
             ],
             [
              1,
              "#f0f921"
             ]
            ],
            "type": "heatmap"
           }
          ],
          "heatmapgl": [
           {
            "colorbar": {
             "outlinewidth": 0,
             "ticks": ""
            },
            "colorscale": [
             [
              0,
              "#0d0887"
             ],
             [
              0.1111111111111111,
              "#46039f"
             ],
             [
              0.2222222222222222,
              "#7201a8"
             ],
             [
              0.3333333333333333,
              "#9c179e"
             ],
             [
              0.4444444444444444,
              "#bd3786"
             ],
             [
              0.5555555555555556,
              "#d8576b"
             ],
             [
              0.6666666666666666,
              "#ed7953"
             ],
             [
              0.7777777777777778,
              "#fb9f3a"
             ],
             [
              0.8888888888888888,
              "#fdca26"
             ],
             [
              1,
              "#f0f921"
             ]
            ],
            "type": "heatmapgl"
           }
          ],
          "histogram": [
           {
            "marker": {
             "pattern": {
              "fillmode": "overlay",
              "size": 10,
              "solidity": 0.2
             }
            },
            "type": "histogram"
           }
          ],
          "histogram2d": [
           {
            "colorbar": {
             "outlinewidth": 0,
             "ticks": ""
            },
            "colorscale": [
             [
              0,
              "#0d0887"
             ],
             [
              0.1111111111111111,
              "#46039f"
             ],
             [
              0.2222222222222222,
              "#7201a8"
             ],
             [
              0.3333333333333333,
              "#9c179e"
             ],
             [
              0.4444444444444444,
              "#bd3786"
             ],
             [
              0.5555555555555556,
              "#d8576b"
             ],
             [
              0.6666666666666666,
              "#ed7953"
             ],
             [
              0.7777777777777778,
              "#fb9f3a"
             ],
             [
              0.8888888888888888,
              "#fdca26"
             ],
             [
              1,
              "#f0f921"
             ]
            ],
            "type": "histogram2d"
           }
          ],
          "histogram2dcontour": [
           {
            "colorbar": {
             "outlinewidth": 0,
             "ticks": ""
            },
            "colorscale": [
             [
              0,
              "#0d0887"
             ],
             [
              0.1111111111111111,
              "#46039f"
             ],
             [
              0.2222222222222222,
              "#7201a8"
             ],
             [
              0.3333333333333333,
              "#9c179e"
             ],
             [
              0.4444444444444444,
              "#bd3786"
             ],
             [
              0.5555555555555556,
              "#d8576b"
             ],
             [
              0.6666666666666666,
              "#ed7953"
             ],
             [
              0.7777777777777778,
              "#fb9f3a"
             ],
             [
              0.8888888888888888,
              "#fdca26"
             ],
             [
              1,
              "#f0f921"
             ]
            ],
            "type": "histogram2dcontour"
           }
          ],
          "mesh3d": [
           {
            "colorbar": {
             "outlinewidth": 0,
             "ticks": ""
            },
            "type": "mesh3d"
           }
          ],
          "parcoords": [
           {
            "line": {
             "colorbar": {
              "outlinewidth": 0,
              "ticks": ""
             }
            },
            "type": "parcoords"
           }
          ],
          "pie": [
           {
            "automargin": true,
            "type": "pie"
           }
          ],
          "scatter": [
           {
            "fillpattern": {
             "fillmode": "overlay",
             "size": 10,
             "solidity": 0.2
            },
            "type": "scatter"
           }
          ],
          "scatter3d": [
           {
            "line": {
             "colorbar": {
              "outlinewidth": 0,
              "ticks": ""
             }
            },
            "marker": {
             "colorbar": {
              "outlinewidth": 0,
              "ticks": ""
             }
            },
            "type": "scatter3d"
           }
          ],
          "scattercarpet": [
           {
            "marker": {
             "colorbar": {
              "outlinewidth": 0,
              "ticks": ""
             }
            },
            "type": "scattercarpet"
           }
          ],
          "scattergeo": [
           {
            "marker": {
             "colorbar": {
              "outlinewidth": 0,
              "ticks": ""
             }
            },
            "type": "scattergeo"
           }
          ],
          "scattergl": [
           {
            "marker": {
             "colorbar": {
              "outlinewidth": 0,
              "ticks": ""
             }
            },
            "type": "scattergl"
           }
          ],
          "scattermapbox": [
           {
            "marker": {
             "colorbar": {
              "outlinewidth": 0,
              "ticks": ""
             }
            },
            "type": "scattermapbox"
           }
          ],
          "scatterpolar": [
           {
            "marker": {
             "colorbar": {
              "outlinewidth": 0,
              "ticks": ""
             }
            },
            "type": "scatterpolar"
           }
          ],
          "scatterpolargl": [
           {
            "marker": {
             "colorbar": {
              "outlinewidth": 0,
              "ticks": ""
             }
            },
            "type": "scatterpolargl"
           }
          ],
          "scatterternary": [
           {
            "marker": {
             "colorbar": {
              "outlinewidth": 0,
              "ticks": ""
             }
            },
            "type": "scatterternary"
           }
          ],
          "surface": [
           {
            "colorbar": {
             "outlinewidth": 0,
             "ticks": ""
            },
            "colorscale": [
             [
              0,
              "#0d0887"
             ],
             [
              0.1111111111111111,
              "#46039f"
             ],
             [
              0.2222222222222222,
              "#7201a8"
             ],
             [
              0.3333333333333333,
              "#9c179e"
             ],
             [
              0.4444444444444444,
              "#bd3786"
             ],
             [
              0.5555555555555556,
              "#d8576b"
             ],
             [
              0.6666666666666666,
              "#ed7953"
             ],
             [
              0.7777777777777778,
              "#fb9f3a"
             ],
             [
              0.8888888888888888,
              "#fdca26"
             ],
             [
              1,
              "#f0f921"
             ]
            ],
            "type": "surface"
           }
          ],
          "table": [
           {
            "cells": {
             "fill": {
              "color": "#EBF0F8"
             },
             "line": {
              "color": "white"
             }
            },
            "header": {
             "fill": {
              "color": "#C8D4E3"
             },
             "line": {
              "color": "white"
             }
            },
            "type": "table"
           }
          ]
         },
         "layout": {
          "annotationdefaults": {
           "arrowcolor": "#2a3f5f",
           "arrowhead": 0,
           "arrowwidth": 1
          },
          "autotypenumbers": "strict",
          "coloraxis": {
           "colorbar": {
            "outlinewidth": 0,
            "ticks": ""
           }
          },
          "colorscale": {
           "diverging": [
            [
             0,
             "#8e0152"
            ],
            [
             0.1,
             "#c51b7d"
            ],
            [
             0.2,
             "#de77ae"
            ],
            [
             0.3,
             "#f1b6da"
            ],
            [
             0.4,
             "#fde0ef"
            ],
            [
             0.5,
             "#f7f7f7"
            ],
            [
             0.6,
             "#e6f5d0"
            ],
            [
             0.7,
             "#b8e186"
            ],
            [
             0.8,
             "#7fbc41"
            ],
            [
             0.9,
             "#4d9221"
            ],
            [
             1,
             "#276419"
            ]
           ],
           "sequential": [
            [
             0,
             "#0d0887"
            ],
            [
             0.1111111111111111,
             "#46039f"
            ],
            [
             0.2222222222222222,
             "#7201a8"
            ],
            [
             0.3333333333333333,
             "#9c179e"
            ],
            [
             0.4444444444444444,
             "#bd3786"
            ],
            [
             0.5555555555555556,
             "#d8576b"
            ],
            [
             0.6666666666666666,
             "#ed7953"
            ],
            [
             0.7777777777777778,
             "#fb9f3a"
            ],
            [
             0.8888888888888888,
             "#fdca26"
            ],
            [
             1,
             "#f0f921"
            ]
           ],
           "sequentialminus": [
            [
             0,
             "#0d0887"
            ],
            [
             0.1111111111111111,
             "#46039f"
            ],
            [
             0.2222222222222222,
             "#7201a8"
            ],
            [
             0.3333333333333333,
             "#9c179e"
            ],
            [
             0.4444444444444444,
             "#bd3786"
            ],
            [
             0.5555555555555556,
             "#d8576b"
            ],
            [
             0.6666666666666666,
             "#ed7953"
            ],
            [
             0.7777777777777778,
             "#fb9f3a"
            ],
            [
             0.8888888888888888,
             "#fdca26"
            ],
            [
             1,
             "#f0f921"
            ]
           ]
          },
          "colorway": [
           "#636efa",
           "#EF553B",
           "#00cc96",
           "#ab63fa",
           "#FFA15A",
           "#19d3f3",
           "#FF6692",
           "#B6E880",
           "#FF97FF",
           "#FECB52"
          ],
          "font": {
           "color": "#2a3f5f"
          },
          "geo": {
           "bgcolor": "white",
           "lakecolor": "white",
           "landcolor": "#E5ECF6",
           "showlakes": true,
           "showland": true,
           "subunitcolor": "white"
          },
          "hoverlabel": {
           "align": "left"
          },
          "hovermode": "closest",
          "mapbox": {
           "style": "light"
          },
          "paper_bgcolor": "white",
          "plot_bgcolor": "#E5ECF6",
          "polar": {
           "angularaxis": {
            "gridcolor": "white",
            "linecolor": "white",
            "ticks": ""
           },
           "bgcolor": "#E5ECF6",
           "radialaxis": {
            "gridcolor": "white",
            "linecolor": "white",
            "ticks": ""
           }
          },
          "scene": {
           "xaxis": {
            "backgroundcolor": "#E5ECF6",
            "gridcolor": "white",
            "gridwidth": 2,
            "linecolor": "white",
            "showbackground": true,
            "ticks": "",
            "zerolinecolor": "white"
           },
           "yaxis": {
            "backgroundcolor": "#E5ECF6",
            "gridcolor": "white",
            "gridwidth": 2,
            "linecolor": "white",
            "showbackground": true,
            "ticks": "",
            "zerolinecolor": "white"
           },
           "zaxis": {
            "backgroundcolor": "#E5ECF6",
            "gridcolor": "white",
            "gridwidth": 2,
            "linecolor": "white",
            "showbackground": true,
            "ticks": "",
            "zerolinecolor": "white"
           }
          },
          "shapedefaults": {
           "line": {
            "color": "#2a3f5f"
           }
          },
          "ternary": {
           "aaxis": {
            "gridcolor": "white",
            "linecolor": "white",
            "ticks": ""
           },
           "baxis": {
            "gridcolor": "white",
            "linecolor": "white",
            "ticks": ""
           },
           "bgcolor": "#E5ECF6",
           "caxis": {
            "gridcolor": "white",
            "linecolor": "white",
            "ticks": ""
           }
          },
          "title": {
           "x": 0.05
          },
          "xaxis": {
           "automargin": true,
           "gridcolor": "white",
           "linecolor": "white",
           "ticks": "",
           "title": {
            "standoff": 15
           },
           "zerolinecolor": "white",
           "zerolinewidth": 2
          },
          "yaxis": {
           "automargin": true,
           "gridcolor": "white",
           "linecolor": "white",
           "ticks": "",
           "title": {
            "standoff": 15
           },
           "zerolinecolor": "white",
           "zerolinewidth": 2
          }
         }
        },
        "title": {
         "text": "Number of Text Counts per Region"
        },
        "xaxis": {
         "title": {
          "text": "Region"
         }
        },
        "yaxis": {
         "title": {
          "text": "Text Count"
         }
        }
       }
      },
      "text/html": [
       "<div>                            <div id=\"349b65a6-e797-4259-81ec-a584eb005236\" class=\"plotly-graph-div\" style=\"height:525px; width:100%;\"></div>            <script type=\"text/javascript\">                require([\"plotly\"], function(Plotly) {                    window.PLOTLYENV=window.PLOTLYENV || {};                                    if (document.getElementById(\"349b65a6-e797-4259-81ec-a584eb005236\")) {                    Plotly.newPlot(                        \"349b65a6-e797-4259-81ec-a584eb005236\",                        [{\"x\":[\"Zacatecas\",\"Alaska\",\"Baja California Sur\",\"Outaouais\",\"Laurentides\",\"Saskatchewan\",\"Mont\\u00e9r\\u00e9gie\",\"Castries\",\"San Luis Potos\\u00ed\",\"Hidalgo\",\"District of Columbia\",\"Distrito Nacional\",\"Departamento de Santa Ana\",\"Tlaxcala\",\"Colima\",\"Tamaulipas\",\"Sonora\",\"Campeche\",\"Middle Tennessee\",\"North Dakota\",\"Vermont\",\"Durango\",\"Guerrero\",\"Newfoundland and Labrador\",\"Lanaudi\\u00e8re\",\"Prince Edward Island\",\"Santo Domingo\",\"La Altagracia\",\"Oaxaca\",\"Chiapas\",\"Montana\",\"Martinique\",\"Departamento de La Libertad\",\"Guadeloupe\",\"Chihuahua\",\"Connecticut\",\"Aguascalientes\",\"Barbuda\",\"South Dakota\",\"La Vega\",\"New Hampshire\",\"Sinaloa\",\"Capitale-Nationale\",\"Rhode Island\",\"West Tennessee\",\"Tabasco\",\"Morelos\",\"D\\u00e9partement de l'Ouest\",\"Delaware\",\"Coahuila\",\"Michoac\\u00e1n\",\"Santiago\",\"Maine\",\"New Mexico\",\"Alberta\",\"Manitoba\",\"Puebla\",\"Departamento de San Salvador\",\"Baja California\",\"Yucat\\u00e1n\",\"Idaho\",\"West Virginia\",\"Guanajuato\",\"Olancho\",\"Quintana Roo\",\"Nebraska\",\"Quer\\u00e9taro\",\"Veracruz\",\"Hawaii\",\"Qu\\u00e9bec\",\"Alta Verapaz\",\"Iowa\",\"Washington\",\"Minnesota\",\"Kansas\",\"Mississippi\",\"Arkansas\",\"Puerto Rico\",\"South Carolina\",\"Utah\",\"Wisconsin\",\"Estado de M\\u00e9xico\",\"Oklahoma\",\"Colorado\",\"Jalisco\",\"Missouri\",\"Nuevo Le\\u00f3n\",\"Tennessee\",\"British Columbia\",\"Oregon\",\"Michigan\",\"Maryland\",\"Indiana\",\"Kentucky\",\"Illinois\",\"Arizona\",\"Nevada\",\"Massachusetts\",\"Virginia\",\"Alabama\",\"North Carolina\",\"Ontario\",\"Georgia\",\"Ohio\",\"Louisiana\",\"New Jersey\",\"Pennsylvania\",\"Florida\",\"New York\",\"California\",\"Texas\"],\"y\":[133,139,148,171,178,179,181,199,201,237,244,257,265,271,302,306,311,332,334,335,348,350,385,387,424,427,441,458,471,498,500,519,521,550,608,694,719,729,734,797,815,821,856,941,1031,1031,1041,1088,1125,1153,1229,1322,1356,1632,1637,1687,1753,1799,1856,1916,2030,2044,2123,2175,2205,2234,2312,2625,2715,2806,2876,2932,3008,3029,3082,3490,3538,3818,3844,3845,3978,4952,5171,5190,5233,5420,5775,5863,6237,6265,6407,6656,7463,7554,8184,8211,9367,10317,10516,11284,12668,13838,15725,15953,17344,19175,21344,25950,37417,68671,84084],\"type\":\"bar\"}],                        {\"template\":{\"data\":{\"histogram2dcontour\":[{\"type\":\"histogram2dcontour\",\"colorbar\":{\"outlinewidth\":0,\"ticks\":\"\"},\"colorscale\":[[0.0,\"#0d0887\"],[0.1111111111111111,\"#46039f\"],[0.2222222222222222,\"#7201a8\"],[0.3333333333333333,\"#9c179e\"],[0.4444444444444444,\"#bd3786\"],[0.5555555555555556,\"#d8576b\"],[0.6666666666666666,\"#ed7953\"],[0.7777777777777778,\"#fb9f3a\"],[0.8888888888888888,\"#fdca26\"],[1.0,\"#f0f921\"]]}],\"choropleth\":[{\"type\":\"choropleth\",\"colorbar\":{\"outlinewidth\":0,\"ticks\":\"\"}}],\"histogram2d\":[{\"type\":\"histogram2d\",\"colorbar\":{\"outlinewidth\":0,\"ticks\":\"\"},\"colorscale\":[[0.0,\"#0d0887\"],[0.1111111111111111,\"#46039f\"],[0.2222222222222222,\"#7201a8\"],[0.3333333333333333,\"#9c179e\"],[0.4444444444444444,\"#bd3786\"],[0.5555555555555556,\"#d8576b\"],[0.6666666666666666,\"#ed7953\"],[0.7777777777777778,\"#fb9f3a\"],[0.8888888888888888,\"#fdca26\"],[1.0,\"#f0f921\"]]}],\"heatmap\":[{\"type\":\"heatmap\",\"colorbar\":{\"outlinewidth\":0,\"ticks\":\"\"},\"colorscale\":[[0.0,\"#0d0887\"],[0.1111111111111111,\"#46039f\"],[0.2222222222222222,\"#7201a8\"],[0.3333333333333333,\"#9c179e\"],[0.4444444444444444,\"#bd3786\"],[0.5555555555555556,\"#d8576b\"],[0.6666666666666666,\"#ed7953\"],[0.7777777777777778,\"#fb9f3a\"],[0.8888888888888888,\"#fdca26\"],[1.0,\"#f0f921\"]]}],\"heatmapgl\":[{\"type\":\"heatmapgl\",\"colorbar\":{\"outlinewidth\":0,\"ticks\":\"\"},\"colorscale\":[[0.0,\"#0d0887\"],[0.1111111111111111,\"#46039f\"],[0.2222222222222222,\"#7201a8\"],[0.3333333333333333,\"#9c179e\"],[0.4444444444444444,\"#bd3786\"],[0.5555555555555556,\"#d8576b\"],[0.6666666666666666,\"#ed7953\"],[0.7777777777777778,\"#fb9f3a\"],[0.8888888888888888,\"#fdca26\"],[1.0,\"#f0f921\"]]}],\"contourcarpet\":[{\"type\":\"contourcarpet\",\"colorbar\":{\"outlinewidth\":0,\"ticks\":\"\"}}],\"contour\":[{\"type\":\"contour\",\"colorbar\":{\"outlinewidth\":0,\"ticks\":\"\"},\"colorscale\":[[0.0,\"#0d0887\"],[0.1111111111111111,\"#46039f\"],[0.2222222222222222,\"#7201a8\"],[0.3333333333333333,\"#9c179e\"],[0.4444444444444444,\"#bd3786\"],[0.5555555555555556,\"#d8576b\"],[0.6666666666666666,\"#ed7953\"],[0.7777777777777778,\"#fb9f3a\"],[0.8888888888888888,\"#fdca26\"],[1.0,\"#f0f921\"]]}],\"surface\":[{\"type\":\"surface\",\"colorbar\":{\"outlinewidth\":0,\"ticks\":\"\"},\"colorscale\":[[0.0,\"#0d0887\"],[0.1111111111111111,\"#46039f\"],[0.2222222222222222,\"#7201a8\"],[0.3333333333333333,\"#9c179e\"],[0.4444444444444444,\"#bd3786\"],[0.5555555555555556,\"#d8576b\"],[0.6666666666666666,\"#ed7953\"],[0.7777777777777778,\"#fb9f3a\"],[0.8888888888888888,\"#fdca26\"],[1.0,\"#f0f921\"]]}],\"mesh3d\":[{\"type\":\"mesh3d\",\"colorbar\":{\"outlinewidth\":0,\"ticks\":\"\"}}],\"scatter\":[{\"fillpattern\":{\"fillmode\":\"overlay\",\"size\":10,\"solidity\":0.2},\"type\":\"scatter\"}],\"parcoords\":[{\"type\":\"parcoords\",\"line\":{\"colorbar\":{\"outlinewidth\":0,\"ticks\":\"\"}}}],\"scatterpolargl\":[{\"type\":\"scatterpolargl\",\"marker\":{\"colorbar\":{\"outlinewidth\":0,\"ticks\":\"\"}}}],\"bar\":[{\"error_x\":{\"color\":\"#2a3f5f\"},\"error_y\":{\"color\":\"#2a3f5f\"},\"marker\":{\"line\":{\"color\":\"#E5ECF6\",\"width\":0.5},\"pattern\":{\"fillmode\":\"overlay\",\"size\":10,\"solidity\":0.2}},\"type\":\"bar\"}],\"scattergeo\":[{\"type\":\"scattergeo\",\"marker\":{\"colorbar\":{\"outlinewidth\":0,\"ticks\":\"\"}}}],\"scatterpolar\":[{\"type\":\"scatterpolar\",\"marker\":{\"colorbar\":{\"outlinewidth\":0,\"ticks\":\"\"}}}],\"histogram\":[{\"marker\":{\"pattern\":{\"fillmode\":\"overlay\",\"size\":10,\"solidity\":0.2}},\"type\":\"histogram\"}],\"scattergl\":[{\"type\":\"scattergl\",\"marker\":{\"colorbar\":{\"outlinewidth\":0,\"ticks\":\"\"}}}],\"scatter3d\":[{\"type\":\"scatter3d\",\"line\":{\"colorbar\":{\"outlinewidth\":0,\"ticks\":\"\"}},\"marker\":{\"colorbar\":{\"outlinewidth\":0,\"ticks\":\"\"}}}],\"scattermapbox\":[{\"type\":\"scattermapbox\",\"marker\":{\"colorbar\":{\"outlinewidth\":0,\"ticks\":\"\"}}}],\"scatterternary\":[{\"type\":\"scatterternary\",\"marker\":{\"colorbar\":{\"outlinewidth\":0,\"ticks\":\"\"}}}],\"scattercarpet\":[{\"type\":\"scattercarpet\",\"marker\":{\"colorbar\":{\"outlinewidth\":0,\"ticks\":\"\"}}}],\"carpet\":[{\"aaxis\":{\"endlinecolor\":\"#2a3f5f\",\"gridcolor\":\"white\",\"linecolor\":\"white\",\"minorgridcolor\":\"white\",\"startlinecolor\":\"#2a3f5f\"},\"baxis\":{\"endlinecolor\":\"#2a3f5f\",\"gridcolor\":\"white\",\"linecolor\":\"white\",\"minorgridcolor\":\"white\",\"startlinecolor\":\"#2a3f5f\"},\"type\":\"carpet\"}],\"table\":[{\"cells\":{\"fill\":{\"color\":\"#EBF0F8\"},\"line\":{\"color\":\"white\"}},\"header\":{\"fill\":{\"color\":\"#C8D4E3\"},\"line\":{\"color\":\"white\"}},\"type\":\"table\"}],\"barpolar\":[{\"marker\":{\"line\":{\"color\":\"#E5ECF6\",\"width\":0.5},\"pattern\":{\"fillmode\":\"overlay\",\"size\":10,\"solidity\":0.2}},\"type\":\"barpolar\"}],\"pie\":[{\"automargin\":true,\"type\":\"pie\"}]},\"layout\":{\"autotypenumbers\":\"strict\",\"colorway\":[\"#636efa\",\"#EF553B\",\"#00cc96\",\"#ab63fa\",\"#FFA15A\",\"#19d3f3\",\"#FF6692\",\"#B6E880\",\"#FF97FF\",\"#FECB52\"],\"font\":{\"color\":\"#2a3f5f\"},\"hovermode\":\"closest\",\"hoverlabel\":{\"align\":\"left\"},\"paper_bgcolor\":\"white\",\"plot_bgcolor\":\"#E5ECF6\",\"polar\":{\"bgcolor\":\"#E5ECF6\",\"angularaxis\":{\"gridcolor\":\"white\",\"linecolor\":\"white\",\"ticks\":\"\"},\"radialaxis\":{\"gridcolor\":\"white\",\"linecolor\":\"white\",\"ticks\":\"\"}},\"ternary\":{\"bgcolor\":\"#E5ECF6\",\"aaxis\":{\"gridcolor\":\"white\",\"linecolor\":\"white\",\"ticks\":\"\"},\"baxis\":{\"gridcolor\":\"white\",\"linecolor\":\"white\",\"ticks\":\"\"},\"caxis\":{\"gridcolor\":\"white\",\"linecolor\":\"white\",\"ticks\":\"\"}},\"coloraxis\":{\"colorbar\":{\"outlinewidth\":0,\"ticks\":\"\"}},\"colorscale\":{\"sequential\":[[0.0,\"#0d0887\"],[0.1111111111111111,\"#46039f\"],[0.2222222222222222,\"#7201a8\"],[0.3333333333333333,\"#9c179e\"],[0.4444444444444444,\"#bd3786\"],[0.5555555555555556,\"#d8576b\"],[0.6666666666666666,\"#ed7953\"],[0.7777777777777778,\"#fb9f3a\"],[0.8888888888888888,\"#fdca26\"],[1.0,\"#f0f921\"]],\"sequentialminus\":[[0.0,\"#0d0887\"],[0.1111111111111111,\"#46039f\"],[0.2222222222222222,\"#7201a8\"],[0.3333333333333333,\"#9c179e\"],[0.4444444444444444,\"#bd3786\"],[0.5555555555555556,\"#d8576b\"],[0.6666666666666666,\"#ed7953\"],[0.7777777777777778,\"#fb9f3a\"],[0.8888888888888888,\"#fdca26\"],[1.0,\"#f0f921\"]],\"diverging\":[[0,\"#8e0152\"],[0.1,\"#c51b7d\"],[0.2,\"#de77ae\"],[0.3,\"#f1b6da\"],[0.4,\"#fde0ef\"],[0.5,\"#f7f7f7\"],[0.6,\"#e6f5d0\"],[0.7,\"#b8e186\"],[0.8,\"#7fbc41\"],[0.9,\"#4d9221\"],[1,\"#276419\"]]},\"xaxis\":{\"gridcolor\":\"white\",\"linecolor\":\"white\",\"ticks\":\"\",\"title\":{\"standoff\":15},\"zerolinecolor\":\"white\",\"automargin\":true,\"zerolinewidth\":2},\"yaxis\":{\"gridcolor\":\"white\",\"linecolor\":\"white\",\"ticks\":\"\",\"title\":{\"standoff\":15},\"zerolinecolor\":\"white\",\"automargin\":true,\"zerolinewidth\":2},\"scene\":{\"xaxis\":{\"backgroundcolor\":\"#E5ECF6\",\"gridcolor\":\"white\",\"linecolor\":\"white\",\"showbackground\":true,\"ticks\":\"\",\"zerolinecolor\":\"white\",\"gridwidth\":2},\"yaxis\":{\"backgroundcolor\":\"#E5ECF6\",\"gridcolor\":\"white\",\"linecolor\":\"white\",\"showbackground\":true,\"ticks\":\"\",\"zerolinecolor\":\"white\",\"gridwidth\":2},\"zaxis\":{\"backgroundcolor\":\"#E5ECF6\",\"gridcolor\":\"white\",\"linecolor\":\"white\",\"showbackground\":true,\"ticks\":\"\",\"zerolinecolor\":\"white\",\"gridwidth\":2}},\"shapedefaults\":{\"line\":{\"color\":\"#2a3f5f\"}},\"annotationdefaults\":{\"arrowcolor\":\"#2a3f5f\",\"arrowhead\":0,\"arrowwidth\":1},\"geo\":{\"bgcolor\":\"white\",\"landcolor\":\"#E5ECF6\",\"subunitcolor\":\"white\",\"showland\":true,\"showlakes\":true,\"lakecolor\":\"white\"},\"title\":{\"x\":0.05},\"mapbox\":{\"style\":\"light\"}}},\"title\":{\"text\":\"Number of Text Counts per Region\"},\"xaxis\":{\"title\":{\"text\":\"Region\"}},\"yaxis\":{\"title\":{\"text\":\"Text Count\"}}},                        {\"responsive\": true}                    ).then(function(){\n",
       "                            \n",
       "var gd = document.getElementById('349b65a6-e797-4259-81ec-a584eb005236');\n",
       "var x = new MutationObserver(function (mutations, observer) {{\n",
       "        var display = window.getComputedStyle(gd).display;\n",
       "        if (!display || display === 'none') {{\n",
       "            console.log([gd, 'removed!']);\n",
       "            Plotly.purge(gd);\n",
       "            observer.disconnect();\n",
       "        }}\n",
       "}});\n",
       "\n",
       "// Listen for the removal of the full notebook cells\n",
       "var notebookContainer = gd.closest('#notebook-container');\n",
       "if (notebookContainer) {{\n",
       "    x.observe(notebookContainer, {childList: true});\n",
       "}}\n",
       "\n",
       "// Listen for the clearing of the current output cell\n",
       "var outputEl = gd.closest('.output');\n",
       "if (outputEl) {{\n",
       "    x.observe(outputEl, {childList: true});\n",
       "}}\n",
       "\n",
       "                        })                };                });            </script>        </div>"
      ]
     },
     "metadata": {},
     "output_type": "display_data"
    }
   ],
   "source": [
    "import pandas as pd\n",
    "import plotly.graph_objects as go\n",
    "\n",
    " #Assuming you have a DataFrame named 'region_counts_info' with columns 'region' and 'text'\n",
    "\n",
    "fig = go.Figure(data=[go.Bar(x=region_counts_info['region'], y=region_counts_info['text'])])\n",
    "\n",
    "fig.update_layout(\n",
    "    title='Number of Text Counts per Region',\n",
    "    xaxis_title='Region',\n",
    "    yaxis_title='Text Count'\n",
    ")\n",
    "\n",
    "fig.show()"
   ]
  },
  {
   "cell_type": "code",
   "execution_count": 92,
   "metadata": {
    "execution": {
     "iopub.execute_input": "2023-05-29T23:54:14.054657Z",
     "iopub.status.busy": "2023-05-29T23:54:14.054001Z",
     "iopub.status.idle": "2023-05-29T23:54:14.191456Z",
     "shell.execute_reply": "2023-05-29T23:54:14.190675Z",
     "shell.execute_reply.started": "2023-05-29T23:54:14.054633Z"
    }
   },
   "outputs": [],
   "source": [
    "sample_data=sample_data.dropna()"
   ]
  },
  {
   "cell_type": "code",
   "execution_count": 93,
   "metadata": {
    "execution": {
     "iopub.execute_input": "2023-05-29T23:54:16.622136Z",
     "iopub.status.busy": "2023-05-29T23:54:16.621253Z",
     "iopub.status.idle": "2023-05-29T23:54:16.648349Z",
     "shell.execute_reply": "2023-05-29T23:54:16.647639Z",
     "shell.execute_reply.started": "2023-05-29T23:54:16.622116Z"
    },
    "id": "agiq6C61pFd0"
   },
   "outputs": [],
   "source": [
    "model_data=sample_data[['text', 'region', 'tweet_day', 'tweet_month','lat','language', 'lng']] #add langugage later"
   ]
  },
  {
   "cell_type": "markdown",
   "metadata": {
    "id": "FwSuBQKKRajW"
   },
   "source": [
    "<span style=\"font-size:24px; font-weight:bold;\">Preprocess Text for Model Training</span>"
   ]
  },
  {
   "cell_type": "code",
   "execution_count": 94,
   "metadata": {
    "colab": {
     "base_uri": "https://localhost:8080/",
     "height": 206
    },
    "execution": {
     "iopub.execute_input": "2023-05-29T23:54:19.655011Z",
     "iopub.status.busy": "2023-05-29T23:54:19.654435Z",
     "iopub.status.idle": "2023-05-29T23:54:19.662783Z",
     "shell.execute_reply": "2023-05-29T23:54:19.662137Z",
     "shell.execute_reply.started": "2023-05-29T23:54:19.654986Z"
    },
    "id": "Do2zVUGmGeIe",
    "outputId": "2391c45d-91d7-4848-e38b-d0178c34ef45"
   },
   "outputs": [
    {
     "data": {
      "text/html": [
       "<div>\n",
       "<style scoped>\n",
       "    .dataframe tbody tr th:only-of-type {\n",
       "        vertical-align: middle;\n",
       "    }\n",
       "\n",
       "    .dataframe tbody tr th {\n",
       "        vertical-align: top;\n",
       "    }\n",
       "\n",
       "    .dataframe thead th {\n",
       "        text-align: right;\n",
       "    }\n",
       "</style>\n",
       "<table border=\"1\" class=\"dataframe\">\n",
       "  <thead>\n",
       "    <tr style=\"text-align: right;\">\n",
       "      <th></th>\n",
       "      <th>text</th>\n",
       "      <th>region</th>\n",
       "      <th>tweet_day</th>\n",
       "      <th>tweet_month</th>\n",
       "      <th>lat</th>\n",
       "      <th>language</th>\n",
       "      <th>lng</th>\n",
       "    </tr>\n",
       "  </thead>\n",
       "  <tbody>\n",
       "    <tr>\n",
       "      <th>0</th>\n",
       "      <td>wow didn t know the homies were coming through...</td>\n",
       "      <td>California</td>\n",
       "      <td>2</td>\n",
       "      <td>8</td>\n",
       "      <td>34.020789</td>\n",
       "      <td>0</td>\n",
       "      <td>-118.411907</td>\n",
       "    </tr>\n",
       "    <tr>\n",
       "      <th>1</th>\n",
       "      <td>the foggy nights in la be peaceful such a calm...</td>\n",
       "      <td>California</td>\n",
       "      <td>28</td>\n",
       "      <td>8</td>\n",
       "      <td>34.020789</td>\n",
       "      <td>0</td>\n",
       "      <td>-118.411907</td>\n",
       "    </tr>\n",
       "    <tr>\n",
       "      <th>2</th>\n",
       "      <td>khamisvideobomb</td>\n",
       "      <td>California</td>\n",
       "      <td>13</td>\n",
       "      <td>8</td>\n",
       "      <td>34.020789</td>\n",
       "      <td>3</td>\n",
       "      <td>-118.411907</td>\n",
       "    </tr>\n",
       "    <tr>\n",
       "      <th>3</th>\n",
       "      <td>anyone tryna hit the gym hmu</td>\n",
       "      <td>California</td>\n",
       "      <td>31</td>\n",
       "      <td>8</td>\n",
       "      <td>34.020789</td>\n",
       "      <td>0</td>\n",
       "      <td>-118.411907</td>\n",
       "    </tr>\n",
       "    <tr>\n",
       "      <th>4</th>\n",
       "      <td>are you kidding me this intro is crazy</td>\n",
       "      <td>California</td>\n",
       "      <td>6</td>\n",
       "      <td>8</td>\n",
       "      <td>34.020789</td>\n",
       "      <td>0</td>\n",
       "      <td>-118.411907</td>\n",
       "    </tr>\n",
       "  </tbody>\n",
       "</table>\n",
       "</div>"
      ],
      "text/plain": [
       "                                                text      region  tweet_day  \\\n",
       "0  wow didn t know the homies were coming through...  California          2   \n",
       "1  the foggy nights in la be peaceful such a calm...  California         28   \n",
       "2                                    khamisvideobomb  California         13   \n",
       "3                       anyone tryna hit the gym hmu  California         31   \n",
       "4             are you kidding me this intro is crazy  California          6   \n",
       "\n",
       "   tweet_month        lat  language         lng  \n",
       "0            8  34.020789         0 -118.411907  \n",
       "1            8  34.020789         0 -118.411907  \n",
       "2            8  34.020789         3 -118.411907  \n",
       "3            8  34.020789         0 -118.411907  \n",
       "4            8  34.020789         0 -118.411907  "
      ]
     },
     "execution_count": 94,
     "metadata": {},
     "output_type": "execute_result"
    }
   ],
   "source": [
    "model_data.head()"
   ]
  },
  {
   "cell_type": "code",
   "execution_count": 95,
   "metadata": {
    "colab": {
     "base_uri": "https://localhost:8080/"
    },
    "execution": {
     "iopub.execute_input": "2023-05-29T23:54:24.658399Z",
     "iopub.status.busy": "2023-05-29T23:54:24.657869Z",
     "iopub.status.idle": "2023-05-29T23:54:24.757849Z",
     "shell.execute_reply": "2023-05-29T23:54:24.757097Z",
     "shell.execute_reply.started": "2023-05-29T23:54:24.658376Z"
    },
    "id": "AYqSyV77yFcz",
    "outputId": "ebd38c78-8b9d-4375-f232-bdd5bcb1269c"
   },
   "outputs": [
    {
     "name": "stdout",
     "output_type": "stream",
     "text": [
      "<class 'pandas.core.frame.DataFrame'>\n",
      "Int64Index: 570315 entries, 0 to 604205\n",
      "Data columns (total 7 columns):\n",
      " #   Column       Non-Null Count   Dtype  \n",
      "---  ------       --------------   -----  \n",
      " 0   text         570315 non-null  object \n",
      " 1   region       570315 non-null  object \n",
      " 2   tweet_day    570315 non-null  int64  \n",
      " 3   tweet_month  570315 non-null  int64  \n",
      " 4   lat          570315 non-null  float64\n",
      " 5   language     570315 non-null  int64  \n",
      " 6   lng          570315 non-null  float64\n",
      "dtypes: float64(2), int64(3), object(2)\n",
      "memory usage: 34.8+ MB\n"
     ]
    }
   ],
   "source": [
    "model_data.info()"
   ]
  },
  {
   "cell_type": "code",
   "execution_count": 96,
   "metadata": {
    "execution": {
     "iopub.execute_input": "2023-05-29T23:54:28.062946Z",
     "iopub.status.busy": "2023-05-29T23:54:28.062348Z",
     "iopub.status.idle": "2023-05-29T23:54:28.066840Z",
     "shell.execute_reply": "2023-05-29T23:54:28.066120Z",
     "shell.execute_reply.started": "2023-05-29T23:54:28.062922Z"
    }
   },
   "outputs": [],
   "source": [
    "import re\n",
    "\n",
    "def clean_text(text):\n",
    "  text = re.sub(r\"[^\\w\\s]\", \"\", text)\n",
    "  return text\n",
    "\n"
   ]
  },
  {
   "cell_type": "code",
   "execution_count": 97,
   "metadata": {
    "execution": {
     "iopub.execute_input": "2023-05-29T23:54:32.201769Z",
     "iopub.status.busy": "2023-05-29T23:54:32.201091Z",
     "iopub.status.idle": "2023-05-29T23:54:32.996774Z",
     "shell.execute_reply": "2023-05-29T23:54:32.996001Z",
     "shell.execute_reply.started": "2023-05-29T23:54:32.201742Z"
    }
   },
   "outputs": [],
   "source": [
    "model_data = model_data.assign(text=model_data[\"text\"].apply(clean_text))"
   ]
  },
  {
   "cell_type": "code",
   "execution_count": 98,
   "metadata": {
    "execution": {
     "iopub.execute_input": "2023-05-29T23:54:36.732050Z",
     "iopub.status.busy": "2023-05-29T23:54:36.731510Z",
     "iopub.status.idle": "2023-05-29T23:54:36.748598Z",
     "shell.execute_reply": "2023-05-29T23:54:36.747981Z",
     "shell.execute_reply.started": "2023-05-29T23:54:36.732025Z"
    }
   },
   "outputs": [
    {
     "data": {
      "text/plain": [
       "'the foggy nights in la be peaceful such a calming chill vibe'"
      ]
     },
     "execution_count": 98,
     "metadata": {},
     "output_type": "execute_result"
    }
   ],
   "source": [
    "model_data['text'][1]"
   ]
  },
  {
   "cell_type": "code",
   "execution_count": null,
   "metadata": {},
   "outputs": [],
   "source": [
    "model_data"
   ]
  },
  {
   "cell_type": "code",
   "execution_count": null,
   "metadata": {},
   "outputs": [],
   "source": [
    "model_data=model_data.dropna()"
   ]
  },
  {
   "cell_type": "code",
   "execution_count": null,
   "metadata": {},
   "outputs": [],
   "source": [
    "model_data.isna().sum()"
   ]
  },
  {
   "cell_type": "markdown",
   "metadata": {
    "id": "Ds3QAzqe_Tfh"
   },
   "source": [
    "### **Model Building**"
   ]
  },
  {
   "cell_type": "code",
   "execution_count": 99,
   "metadata": {
    "execution": {
     "iopub.execute_input": "2023-05-29T23:54:41.354432Z",
     "iopub.status.busy": "2023-05-29T23:54:41.353744Z",
     "iopub.status.idle": "2023-05-29T23:54:41.363009Z",
     "shell.execute_reply": "2023-05-29T23:54:41.362327Z",
     "shell.execute_reply.started": "2023-05-29T23:54:41.354405Z"
    }
   },
   "outputs": [],
   "source": [
    "import math\n",
    "def haversine_distance(ytrue, ypred):\n",
    "    R = 6371  # radius of the earth in kilometers\n",
    "    lat1_rad = tf.math.divide(tf.math.multiply(ytrue[:, 0], math.pi), 180.0)\n",
    "    lon1_rad = tf.math.divide(tf.math.multiply(ytrue[:, 1], math.pi), 180.0)\n",
    "    lat2_rad = tf.math.divide(tf.math.multiply(ypred[:, 0], math.pi), 180.0)\n",
    "    lon2_rad = tf.math.divide(tf.math.multiply(ypred[:, 1], math.pi), 180.0)\n",
    "    dlat = lat2_rad - lat1_rad\n",
    "    dlon = lon2_rad - lon1_rad\n",
    "    a = tf.math.square(tf.math.sin(dlat / 2)) + tf.math.cos(lat1_rad) * tf.math.cos(lat2_rad) * tf.math.square(tf.math.sin(dlon / 2))\n",
    "    c = 2 * tf.math.atan2(tf.math.sqrt(a), tf.math.sqrt(1 - a))\n",
    "    distance = R * c\n",
    "    return distance"
   ]
  },
  {
   "cell_type": "code",
   "execution_count": 110,
   "metadata": {
    "execution": {
     "iopub.execute_input": "2023-05-29T23:55:05.129494Z",
     "iopub.status.busy": "2023-05-29T23:55:05.128907Z",
     "iopub.status.idle": "2023-05-29T23:55:44.658003Z",
     "shell.execute_reply": "2023-05-29T23:55:44.657320Z",
     "shell.execute_reply.started": "2023-05-29T23:55:05.129468Z"
    }
   },
   "outputs": [
    {
     "data": {
      "application/vnd.jupyter.widget-view+json": {
       "model_id": "1be70c109a2d4ed180c18cd9369aa9da",
       "version_major": 2,
       "version_minor": 0
      },
      "text/plain": [
       "Downloading tokenizer_config.json:   0%|          | 0.00/28.0 [00:00<?, ?B/s]"
      ]
     },
     "metadata": {},
     "output_type": "display_data"
    },
    {
     "data": {
      "application/vnd.jupyter.widget-view+json": {
       "model_id": "9ce268e37ced41759924695da21084cb",
       "version_major": 2,
       "version_minor": 0
      },
      "text/plain": [
       "Downloading config.json:   0%|          | 0.00/570 [00:00<?, ?B/s]"
      ]
     },
     "metadata": {},
     "output_type": "display_data"
    },
    {
     "data": {
      "application/vnd.jupyter.widget-view+json": {
       "model_id": "dcd24391eb2b44a2aefa5f494df7ed48",
       "version_major": 2,
       "version_minor": 0
      },
      "text/plain": [
       "Downloading vocab.txt:   0%|          | 0.00/226k [00:00<?, ?B/s]"
      ]
     },
     "metadata": {},
     "output_type": "display_data"
    },
    {
     "data": {
      "application/vnd.jupyter.widget-view+json": {
       "model_id": "337fb591f8b24abf8d23191c66968b2c",
       "version_major": 2,
       "version_minor": 0
      },
      "text/plain": [
       "Downloading tokenizer.json:   0%|          | 0.00/455k [00:00<?, ?B/s]"
      ]
     },
     "metadata": {},
     "output_type": "display_data"
    }
   ],
   "source": [
    "tokenizer = AutoTokenizer.from_pretrained('bert-base-uncased')\n",
    "import numpy as np\n",
    "import pandas as pd\n",
    "from sklearn.model_selection import train_test_split\n",
    "from tensorflow.keras.preprocessing.sequence import pad_sequences\n",
    "from transformers import AutoTokenizer, TFAutoModel\n",
    "from tensorflow.keras.models import Sequential\n",
    "from tensorflow.keras.layers import Dense, GlobalAveragePooling1D"
   ]
  },
  {
   "cell_type": "markdown",
   "metadata": {},
   "source": [
    "SPLIT DATA INTO TRAINING, VALIDATION AND TESTING SETS"
   ]
  },
  {
   "cell_type": "code",
   "execution_count": 100,
   "metadata": {
    "execution": {
     "iopub.execute_input": "2023-05-29T23:54:44.190654Z",
     "iopub.status.busy": "2023-05-29T23:54:44.190361Z",
     "iopub.status.idle": "2023-05-29T23:54:44.253798Z",
     "shell.execute_reply": "2023-05-29T23:54:44.253128Z",
     "shell.execute_reply.started": "2023-05-29T23:54:44.190632Z"
    },
    "id": "mQYtUjzmGh3B"
   },
   "outputs": [],
   "source": [
    "#train_data, test_data = train_test_split(model_data, test_size=.2, random_state=42)\n",
    "#train_data, val_data = train_test_split(train_data, test_size=.2, random_state=42)\n",
    "X=model_data[['tweet_day', 'tweet_month', 'language', 'text']]\n",
    "y=model_data[['lat', 'lng']]"
   ]
  },
  {
   "cell_type": "code",
   "execution_count": 101,
   "metadata": {
    "execution": {
     "iopub.execute_input": "2023-05-29T23:54:44.973529Z",
     "iopub.status.busy": "2023-05-29T23:54:44.972933Z",
     "iopub.status.idle": "2023-05-29T23:54:45.033742Z",
     "shell.execute_reply": "2023-05-29T23:54:45.033068Z",
     "shell.execute_reply.started": "2023-05-29T23:54:44.973495Z"
    }
   },
   "outputs": [
    {
     "data": {
      "text/plain": [
       "lat    0\n",
       "lng    0\n",
       "dtype: int64"
      ]
     },
     "execution_count": 101,
     "metadata": {},
     "output_type": "execute_result"
    }
   ],
   "source": [
    "X.isna().sum()\n",
    "y.isna().sum()"
   ]
  },
  {
   "cell_type": "code",
   "execution_count": 102,
   "metadata": {
    "colab": {
     "base_uri": "https://localhost:8080/"
    },
    "execution": {
     "iopub.execute_input": "2023-05-29T23:54:45.736140Z",
     "iopub.status.busy": "2023-05-29T23:54:45.735861Z",
     "iopub.status.idle": "2023-05-29T23:54:45.886558Z",
     "shell.execute_reply": "2023-05-29T23:54:45.885765Z",
     "shell.execute_reply.started": "2023-05-29T23:54:45.736118Z"
    },
    "id": "XmIL6o-tGrls",
    "outputId": "6d38b4d9-4176-4fec-ab21-98b0d2bf7e60"
   },
   "outputs": [],
   "source": [
    "X_train, X_test, y_train, y_test = train_test_split(X, y, test_size=0.2, random_state=42)\n",
    "X_train, X_val, y_train, y_val = train_test_split(X_train, y_train, test_size=0.2, random_state=42)"
   ]
  },
  {
   "cell_type": "code",
   "execution_count": 103,
   "metadata": {
    "execution": {
     "iopub.execute_input": "2023-05-29T23:54:47.384206Z",
     "iopub.status.busy": "2023-05-29T23:54:47.383489Z",
     "iopub.status.idle": "2023-05-29T23:54:47.388840Z",
     "shell.execute_reply": "2023-05-29T23:54:47.387945Z",
     "shell.execute_reply.started": "2023-05-29T23:54:47.384172Z"
    },
    "id": "GHatUNkgHPS6"
   },
   "outputs": [
    {
     "name": "stdout",
     "output_type": "stream",
     "text": [
      "(365001, 4)\n",
      "(365001, 2)\n",
      "(91251, 4)\n",
      "(91251, 2)\n",
      "(114063, 4)\n",
      "(114063, 2)\n"
     ]
    }
   ],
   "source": [
    "print(X_train.shape)\n",
    "print(y_train.shape)\n",
    "print(X_val.shape)\n",
    "print(y_val.shape)\n",
    "print(X_test.shape)\n",
    "print(y_test.shape)"
   ]
  },
  {
   "cell_type": "code",
   "execution_count": 104,
   "metadata": {
    "execution": {
     "iopub.execute_input": "2023-05-29T23:54:48.078990Z",
     "iopub.status.busy": "2023-05-29T23:54:48.078232Z",
     "iopub.status.idle": "2023-05-29T23:54:48.082385Z",
     "shell.execute_reply": "2023-05-29T23:54:48.081568Z",
     "shell.execute_reply.started": "2023-05-29T23:54:48.078961Z"
    }
   },
   "outputs": [],
   "source": [
    "numerical=['tweet_day', 'tweet_month', 'language']"
   ]
  },
  {
   "cell_type": "code",
   "execution_count": 105,
   "metadata": {
    "execution": {
     "iopub.execute_input": "2023-05-29T23:54:48.943266Z",
     "iopub.status.busy": "2023-05-29T23:54:48.942726Z",
     "iopub.status.idle": "2023-05-29T23:54:48.950846Z",
     "shell.execute_reply": "2023-05-29T23:54:48.950085Z",
     "shell.execute_reply.started": "2023-05-29T23:54:48.943244Z"
    }
   },
   "outputs": [],
   "source": [
    "numerical_train_input=X_train[numerical]\n",
    "numerical_val_input=X_val[numerical]\n",
    "numerical_test_input=X_test[numerical]"
   ]
  },
  {
   "cell_type": "code",
   "execution_count": 106,
   "metadata": {
    "execution": {
     "iopub.execute_input": "2023-05-29T23:54:52.363453Z",
     "iopub.status.busy": "2023-05-29T23:54:52.362802Z",
     "iopub.status.idle": "2023-05-29T23:54:52.388865Z",
     "shell.execute_reply": "2023-05-29T23:54:52.388083Z",
     "shell.execute_reply.started": "2023-05-29T23:54:52.363429Z"
    }
   },
   "outputs": [],
   "source": [
    "from sklearn.preprocessing import LabelEncoder\n",
    "\n",
    "# Create a LabelEncoder instance\n",
    "label_encoder = LabelEncoder()\n",
    "label_encoder.fit(numerical_train_input['language'])\n",
    "label_encoder.fit(numerical_val_input['language'])\n",
    "label_encoder.fit(numerical_test_input['language'])\n",
    "\n",
    "# Encode the 'language' column\n",
    "numerical_train_input['language_encoded'] = label_encoder.transform(numerical_train_input['language'])\n",
    "numerical_val_input['language_encoded'] = label_encoder.transform(numerical_val_input['language'])\n",
    "numerical_test_input['language_encoded'] = label_encoder.transform(numerical_test_input['language'])"
   ]
  },
  {
   "cell_type": "code",
   "execution_count": 107,
   "metadata": {
    "execution": {
     "iopub.execute_input": "2023-05-29T23:54:53.596642Z",
     "iopub.status.busy": "2023-05-29T23:54:53.595957Z",
     "iopub.status.idle": "2023-05-29T23:54:53.605889Z",
     "shell.execute_reply": "2023-05-29T23:54:53.605088Z",
     "shell.execute_reply.started": "2023-05-29T23:54:53.596608Z"
    }
   },
   "outputs": [],
   "source": [
    "numerical_train_input=numerical_train_input.drop(['language'], axis=1)\n",
    "numerical_val_input=numerical_val_input.drop(['language'], axis=1)\n",
    "numerical_test_input=numerical_test_input.drop(['language'], axis=1)"
   ]
  },
  {
   "cell_type": "code",
   "execution_count": 108,
   "metadata": {
    "execution": {
     "iopub.execute_input": "2023-05-29T23:54:54.273432Z",
     "iopub.status.busy": "2023-05-29T23:54:54.272789Z",
     "iopub.status.idle": "2023-05-29T23:54:54.277678Z",
     "shell.execute_reply": "2023-05-29T23:54:54.277092Z",
     "shell.execute_reply.started": "2023-05-29T23:54:54.273394Z"
    }
   },
   "outputs": [
    {
     "data": {
      "text/plain": [
       "(365001, 3)"
      ]
     },
     "execution_count": 108,
     "metadata": {},
     "output_type": "execute_result"
    }
   ],
   "source": [
    "numerical_train_input.shape"
   ]
  },
  {
   "cell_type": "code",
   "execution_count": 111,
   "metadata": {
    "execution": {
     "iopub.execute_input": "2023-05-29T23:55:44.661406Z",
     "iopub.status.busy": "2023-05-29T23:55:44.661233Z",
     "iopub.status.idle": "2023-05-29T23:56:08.210115Z",
     "shell.execute_reply": "2023-05-29T23:56:08.209506Z",
     "shell.execute_reply.started": "2023-05-29T23:55:44.661386Z"
    }
   },
   "outputs": [
    {
     "name": "stdout",
     "output_type": "stream",
     "text": [
      "CPU times: user 52 s, sys: 6.95 s, total: 59 s\n",
      "Wall time: 23.5 s\n"
     ]
    }
   ],
   "source": [
    "%%time\n",
    "train_encodings = tokenizer(X_train['text'].tolist(), truncation=True, padding=True)\n",
    "val_encodings = tokenizer(X_val['text'].tolist(), truncation=True, padding=True)\n",
    "test_encodings = tokenizer(X_test['text'].tolist(), truncation=True, padding=True)\n"
   ]
  },
  {
   "cell_type": "code",
   "execution_count": null,
   "metadata": {},
   "outputs": [],
   "source": []
  },
  {
   "cell_type": "code",
   "execution_count": 112,
   "metadata": {
    "execution": {
     "iopub.execute_input": "2023-05-29T23:56:22.455914Z",
     "iopub.status.busy": "2023-05-29T23:56:22.455373Z",
     "iopub.status.idle": "2023-05-29T23:56:22.523508Z",
     "shell.execute_reply": "2023-05-29T23:56:22.522837Z",
     "shell.execute_reply.started": "2023-05-29T23:56:22.455891Z"
    }
   },
   "outputs": [],
   "source": [
    "max_seq_length = max(max(len(seq) for seq in train_encodings['input_ids']),\n",
    "                     max(len(seq) for seq in val_encodings['input_ids']),\n",
    "                     max(len(seq) for seq in test_encodings['input_ids']))"
   ]
  },
  {
   "cell_type": "code",
   "execution_count": 113,
   "metadata": {
    "execution": {
     "iopub.execute_input": "2023-05-29T23:56:25.064621Z",
     "iopub.status.busy": "2023-05-29T23:56:25.064055Z",
     "iopub.status.idle": "2023-05-29T23:56:25.068268Z",
     "shell.execute_reply": "2023-05-29T23:56:25.067579Z",
     "shell.execute_reply.started": "2023-05-29T23:56:25.064596Z"
    }
   },
   "outputs": [
    {
     "name": "stdout",
     "output_type": "stream",
     "text": [
      "155\n"
     ]
    }
   ],
   "source": [
    "print(max_seq_length)\n",
    "#All tokenized sequences will be padded or truncated to have a length of 155 tokens\n",
    "#Any sequence longer than 155 tokens will be truncated, and any sequence shortedr than 155 tokens will be padded with special tokens or zeros\n"
   ]
  },
  {
   "cell_type": "code",
   "execution_count": 114,
   "metadata": {
    "execution": {
     "iopub.execute_input": "2023-05-29T23:56:27.723018Z",
     "iopub.status.busy": "2023-05-29T23:56:27.722484Z",
     "iopub.status.idle": "2023-05-29T23:56:30.994857Z",
     "shell.execute_reply": "2023-05-29T23:56:30.994189Z",
     "shell.execute_reply.started": "2023-05-29T23:56:27.722996Z"
    },
    "id": "azFc_MidGt8d"
   },
   "outputs": [],
   "source": [
    "train_input_ids = pad_sequences(train_encodings['input_ids'], maxlen=max_seq_length, padding='post', truncating='post')\n",
    "val_input_ids = pad_sequences(val_encodings['input_ids'], maxlen=max_seq_length, padding='post', truncating='post')\n",
    "test_input_ids = pad_sequences(test_encodings['input_ids'], maxlen=max_seq_length, padding='post', truncating='post')\n"
   ]
  },
  {
   "cell_type": "code",
   "execution_count": null,
   "metadata": {},
   "outputs": [],
   "source": [
    "val_input_ids.shape\n"
   ]
  },
  {
   "cell_type": "code",
   "execution_count": 115,
   "metadata": {
    "execution": {
     "iopub.execute_input": "2023-05-29T23:56:35.913121Z",
     "iopub.status.busy": "2023-05-29T23:56:35.912459Z",
     "iopub.status.idle": "2023-05-29T23:56:39.234530Z",
     "shell.execute_reply": "2023-05-29T23:56:39.233758Z",
     "shell.execute_reply.started": "2023-05-29T23:56:35.913096Z"
    }
   },
   "outputs": [],
   "source": [
    "train_attention_masks = pad_sequences(train_encodings['attention_mask'], maxlen=max_seq_length, padding='post', truncating='post')\n",
    "val_attention_masks = pad_sequences(val_encodings['attention_mask'], maxlen=max_seq_length, padding='post', truncating='post')\n",
    "test_attention_masks = pad_sequences(test_encodings['attention_mask'], maxlen=max_seq_length, padding='post', truncating='post')"
   ]
  },
  {
   "cell_type": "code",
   "execution_count": null,
   "metadata": {},
   "outputs": [],
   "source": [
    "val_attention_masks.shape\n",
    "test_attention_masks.shape\n",
    "train_attention_masks.shape"
   ]
  },
  {
   "cell_type": "code",
   "execution_count": null,
   "metadata": {},
   "outputs": [],
   "source": [
    "%load_ext tensorboard\n",
    "\n",
    "import datetime\n",
    "\n",
    "# Clear any logs from previous runs\n",
    "#rm -rf ./logs/"
   ]
  },
  {
   "cell_type": "markdown",
   "metadata": {},
   "source": [
    "LOAD THE MODEL"
   ]
  },
  {
   "cell_type": "code",
   "execution_count": 116,
   "metadata": {
    "execution": {
     "iopub.execute_input": "2023-05-29T23:56:44.311711Z",
     "iopub.status.busy": "2023-05-29T23:56:44.311435Z",
     "iopub.status.idle": "2023-05-29T23:56:44.315918Z",
     "shell.execute_reply": "2023-05-29T23:56:44.315000Z",
     "shell.execute_reply.started": "2023-05-29T23:56:44.311690Z"
    }
   },
   "outputs": [],
   "source": [
    "from tensorflow.keras import Model\n",
    "from tensorflow.keras.layers import Input, Dense, GlobalAveragePooling1D\n",
    "from transformers import TFAutoModel"
   ]
  },
  {
   "cell_type": "code",
   "execution_count": 121,
   "metadata": {
    "execution": {
     "iopub.execute_input": "2023-05-30T00:01:42.673596Z",
     "iopub.status.busy": "2023-05-30T00:01:42.673272Z",
     "iopub.status.idle": "2023-05-30T00:01:42.677415Z",
     "shell.execute_reply": "2023-05-30T00:01:42.676831Z",
     "shell.execute_reply.started": "2023-05-30T00:01:42.673572Z"
    }
   },
   "outputs": [],
   "source": [
    "import keras\n",
    "from keras.models import load_model\n",
    "from transformers import TFBertModel  # or any related classes you might be using\n",
    "custom_objects = {'TFBertModel': TFBertModel, 'haversine_distance': haversine_distance}"
   ]
  },
  {
   "cell_type": "code",
   "execution_count": 122,
   "metadata": {
    "execution": {
     "iopub.execute_input": "2023-05-30T00:01:48.284180Z",
     "iopub.status.busy": "2023-05-30T00:01:48.283629Z",
     "iopub.status.idle": "2023-05-30T00:01:50.424939Z",
     "shell.execute_reply": "2023-05-30T00:01:50.424286Z",
     "shell.execute_reply.started": "2023-05-30T00:01:48.284155Z"
    }
   },
   "outputs": [
    {
     "name": "stdout",
     "output_type": "stream",
     "text": [
      "WARNING:tensorflow:Error in loading the saved optimizer state. As a result, your model is starting with a freshly initialized optimizer.\n"
     ]
    }
   ],
   "source": [
    "model = load_model('/notebooks/model_results/model_keras2.h5', custom_objects=custom_objects)"
   ]
  },
  {
   "cell_type": "code",
   "execution_count": 125,
   "metadata": {
    "execution": {
     "iopub.execute_input": "2023-05-30T00:03:22.420669Z",
     "iopub.status.busy": "2023-05-30T00:03:22.419908Z",
     "iopub.status.idle": "2023-05-30T00:03:22.441249Z",
     "shell.execute_reply": "2023-05-30T00:03:22.440466Z",
     "shell.execute_reply.started": "2023-05-30T00:03:22.420635Z"
    }
   },
   "outputs": [],
   "source": [
    "model.compile(optimizer=optimizer, loss= haversine_distance, metrics=['mse'])"
   ]
  },
  {
   "cell_type": "code",
   "execution_count": 126,
   "metadata": {
    "execution": {
     "iopub.execute_input": "2023-05-30T00:03:46.093401Z",
     "iopub.status.busy": "2023-05-30T00:03:46.093094Z",
     "iopub.status.idle": "2023-05-30T00:11:12.142515Z",
     "shell.execute_reply": "2023-05-30T00:11:12.141791Z",
     "shell.execute_reply.started": "2023-05-30T00:03:46.093376Z"
    }
   },
   "outputs": [
    {
     "name": "stdout",
     "output_type": "stream",
     "text": [
      "3565/3565 [==============================] - 446s 123ms/step - loss: 1334.2502 - mse: 149.9435\n"
     ]
    }
   ],
   "source": [
    "test_loss, test_mse = model.evaluate([numerical_test_input, test_input_ids, test_attention_masks], y_test)"
   ]
  },
  {
   "cell_type": "code",
   "execution_count": null,
   "metadata": {},
   "outputs": [],
   "source": [
    "num_features=3\n"
   ]
  },
  {
   "cell_type": "code",
   "execution_count": null,
   "metadata": {},
   "outputs": [],
   "source": [
    "numerical_input=Input(shape=(num_features,), dtype=tf.float32)"
   ]
  },
  {
   "cell_type": "code",
   "execution_count": null,
   "metadata": {},
   "outputs": [],
   "source": [
    "input_ids = Input(shape=(max_seq_length,), dtype=tf.int32)\n",
    "attention_masks = Input(shape=(max_seq_length,), dtype=tf.int32)"
   ]
  },
  {
   "cell_type": "code",
   "execution_count": null,
   "metadata": {},
   "outputs": [],
   "source": [
    "base_model = TFAutoModel.from_pretrained('bert-base-uncased', trainable=False)(input_ids, attention_mask=attention_masks)[0]\n",
    "#Access [0] to extract only the first element of the output tuple, which represents the hidden state (embeddings from the BERT model)\n",
    "x = GlobalAveragePooling1D()(base_model)\n",
    "concatenated=Concatenate()([numerical_input, x])\n",
    "x = Dense(128, activation='relu')(x)\n",
    "x=Dense(64, activation='relu')(x)\n",
    "output=Dense(2)(x)"
   ]
  },
  {
   "cell_type": "code",
   "execution_count": null,
   "metadata": {},
   "outputs": [],
   "source": [
    "model=Model(inputs=[numerical_input, input_ids, attention_masks], outputs=output)"
   ]
  },
  {
   "cell_type": "code",
   "execution_count": null,
   "metadata": {},
   "outputs": [],
   "source": [
    "#model = Model(inputs=[input_ids, attention_masks], outputs=output)"
   ]
  },
  {
   "cell_type": "code",
   "execution_count": null,
   "metadata": {},
   "outputs": [],
   "source": [
    "print(model.summary())"
   ]
  },
  {
   "cell_type": "code",
   "execution_count": 124,
   "metadata": {
    "execution": {
     "iopub.execute_input": "2023-05-30T00:03:10.466424Z",
     "iopub.status.busy": "2023-05-30T00:03:10.465817Z",
     "iopub.status.idle": "2023-05-30T00:03:10.469605Z",
     "shell.execute_reply": "2023-05-30T00:03:10.469043Z",
     "shell.execute_reply.started": "2023-05-30T00:03:10.466399Z"
    }
   },
   "outputs": [],
   "source": [
    "initial_learning_rate = 0.001\n",
    "\n",
    "# Create the optimizer with the initial learning rate\n",
    "optimizer = Adam(learning_rate=initial_learning_rate)\n",
    "\n",
    "\n"
   ]
  },
  {
   "cell_type": "code",
   "execution_count": null,
   "metadata": {},
   "outputs": [],
   "source": [
    "model.compile(optimizer=optimizer, loss= haversine_distance, metrics=['mse'])"
   ]
  },
  {
   "cell_type": "code",
   "execution_count": null,
   "metadata": {},
   "outputs": [],
   "source": [
    "lr_scheduler = ReduceLROnPlateau(monitor='val_loss', factor=0.1, patience=5, verbose=1)\n",
    "tensorboard = TensorBoard(log_dir='/notebooks/model_graphs')\n",
    "checkpoint = ModelCheckpoint(filepath='/notebooks/model_graphs', monitor='val_loss', save_best_only=True, verbose=1)\n",
    "early_stopping = EarlyStopping(monitor='val_loss', patience=5, verbose=1)\n",
    "tensorboard = TensorBoard(log_dir='/notebooks/model_training_performance')\n",
    "log_dir = \"logs/fit/\" + datetime.datetime.now().strftime(\"%Y%m%d-%H%M%S\")\n",
    "tensorboard_callback = tf.keras.callbacks.TensorBoard(log_dir=log_dir, histogram_freq=1)\n",
    "#lr_scheduler adjusts the learning rate based on predefined rules or conditions. In this case, the metric monitor for improvement is 'val_loss' \n",
    "#factor is the factor by whihc the lr will be reduced (so we are ring by 10%)\n",
    "#patience is the number of epochs with no improvement after which the lr will be reduced\n",
    "#verbose is whether to display a message when the learning rate is reduced\n",
    "#By reducing the lr, the model has a chance to explore different regions of the loss landscape and find better minima\n"
   ]
  },
  {
   "cell_type": "code",
   "execution_count": null,
   "metadata": {},
   "outputs": [],
   "source": [
    "%load_ext tensorboard\n",
    "%tensorboard --logdir /notebooks/model_training_performance\n"
   ]
  },
  {
   "cell_type": "code",
   "execution_count": null,
   "metadata": {},
   "outputs": [],
   "source": [
    "if gpus:\n",
    "    try:\n",
    "        for gpu in gpus:\n",
    "            tf.config.experimental.set_memory_growth(gpu, True)\n",
    "        logical_gpus = tf.config.list_logical_devices('GPU')\n",
    "        print(len(gpus), \"Physical GPUs,\", len(logical_gpus), \"Logical GPUs\")\n",
    "    except RuntimeError as e:\n",
    "        print(e)"
   ]
  },
  {
   "cell_type": "code",
   "execution_count": null,
   "metadata": {},
   "outputs": [],
   "source": [
    "strategy = tf.distribute.OneDeviceStrategy(\"GPU\") if tf.config.list_physical_devices(\"GPU\") else tf.distribute.OneDeviceStrategy(\"CPU\")\n",
    "history=model.fit([numerical_train_input, train_input_ids, train_attention_masks], y_train, validation_data=([numerical_val_input, val_input_ids, val_attention_masks], y_val), epochs=7, batch_size=2000, callbacks=[lr_scheduler, checkpoint, early_stopping, tensorboard, tensorboard_callback])"
   ]
  },
  {
   "cell_type": "code",
   "execution_count": null,
   "metadata": {},
   "outputs": [],
   "source": [
    "history.history"
   ]
  },
  {
   "cell_type": "code",
   "execution_count": null,
   "metadata": {},
   "outputs": [],
   "source": [
    "import json\n",
    "\n",
    "history_dict = {\n",
    "    'loss': history.history['loss'],\n",
    "    'mse': history.history['mse'],\n",
    "    'val_loss': history.history['val_loss'],\n",
    "    'val_mse': history.history['val_mse']\n",
    "}\n",
    "\n",
    "# Save the training history as JSON\n",
    "with open('/notebooks/model_saved/history2.json', 'w') as file:\n",
    "    json.dump(history_dict, file)"
   ]
  },
  {
   "cell_type": "code",
   "execution_count": null,
   "metadata": {},
   "outputs": [],
   "source": [
    "import pandas as pd\n",
    "\n",
    "# Assuming you have the training history dictionary\n",
    "history_dict = {\n",
    "    'loss': [3610.067138671875, 1471.638671875, 1410.470458984375, 1384.9764404296875, 1370.6217041015625, 1362.1329345703125, 1356.255126953125],\n",
    "    'mse': [1168.9366455078125, 175.5557403564453, 162.95565795898438, 158.44879150390625, 155.90530395507812, 154.4400634765625, 153.3901824951172],\n",
    "    'val_loss': [1519.42919921875, 1419.909912109375, 1385.4854736328125, 1368.461669921875, 1357.6578369140625, 1350.5308837890625, 1345.5810546875],\n",
    "    'val_mse': [184.3936309814453, 163.1677703857422, 159.04605102539062, 155.91067504882812, 154.57498168945312, 152.94566345214844, 152.71469116210938],\n",
    "    'lr': [0.001, 0.001, 0.001, 0.001, 0.001, 0.001, 0.001]\n",
    "}\n",
    "\n",
    "# Convert the dictionary to a DataFrame\n",
    "history_df = pd.DataFrame(history_dict)\n",
    "\n",
    "# Specify the file path\n",
    "file_path = '/notebooks/model_results/history2.csv' \n",
    "\n",
    "# Save the DataFrame to a CSV file\n",
    "history_df.to_csv(file_path, index=False)\n",
    "\n",
    "print(f\"The training history has been saved to {file_path}\")"
   ]
  },
  {
   "cell_type": "code",
   "execution_count": null,
   "metadata": {},
   "outputs": [],
   "source": [
    "# Evaluate the model on the test data\n",
    "test_loss, test_mse = model.evaluate([numerical_test_input, test_input_ids, test_attention_masks], y_test)\n"
   ]
  },
  {
   "cell_type": "code",
   "execution_count": null,
   "metadata": {},
   "outputs": [],
   "source": [
    "model.save('/notebooks/model_results/model_keras2.h5')"
   ]
  },
  {
   "cell_type": "code",
   "execution_count": null,
   "metadata": {},
   "outputs": [],
   "source": [
    "import matplotlib.pyplot as plt\n",
    "\n",
    "# Assuming you have the history stored in the 'history' variable\n",
    "loss = history.history['loss']\n",
    "val_loss = history.history['val_loss']\n",
    "mse = history.history['mse']\n",
    "val_mse = history.history['val_mse']\n",
    "lr = history.history['lr']\n",
    "\n",
    "epochs = range(1, len(loss) + 1)\n",
    "\n",
    "# Plotting loss values\n",
    "plt.plot(epochs, loss, 'bo-', label='Training loss')\n",
    "plt.plot(epochs, val_loss, 'ro-', label='Validation loss')\n",
    "plt.title('Training and Validation Loss')\n",
    "plt.xlabel('Epochs')\n",
    "plt.ylabel('Loss')\n",
    "plt.legend()\n",
    "plt.show()\n",
    "\n",
    "# Plotting MSE values\n",
    "plt.plot(epochs, mse, 'bo-', label='Training MSE')\n",
    "plt.plot(epochs, val_mse, 'ro-', label='Validation MSE')\n",
    "plt.title('Training and Validation MSE')\n",
    "plt.xlabel('Epochs')\n",
    "plt.ylabel('MSE')\n",
    "plt.legend()\n",
    "plt.show()\n",
    "\n",
    "# Plotting learning rate values\n",
    "plt.plot(epochs, lr, 'bo-')\n",
    "plt.title('Learning Rate')\n",
    "plt.xlabel('Epochs')\n",
    "plt.ylabel('Learning Rate')\n",
    "plt.show()"
   ]
  },
  {
   "cell_type": "code",
   "execution_count": null,
   "metadata": {},
   "outputs": [],
   "source": [
    "import matplotlib.pyplot as plt\n",
    "\n",
    "# Assuming you have the history stored in the 'history' variable\n",
    "loss = history.history['loss']\n",
    "val_loss = history.history['val_loss']\n",
    "mse = history.history['mse']\n",
    "val_mse = history.history['val_mse']\n",
    "lr = history.history['lr']\n",
    "\n",
    "epochs = range(1, len(loss) + 1)\n",
    "\n",
    "# Plotting loss values\n",
    "plt.plot(epochs, loss, 'b-', label='Training loss')\n",
    "plt.plot(epochs, val_loss, 'r-', label='Validation loss')\n",
    "plt.title('Training and Validation Loss')\n",
    "plt.xlabel('Epochs')\n",
    "plt.ylabel('Loss')\n",
    "plt.grid(True)\n",
    "plt.legend()\n",
    "plt.tight_layout()  # Adjusts the spacing between subplots\n",
    "plt.show()\n",
    "\n",
    "# Plotting MSE values\n",
    "plt.plot(epochs, mse, 'b-', label='Training MSE')\n",
    "plt.plot(epochs, val_mse, 'r-', label='Validation MSE')\n",
    "plt.title('Training and Validation MSE')\n",
    "plt.xlabel('Epochs')\n",
    "plt.ylabel('MSE')\n",
    "plt.grid(True)\n",
    "plt.legend()\n",
    "plt.tight_layout()\n",
    "plt.show()\n",
    "\n",
    "# Plotting learning rate values\n",
    "plt.plot(epochs, lr, 'bo-')\n",
    "plt.title('Learning Rate')\n",
    "plt.xlabel('Epochs')\n",
    "plt.ylabel('Learning Rate')\n",
    "plt.grid(True)\n",
    "plt.tight_layout()\n",
    "plt.show()"
   ]
  },
  {
   "cell_type": "code",
   "execution_count": null,
   "metadata": {},
   "outputs": [],
   "source": [
    "import matplotlib.pyplot as plt\n",
    "\n",
    "test_loss = 1334\n",
    "test_mse = 149\n",
    "\n",
    "# Create a bar plot to visualize test loss and test MSE\n",
    "plt.bar(['Test Loss'], [test_loss], color='lightblue', label='Test Loss')\n",
    "plt.bar(['Test MSE'], [test_mse], color='gray', label='Test MSE')\n",
    "\n",
    "plt.title('Test Set Performance')\n",
    "plt.ylabel('Value')\n",
    "plt.grid(True)\n",
    "plt.legend()\n",
    "plt.tight_layout()\n",
    "plt.show()"
   ]
  }
 ],
 "metadata": {
  "accelerator": "GPU",
  "colab": {
   "provenance": []
  },
  "gpuClass": "premium",
  "kernelspec": {
   "display_name": "Python 3 (ipykernel)",
   "language": "python",
   "name": "python3"
  },
  "language_info": {
   "codemirror_mode": {
    "name": "ipython",
    "version": 3
   },
   "file_extension": ".py",
   "mimetype": "text/x-python",
   "name": "python",
   "nbconvert_exporter": "python",
   "pygments_lexer": "ipython3",
   "version": "3.9.16"
  }
 },
 "nbformat": 4,
 "nbformat_minor": 4
}
